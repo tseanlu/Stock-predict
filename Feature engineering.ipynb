{
 "cells": [
  {
   "cell_type": "code",
   "execution_count": 2,
   "metadata": {},
   "outputs": [
    {
     "name": "stderr",
     "output_type": "stream",
     "text": [
      "C:\\Users\\Andy\\Anaconda3\\lib\\site-packages\\pandas\\compat\\_optional.py:138: UserWarning: Pandas requires version '2.7.0' or newer of 'numexpr' (version '2.6.9' currently installed).\n",
      "  warnings.warn(msg, UserWarning)\n"
     ]
    }
   ],
   "source": [
    "import os\n",
    "import pandas as pd\n",
    "import numpy as np\n",
    "import lightgbm as lgb\n",
    "from sklearn.model_selection import train_test_split\n",
    "from sklearn.metrics import accuracy_score\n",
    "from pypinyin import lazy_pinyin\n",
    "from sklearn.metrics import accuracy_score\n",
    "from sklearn.metrics import precision_score, recall_score\n",
    "from sklearn.metrics import f1_score\n",
    "\n",
    "# Step 1: Change the working directory (update the path accordingly)\n",
    "new_dir = \"C:/Users/Andy/Documents/stock/\"\n",
    "os.chdir(new_dir)\n"
   ]
  },
  {
   "cell_type": "code",
   "execution_count": 5,
   "metadata": {},
   "outputs": [],
   "source": [
    "df = pd.read_csv(\"Trim_train/merged_cleaned_data.csv\")"
   ]
  },
  {
   "cell_type": "code",
   "execution_count": 6,
   "metadata": {},
   "outputs": [
    {
     "name": "stdout",
     "output_type": "stream",
     "text": [
      "{'ID': 'ID', '外資券商_分點進出': 'Foreign securities firms_In and out at every point', '外資券商_分點成交力(%)': 'Foreign securities firm_point trading power (%)', '外資券商_分點吃貨比(%)': 'Foreign securities firms_Second foodie ratio (%)', '外資券商_分點出貨比(%)': 'Foreign securities firms_Point shipment ratio (%)', '外資券商_前1天分點進出': 'Foreign securities firms_In and exit at the first 1 day', '外資券商_前1天分點成交力(%)': 'Foreign securities firm_Trading power in the first 1 day (%)', '外資券商_前1天分點吃貨比(%)': 'Foreign securities firms_Foodies comparison in the first day (%)', '外資券商_前1天分點出貨比(%)': 'Foreign securities firms_Shipping ratio in the first 1 day (%)', '外資券商_前2天分點進出': 'Foreign securities firms_In and exit in the first 2 days', '外資券商_前2天分點成交力(%)': 'Foreign securities firm_Trading power in the first 2 days (%)', '外資券商_前2天分點吃貨比(%)': 'Foreign securities firms_Foodies comparison in the first two days (%)', '外資券商_前2天分點出貨比(%)': 'Foreign securities firms_Shipping ratio in the first two days (%)', '外資券商_前3天分點進出': 'Foreign securities firms_In and exit in the first 3 days', '外資券商_前3天分點成交力(%)': 'Foreign securities firm_Trading power in the first 3 days (%)', '外資券商_前3天分點吃貨比(%)': 'Foreign securities firms_Foodies comparison in the first 3 days (%)', '外資券商_前3天分點出貨比(%)': 'Foreign securities firms_Shipping ratio in the first 3 days (%)', '外資券商_前4天分點進出': 'Foreign securities firms_In and exit in the first 4 days', '外資券商_前4天分點成交力(%)': 'Foreign securities firm_Trading power in the first 4 days (%)', '外資券商_前4天分點吃貨比(%)': 'Foreign-invested brokerage_Foodies in the first 4 days (%)', '外資券商_前4天分點出貨比(%)': 'Foreign securities firms_Shipping ratio in the first 4 days (%)', '外資券商_前5天分點進出': 'Foreign securities firms_In and exit in the first 5 days', '外資券商_前5天分點成交力(%)': 'Foreign securities firm_Trading power in the first 5 days (%)', '外資券商_前5天分點吃貨比(%)': 'Foreign-funded securities firms_Foodies in the first 5 days (%)', '外資券商_前5天分點出貨比(%)': 'Foreign securities firms_Shipping ratio in the first 5 days (%)', '外資券商_前6天分點進出': 'Foreign securities firms_In and exit in the first 6 days', '外資券商_前6天分點成交力(%)': 'Foreign securities firm_Trading power in the first 6 days (%)', '外資券商_前6天分點吃貨比(%)': 'Foreign securities firms_Foodies comparison in the first 6 days (%)', '外資券商_前6天分點出貨比(%)': 'Foreign securities firms_Shipping ratio in the first 6 days (%)', '外資券商_前7天分點進出': 'Foreign securities firms_In and exit in the first 7 days', '外資券商_前7天分點成交力(%)': 'Foreign securities firm_Trading power in the first 7 days (%)', '外資券商_前7天分點吃貨比(%)': 'Foreign-invested brokerage_Foodies in the first 7 days (%)', '外資券商_前7天分點出貨比(%)': 'Foreign securities firms_Shipping ratio in the first 7 days (%)', '外資券商_前8天分點進出': 'Foreign securities firms_In and exit in the first 8 days', '外資券商_前8天分點成交力(%)': 'Foreign securities firm_Trading power in the first 8 days (%)', '外資券商_前8天分點吃貨比(%)': 'Foreign securities firms_Foodies comparison in the first 8 days (%)', '外資券商_前8天分點出貨比(%)': 'Foreign securities firms_Shipping ratio in the first 8 days (%)', '外資券商_前9天分點進出': 'Foreign securities firms_In and exit in the first 9 days', '外資券商_前9天分點成交力(%)': 'Foreign securities firm_Trading power in the first 9 days (%)', '外資券商_前9天分點吃貨比(%)': 'Foreign-invested brokerage_Foodies in the first 9 days (%)', '外資券商_前9天分點出貨比(%)': 'Foreign securities firms_Shipping ratio in the first 9 days (%)', '外資券商_前10天分點進出': 'Foreign securities firms_In and exit in the first 10 days', '外資券商_前10天分點成交力(%)': 'Foreign-invested brokerage firm_Trading power in the first 10 days (%)', '外資券商_前10天分點吃貨比(%)': 'Foreign-invested brokerage_Foodies in the first 10 days (%)', '外資券商_前10天分點出貨比(%)': 'Foreign securities firms_Shipping ratio in the first 10 days (%)', '外資券商_前11天分點進出': 'Foreign securities firms_In and exit at the first 11 days', '外資券商_前11天分點成交力(%)': 'Foreign securities firm_Trading power in the first 11 days (%)', '外資券商_前11天分點吃貨比(%)': 'Foreign-invested brokerage_Foodies in the first 11 days (%)', '外資券商_前11天分點出貨比(%)': 'Foreign securities firms_Shipping ratio in the first 11 days (%)', '外資券商_前12天分點進出': 'Foreign securities firms_In and exit in the first 12 days', '外資券商_前12天分點成交力(%)': 'Foreign-invested brokerage_Trading power in the first 12 days (%)', '外資券商_前12天分點吃貨比(%)': 'Foreign-invested brokerage_Foodies in the first 12 days (%)', '外資券商_前12天分點出貨比(%)': 'Foreign-invested brokerage_Shipping ratio in the first 12 days (%)', '外資券商_前13天分點進出': 'Foreign securities firms_In and exit in the first 13 days', '外資券商_前13天分點成交力(%)': 'Foreign securities firm_Trading power in the first 13 days (%)', '外資券商_前13天分點吃貨比(%)': 'Foreign securities firms_Foodies in the first 13 days (%)', '外資券商_前13天分點出貨比(%)': 'Foreign securities firms_Shipping ratio in the first 13 days (%)', '外資券商_前14天分點進出': 'Foreign securities firms_In and exit in the first 14 days', '外資券商_前14天分點成交力(%)': 'Foreign securities firm_Trading power in the first 14 days (%)', '外資券商_前14天分點吃貨比(%)': 'Foreign securities firms_Foodies in the first 14 days (%)', '外資券商_前14天分點出貨比(%)': 'Foreign securities firms_Shipping ratio in the first 14 days (%)', '外資券商_前15天分點進出': 'Foreign securities firms_In and exit in the first 15 days', '外資券商_前15天分點成交力(%)': 'Foreign-invested brokerage_Trading power in the first 15 days (%)', '外資券商_前15天分點吃貨比(%)': 'Foreign-invested brokerage_Foodies in the first 15 days (%)', '外資券商_前15天分點出貨比(%)': 'Foreign securities firms_Shipping ratio in the first 15 days (%)', '外資券商_前16天分點進出': 'Foreign securities firms_In and exit in the first 16 days', '外資券商_前16天分點成交力(%)': 'Foreign securities firm_Trading power in the first 16 days (%)', '外資券商_前16天分點吃貨比(%)': 'Foreign securities firms_Foodies in the first 16 days (%)', '外資券商_前16天分點出貨比(%)': 'Foreign-invested brokerage_Shipping ratio in the first 16 days (%)', '外資券商_前17天分點進出': 'Foreign securities firms_In and exit in the first 17 days', '外資券商_前17天分點成交力(%)': 'Foreign securities firm_Trading power in the first 17 days (%)', '外資券商_前17天分點吃貨比(%)': 'Foreign-invested brokerage_Foodies in the first 17 days (%)', '外資券商_前17天分點出貨比(%)': 'Foreign securities firms_Shipping ratio in the first 17 days (%)', '外資券商_前18天分點進出': 'Foreign securities firms_In and exit in the first 18 days', '外資券商_前18天分點成交力(%)': 'Foreign securities firm_Trading power in the first 18 days (%)', '外資券商_前18天分點吃貨比(%)': 'Foreign-invested brokerage_Foodies in the first 18 days (%)', '外資券商_前18天分點出貨比(%)': 'Foreign securities firms_Shipping ratio in the first 18 days (%)', '外資券商_前19天分點進出': 'Foreign securities firms_In and exit in the first 19 days', '外資券商_前19天分點成交力(%)': 'Foreign securities firm_Trading power in the first 19 days (%)', '外資券商_前19天分點吃貨比(%)': 'Foreign securities firms_Foodies in the first 19 days (%)', '外資券商_前19天分點出貨比(%)': 'Foreign securities firms_Shipping ratio in the first 19 days (%)', '外資券商_前20天分點進出': 'Foreign securities firms_In and exit in the first 20 days', '外資券商_前20天分點成交力(%)': 'Foreign-invested brokerage_Trading power in the first 20 days (%)', '外資券商_前20天分點吃貨比(%)': 'Foreign-invested brokerage_Foodies in the first 20 days (%)', '外資券商_前20天分點出貨比(%)': 'Foreign-invested brokerage_Shipping ratio in the first 20 days (%)', '主力券商_分點進出': 'Main brokerage firm_In and out at every point', '主力券商_分點成交力(%)': 'Main brokerage firm_Point trading power (%)', '主力券商_分點吃貨比(%)': 'Main brokerage firms_Second foodie comparison (%)', '主力券商_分點出貨比(%)': 'Main brokerage firm_Point shipment ratio (%)', '主力券商_前1天分點進出': 'Main brokerage firm_In and exit at the first 1 day', '主力券商_前1天分點成交力(%)': 'Main brokerage_Trading power in the first 1 day (%)', '主力券商_前1天分點吃貨比(%)': 'Main brokerage_Foodies comparison in the first day (%)', '主力券商_前1天分點出貨比(%)': 'Main brokerage_Shipping ratio in the first 1 day point (%)', '主力券商_前2天分點進出': 'Main brokerage_In and exit at the first 2 days', '主力券商_前2天分點成交力(%)': 'Main brokerage_Trading power in the first 2 days (%)', '主力券商_前2天分點吃貨比(%)': 'Main brokerage_Foodies comparison in the first two days (%)', '主力券商_前2天分點出貨比(%)': 'Main brokerage firm_Shipping ratio in the first 2 days (%)', '主力券商_前3天分點進出': 'Main brokerage firm_In and exit at the first 3 days', '主力券商_前3天分點成交力(%)': 'Main brokerage firm_Trading power in the first 3 days (%)', '主力券商_前3天分點吃貨比(%)': 'Main brokerage_Foodies comparison in the first 3 days (%)', '主力券商_前3天分點出貨比(%)': 'Main brokerage_Shipping ratio in the first 3 days (%)', '主力券商_前4天分點進出': 'Main brokerage firm_In and exit in the first 4 days', '主力券商_前4天分點成交力(%)': 'Main brokerage firm_Trading power in the first 4 days (%)', '主力券商_前4天分點吃貨比(%)': 'Main brokerage_Foodies comparison in the first 4 days (%)', '主力券商_前4天分點出貨比(%)': 'Main brokerage firm_Shipping ratio in the first 4 days (%)', '主力券商_前5天分點進出': 'Main brokerage firm_In and exit in the first 5 days', '主力券商_前5天分點成交力(%)': 'Main brokerage firm_Trading power in the first 5 days (%)', '主力券商_前5天分點吃貨比(%)': 'Main brokerage_Foodies comparison in the first 5 days (%)', '主力券商_前5天分點出貨比(%)': 'Main brokerage firm_Shipping ratio in the first 5 days (%)', '主力券商_前6天分點進出': 'Main brokerage firm_In and exit at the first 6 days', '主力券商_前6天分點成交力(%)': 'Main brokerage firm_Trading power in the first 6 days (%)', '主力券商_前6天分點吃貨比(%)': 'Main brokerage_Foodies comparison in the first 6 days (%)', '主力券商_前6天分點出貨比(%)': 'Main brokerage firm_Shipping ratio in the first 6 days (%)', '主力券商_前7天分點進出': 'Main brokerage firm_In and exit at the first 7 days', '主力券商_前7天分點成交力(%)': 'Main brokerage firm_Trading power in the first 7 days (%)', '主力券商_前7天分點吃貨比(%)': 'Main brokerage_Foodies in the first 7 days (%)', '主力券商_前7天分點出貨比(%)': 'Main brokerage firm_Shipping ratio in the first 7 days (%)', '主力券商_前8天分點進出': 'Main brokerage firm_In and exit at the first 8 days', '主力券商_前8天分點成交力(%)': 'Main brokerage firm_Trading power in the first 8 days (%)', '主力券商_前8天分點吃貨比(%)': 'Main brokerage_Foodies in the first 8 days (%)', '主力券商_前8天分點出貨比(%)': 'Main brokerage firm_Shipping ratio in the first 8 days (%)', '主力券商_前9天分點進出': 'Main brokerage firm_In and exit at the first 9 days', '主力券商_前9天分點成交力(%)': 'Main brokerage_Trading power in the first 9 days (%)', '主力券商_前9天分點吃貨比(%)': 'Main brokerage_Foodies comparison in the first 9 days (%)', '主力券商_前9天分點出貨比(%)': 'Main brokerage firm_Shipping ratio in the first 9 days (%)', '主力券商_前10天分點進出': 'Main brokerage_In and exit in the first 10 days', '主力券商_前10天分點成交力(%)': 'Main brokerage_Trading power in the first 10 days (%)', '主力券商_前10天分點吃貨比(%)': 'Main brokerage_Foodies in the first 10 days (%)', '主力券商_前10天分點出貨比(%)': 'Main brokerage firm_Shipping ratio in the first 10 days (%)', '主力券商_前11天分點進出': 'Main brokerage firm_In and exit at the first 11 days', '主力券商_前11天分點成交力(%)': 'Main brokerage_Trading power in the first 11 days (%)', '主力券商_前11天分點吃貨比(%)': 'Main brokerage_Foodies comparison in the first 11 days (%)', '主力券商_前11天分點出貨比(%)': 'Main brokerage firm_Shipping ratio in the first 11 days (%)', '主力券商_前12天分點進出': 'Main brokerage_In and exit at the first 12 days', '主力券商_前12天分點成交力(%)': 'Main brokerage_Trading power in the first 12 days (%)', '主力券商_前12天分點吃貨比(%)': 'Main brokerage_Foodies comparison in the first 12 days (%)', '主力券商_前12天分點出貨比(%)': 'Main brokerage_Shipping ratio in the first 12 days (%)', '主力券商_前13天分點進出': 'Main brokerage firm_In and exit at the first 13 days', '主力券商_前13天分點成交力(%)': 'Main brokerage firm_Trading power in the first 13 days (%)', '主力券商_前13天分點吃貨比(%)': 'Main brokerage_Foodies in the first 13 days (%)', '主力券商_前13天分點出貨比(%)': 'Main brokerage_Shipping ratio in the first 13 days (%)', '主力券商_前14天分點進出': 'Main brokerage firm_In and exit in the first 14 days', '主力券商_前14天分點成交力(%)': 'Main brokerage firm_Trading power in the first 14 days (%)', '主力券商_前14天分點吃貨比(%)': 'Main brokerage_Foodies in the first 14 days (%)', '主力券商_前14天分點出貨比(%)': 'Main brokerage firm_Shipping ratio in the first 14 days (%)', '主力券商_前15天分點進出': 'Main brokerage firm_In and exit in the first 15 days', '主力券商_前15天分點成交力(%)': 'Main brokerage firm_Trading power in the first 15 days (%)', '主力券商_前15天分點吃貨比(%)': 'Main brokerage_Foodies in the first 15 days (%)', '主力券商_前15天分點出貨比(%)': 'Main brokerage firm_Shipping ratio in the first 15 days (%)', '主力券商_前16天分點進出': 'Main brokerage firm_In and exit at the first 16 days', '主力券商_前16天分點成交力(%)': 'Main brokerage firm_Trading power in the first 16 days (%)', '主力券商_前16天分點吃貨比(%)': 'Main brokerage_Foodies in the first 16 days (%)', '主力券商_前16天分點出貨比(%)': 'Main brokerage firm_Shipping ratio in the first 16 days (%)', '主力券商_前17天分點進出': 'Main brokerage_In and exit at the first 17 days', '主力券商_前17天分點成交力(%)': 'Main brokerage_Trading power in the first 17 days (%)', '主力券商_前17天分點吃貨比(%)': 'Main brokerage_Foodies in the first 17 days (%)', '主力券商_前17天分點出貨比(%)': 'Main brokerage firm_Shipping ratio in the first 17 days (%)', '主力券商_前18天分點進出': 'Main brokerage firm_In and exit in the first 18 days', '主力券商_前18天分點成交力(%)': 'Main brokerage_Trading power in the first 18 days (%)', '主力券商_前18天分點吃貨比(%)': 'Main brokerage firm_Foodies in the first 18 days (%)', '主力券商_前18天分點出貨比(%)': 'Main brokerage firm_Shipping ratio in the first 18 days (%)', '主力券商_前19天分點進出': 'Main brokerage firm_In and exit in the first 19 days', '主力券商_前19天分點成交力(%)': 'Main brokerage firm_Trading power in the first 19 days (%)', '主力券商_前19天分點吃貨比(%)': 'Main brokerage_Foodies in the first 19 days (%)', '主力券商_前19天分點出貨比(%)': 'Main brokerage firm_Shipping ratio in the first 19 days (%)', '主力券商_前20天分點進出': 'Main brokerage firm_In and exit in the first 20 days', '主力券商_前20天分點成交力(%)': 'Main brokerage firm_Trading power in the first 20 days (%)', '主力券商_前20天分點吃貨比(%)': 'Main brokerage_Foodies in the first 20 days (%)', '主力券商_前20天分點出貨比(%)': 'Main brokerage_Shipping ratio in the first 20 days (%)', '官股券商_張增減': 'Official stock brokerage firm_Zhang Zengjiu', '官股券商_金額增減(千)': 'Official stock brokerage firm_Amount increase and decrease (thousands)', '官股券商_買張': 'Official stock brokerage firm_buy', '官股券商_賣張': 'Official stock brokerage firm_Selling', '官股券商_庫存': 'Official stock brokerage_Inventory', '官股券商_買金額(千)': 'Official stock brokerage firm_Buy amount (thousand)', '官股券商_賣金額(千)': 'Official stock brokerage firm_sell amount (thousand)', '官股券商_買筆數': 'Official stock brokerage firm_number of purchases', '官股券商_賣筆數': 'Official stock brokerage firm_number of selling transactions', '官股券商_買均張': 'Official stock brokerage firm_Buy Jun Zhang', '官股券商_賣均張': 'Official stock brokerage firm_Selling all-time', '官股券商_買均價': 'Official stock brokerage firm_average buying price', '官股券商_賣均價': 'Official stock brokerage firm_Average selling price', '官股券商_持股比率(%)': 'Official stock brokerage firm_Stakeholding ratio (%)', '官股券商_持股市值(千)': 'Official stock brokerage firm_Stock market value (thousands)', '官股券商_買均值(千)': 'Official stock brokerage firm_Buy average (thousand)', '官股券商_賣均值(千)': 'Official stock brokerage firm_Sell average (thousand)', '個股券商分點籌碼分析_分點交易熱門度(%)': 'Analysis of individual stock brokerage chips for point trading_Popularity of point trading (%)', '個股券商分點籌碼分析_分點買進熱門度(%)': 'Analysis of individual stock brokerage chips in points_Popularity of buying in points (%)', '個股券商分點籌碼分析_分點賣出熱門度(%)': 'Analysis of individual stock brokerage chips in points_Popularity of selling points (%)', '個股券商分點籌碼分析_交易買進佔有率(%)': 'Analysis of individual stock brokerage chips_trading buying share (%)', '個股券商分點籌碼分析_交易賣出佔有率(%)': 'Analysis of individual stock brokerage chips_Trading selling share (%)', '個股券商分點籌碼分析_交易買賣佔有率(%)': 'Analysis of individual stock brokerage chips_Trading and trading share (%)', '個股券商分點籌碼分析_買進分佈係數': 'Analysis of individual stock brokerage chips_buy distribution coefficient', '個股券商分點籌碼分析_近5日買進分佈係數': 'Analysis of individual stock brokerage chips_Buy distribution coefficient in the past 5 days', '個股券商分點籌碼分析_近20日買進分佈係數': 'Analysis of individual stock brokerage chips_buy distribution coefficient in the past 20 days', '個股券商分點籌碼分析_近60日買進分佈係數': 'Analysis of individual stock brokerage chips_buy distribution coefficient in the past 60 days', '個股券商分點籌碼分析_賣出分佈係數': 'Analysis of individual stock brokerage chips_sell distribution coefficient', '個股券商分點籌碼分析_近5日賣出分佈係數': 'Analysis of individual stock brokerage chips_Selling distribution coefficient in the past 5 days', '個股券商分點籌碼分析_近20日賣出分佈係數': 'Analysis of individual stock brokerage chips_Selling distribution coefficient in the past 20 days', '個股券商分點籌碼分析_近60日賣出分佈係數': 'Analysis of individual stock brokerage chips_Selling distribution coefficient in the past 60 days', '個股券商分點籌碼分析_買賣分佈係數差值': 'Analysis of individual stock brokerage chips_Difference of trading distribution coefficient', '個股券商分點區域分析_近1日買超1公司區域密度': 'Regional analysis of individual stock brokerage firms_Buy more than 1 company regional density in the past 1 day', '個股券商分點區域分析_近1日買超3公司區域密度': 'Regional analysis of individual stock brokerage firms_In the past 1 day, more than 3 companies have bought regional density', '個股券商分點區域分析_近1日買超5公司區域密度': 'Regional analysis of individual stock brokerage firms_In the past 1 day, more than 5 companies have been bought', '個股券商分點區域分析_近5日買超1公司區域密度': 'Analysis of individual stock brokerage points in area_Buy more than 1 company area density in the past 5 days', '個股券商分點區域分析_近5日買超3公司區域密度': 'Regional analysis of individual stock brokerage firms_In the past 5 days, more than 3 companies have been bought in the past 5 years', '個股券商分點區域分析_近5日買超5公司區域密度': 'Analysis of individual stock brokerage points_The regional density of more than 5 companies in the past 5 days', '個股券商分點區域分析_近20日買超1公司區域密度': 'Regional analysis of individual stock brokerage firms_In the past 20 days, more than 1 company regional density', '個股券商分點區域分析_近20日買超3公司區域密度': 'Regional analysis of individual stock brokerage firms_In the past 20 days, more than 3 companies have been bought', '個股券商分點區域分析_近20日買超5公司區域密度': 'Regional analysis of individual stock brokerage firms_In the past 20 days, more than 5 companies have been bought', '個股券商分點區域分析_近60日買超1公司區域密度': 'Regional analysis of individual stock brokerage firms_Buy more than 1 company regional density in the past 60 days', '個股券商分點區域分析_近60日買超3公司區域密度': 'Regional analysis of individual stock brokerage firms_In the past 60 days, more than 3 companies have been bought', '個股券商分點區域分析_近60日買超5公司區域密度': 'Regional analysis of individual stock brokerage firms_In the past 60 days, more than 5 companies have been bought', '個股券商分點區域分析_近1日賣超1公司區域密度': 'Analysis of individual stock brokerage points in area_The regional density of more than 1 company sold in the past 1 day', '個股券商分點區域分析_近1日賣超3公司區域密度': 'Regional analysis of individual stock brokerage firms_Selling more than 3 companies in the past 1 day', '個股券商分點區域分析_近1日賣超5公司區域密度': 'Regional analysis of individual stock brokerage firms_In the past 1 day, the regional density of more than 5 companies sold', '個股券商分點區域分析_近5日賣超1公司區域密度': \"Analysis of individual stock brokerage points in area_Selling more than 1 company's regional density in the past 5 days\", '個股券商分點區域分析_近5日賣超3公司區域密度': 'Regional analysis of individual stock brokerage firms_In the past 5 days, the regional density of more than 3 companies', '個股券商分點區域分析_近5日賣超5公司區域密度': 'Analysis of individual stock brokerage points in area_The regional density of more than 5 companies sold in the past 5 days', '個股券商分點區域分析_近20日賣超1公司區域密度': 'Regional analysis of individual stock brokerage firms_In the past 20 days, the regional density of more than 1 company', '個股券商分點區域分析_近20日賣超3公司區域密度': 'Regional analysis of individual stock brokerage firms_In the past 20 days, the regional density of companies sold more than 3', '個股券商分點區域分析_近20日賣超5公司區域密度': 'Regional analysis of individual stock brokerage firms_In the past 20 days, the regional density of more than 5 companies sold', '個股券商分點區域分析_近60日賣超1公司區域密度': \"Regional analysis of individual stock brokerage firms_In the past 60 days, more than 1 company's regional density\", '個股券商分點區域分析_近60日賣超3公司區域密度': 'Regional analysis of individual stock brokerage firms_Selling more than 3 companies in the past 60 days', '個股券商分點區域分析_近60日賣超5公司區域密度': 'Regional analysis of individual stock brokerage firms_In the past 60 days, more than 5 companies sold in the region', '個股券商分點區域分析_近1日成交1公司區域密度': 'Area analysis of individual stock brokerage firms_Regional density of 1 company in the past 1 day', '個股券商分點區域分析_近1日成交3公司區域密度': 'Area analysis of individual stock brokerage firms_Regional density of 3 companies in the past 1 day', '個股券商分點區域分析_近1日成交5公司區域密度': 'Regional analysis of individual stock brokerage firms_Regional density of 5 companies in the past 1 day', '個股券商分點區域分析_近5日成交1公司區域密度': 'Regional analysis of individual stock brokerage firms_Regional density of 1 company in the past 5 days', '個股券商分點區域分析_近5日成交3公司區域密度': 'Regional analysis of individual stock brokerage firms_Regional density of 3 companies in the past 5 days', '個股券商分點區域分析_近5日成交5公司區域密度': 'Regional analysis of individual stock brokerage firms_Regional density of 5 companies in the past 5 days', '個股券商分點區域分析_近20日成交1公司區域密度': 'Regional analysis of individual stock brokerage firms_Regional density of 1 company in the past 20 days', '個股券商分點區域分析_近20日成交3公司區域密度': 'Regional analysis of individual stock brokerage firms_Regional density of 3 companies in the past 20 days', '個股券商分點區域分析_近20日成交5公司區域密度': 'Regional analysis of individual stock brokerage firms_Regional density of 5 companies in the past 20 days', '個股券商分點區域分析_近60日成交1公司區域密度': 'Regional analysis of individual stock brokerage firms_Regional density of 1 company in the past 60 days', '個股券商分點區域分析_近60日成交3公司區域密度': 'Regional analysis of individual stock brokerage firms_Regional density of 3 companies in the past 60 days', '個股券商分點區域分析_近60日成交5公司區域密度': 'Regional analysis of individual stock brokerage firms_Regional density of 5 companies in the past 60 days', '個股券商分點區域分析_近1日買超2分點區域密度': 'Analysis of individual stock brokerage points area_Buy more than 2 points area area density in the past 1 day', '個股券商分點區域分析_近1日買超3分點區域密度': 'Analysis of individual stock brokerage points area_Buy more than 3 minutes area area density in the past 1 day', '個股券商分點區域分析_近1日買超5分點區域密度': 'Analysis of individual stock brokerage points area_Buy more than 5 minutes area area density in the past 1 day', '個股券商分點區域分析_近5日買超2分點區域密度': 'Analysis of individual stock brokerage points area_Buy more than 2 points area area density in the past 5 days', '個股券商分點區域分析_近5日買超3分點區域密度': 'Analysis of individual stock brokerage points area_Buy more than 3 minutes area area density in the past 5 days', '個股券商分點區域分析_近5日買超5分點區域密度': 'Analysis of individual stock brokerage points area_Buy more than 5 minutes area area density in the past 5 days', '個股券商分點區域分析_近20日買超2分點區域密度': 'Analysis of individual stock brokerage points area_Buy more than 2 minutes area area density in the past 20 days', '個股券商分點區域分析_近20日買超3分點區域密度': 'Analysis of individual stock brokerage points area_Buy more than 3 minutes area area density in the past 20 days', '個股券商分點區域分析_近20日買超5分點區域密度': 'Analysis of individual stock brokerage points area_Buy more than 5 minutes area area density in the past 20 days', '個股券商分點區域分析_近60日買超2分點區域密度': 'Analysis of individual stock brokerage points area_Buy more than 2 points area area density in the past 60 days', '個股券商分點區域分析_近60日買超3分點區域密度': 'Analysis of individual stock brokerage points area_Buy more than 3 minutes area area density in the past 60 days', '個股券商分點區域分析_近60日買超5分點區域密度': 'Analysis of individual stock brokerage points area_Buy more than 5 minutes area area density in the past 60 days', '個股券商分點區域分析_近1日賣超2分點區域密度': 'Analysis of individual stock brokerage points area_Selling area density exceeds 2 points in the past 1 day', '個股券商分點區域分析_近1日賣超3分點區域密度': 'Analysis of individual stock brokerage points area_Selling area density exceeds 3 minutes in the past 1 day', '個股券商分點區域分析_近1日賣超5分點區域密度': 'Analysis of individual stock brokerage points area_Selling area density of more than 5 minutes in the past 1 day', '個股券商分點區域分析_近5日賣超2分點區域密度': 'Analysis of individual stock brokerage points area_Selling area density of more than 2 points in the past 5 days', '個股券商分點區域分析_近5日賣超3分點區域密度': 'Analysis of individual stock brokerage points area_Selling area density exceeds 3 minutes in the past 5 days', '個股券商分點區域分析_近5日賣超5分點區域密度': 'Analysis of individual stock brokerage points area_Selling area density of more than 5 minutes in the past 5 days', '個股券商分點區域分析_近20日賣超2分點區域密度': 'Analysis of individual stock brokerage points area_Selling area density of more than 2 minutes in the past 20 days', '個股券商分點區域分析_近20日賣超3分點區域密度': 'Analysis of individual stock brokerage points area_Selling area density exceeds 3 minutes in the past 20 days', '個股券商分點區域分析_近20日賣超5分點區域密度': 'Analysis of individual stock brokerage points area_Selling area density of more than 5 minutes in the past 20 days', '個股券商分點區域分析_近60日賣超2分點區域密度': 'Analysis of individual stock brokerage points area_Selling area density of more than 2 points in the past 60 days', '個股券商分點區域分析_近60日賣超3分點區域密度': 'Analysis of individual stock brokerage points area_Selling area density of more than 3 minutes in the past 60 days', '個股券商分點區域分析_近60日賣超5分點區域密度': 'Analysis of individual stock brokerage points area_Selling area density of more than 5 minutes in the past 60 days', '個股券商分點區域分析_近1日成交2分點區域密度': 'Analysis of individual stock brokerage points area_Trading area density of 2 minutes in the past 1 day', '個股券商分點區域分析_近1日成交3分點區域密度': 'Analysis of individual stock brokerage points area_Trading area density of 3 minutes in the past 1 day', '個股券商分點區域分析_近1日成交5分點區域密度': 'Analysis of individual stock brokerage points area_Trading area density of 5 minutes in the past 1 day', '個股券商分點區域分析_近5日成交2分點區域密度': 'Analysis of individual stock brokerage points area_Trading 2 minutes area area density in the past 5 days', '個股券商分點區域分析_近5日成交3分點區域密度': 'Analysis of individual stock brokerage points area_Trading area density of 3 minutes in the past 5 days', '個股券商分點區域分析_近5日成交5分點區域密度': 'Analysis of individual stock brokerage points area_Trading area density of 5 minutes in the past 5 days', '個股券商分點區域分析_近20日成交2分點區域密度': 'Analysis of individual stock brokerage points area_Trading 2 minutes area area density in the past 20 days', '個股券商分點區域分析_近20日成交3分點區域密度': 'Analysis of individual stock brokerage points area_Trading area density of 3 minutes in the past 20 days', '個股券商分點區域分析_近20日成交5分點區域密度': 'Analysis of individual stock brokerage points area_Trading area density of 5 minutes in the past 20 days', '個股券商分點區域分析_近60日成交2分點區域密度': 'Analysis of individual stock brokerage points area_Trading 2 minutes area area density in the past 60 days', '個股券商分點區域分析_近60日成交3分點區域密度': 'Analysis of individual stock brokerage points area_Trading area density of 3 minutes in the past 60 days', '個股券商分點區域分析_近60日成交5分點區域密度': 'Analysis of individual stock brokerage points area_Trading area density of 5 minutes in the past 60 days', '個股券商分點區域分析_近1日買超5與公司接近比例': 'Analysis of individual stock brokerage points area_Buy more than 5 in the past 1 day close to the proportion of the company', '個股券商分點區域分析_近5日買超5與公司接近比例': 'Analysis of individual stock brokerage points area_Buy more than 5 in the past 5 days and close to the company', '個股券商分點區域分析_近20日買超5與公司接近比例': 'Analysis of individual stock brokerage points_The proportion of buying more than 5 in the past 20 days is close to the company', '個股券商分點區域分析_近60日買超5與公司接近比例': 'Analysis of individual stock brokerage points in area_The ratio of buying more than 5 in the past 60 days is close to the company', '個股券商分點區域分析_近1日賣超5與公司接近比例': 'Analysis of individual stock brokerage points area_Selling more than 5 in the past 1 day is close to the proportion of the company', '個股券商分點區域分析_近5日賣超5與公司接近比例': 'Analysis of individual stock brokerage points area_Selling more than 5 in the past 5 days is close to the proportion of the company', '個股券商分點區域分析_近20日賣超5與公司接近比例': 'Analysis of individual stock brokerage points area_Selling more than 5 in the past 20 days is close to the proportion of the company', '個股券商分點區域分析_近60日賣超5與公司接近比例': 'Analysis of individual stock brokerage points in area_Selling more than 5 in the past 60 days is close to the proportion of the company', '個股券商分點區域分析_近1日成交5與公司接近比例': 'Analysis of individual stock brokerage points area_The proportion of transactions of 5 in the past 1 day is close to that of the company', '個股券商分點區域分析_近5日成交5與公司接近比例': 'Analysis of individual stock brokerage points area_The proportion of 5 transactions in the past 5 days is close to the company', '個股券商分點區域分析_近20日成交5與公司接近比例': 'Analysis of individual stock brokerage points area_The proportion of transactions of 5 in the past 20 days is close to that of the company', '個股券商分點區域分析_近60日成交5與公司接近比例': 'Analysis of individual stock brokerage points area_The proportion of transactions of 5 in the past 60 days is close to that of the company', '個股券商分點區域分析_近1日買超5分點間接近比例': 'Analysis of individual stock brokerage points area_Buy more than 5 points in the past 1 day in the past 1', '個股券商分點區域分析_近5日買超5分點間接近比例': 'Analysis of individual stock brokerage points area_Buy more than 5 minutes in the past 5 days and close to the proportion', '個股券商分點區域分析_近20日買超5分點間接近比例': 'Analysis of individual stock brokerage points area_Buy more than 5 points in the past 20 days', '個股券商分點區域分析_近60日買超5分點間接近比例': 'Analysis of individual stock brokerage points area_Buy more than 5 points in the past 60 days', '個股券商分點區域分析_近1日賣超5分點間接近比例': 'Analysis of individual stock brokerage points area_Selling more than 5 minutes in the past 1 day is close to the proportion', '個股券商分點區域分析_近5日賣超5分點間接近比例': 'Analysis of individual stock brokerage points area_Selling more than 5 minutes in the past 5 days is close to the proportion', '個股券商分點區域分析_近20日賣超5分點間接近比例': 'Analysis of individual stock brokerage points in points_The proportion in the past 20 days when selling more than 5 minutes is indirect', '個股券商分點區域分析_近60日賣超5分點間接近比例': 'Analysis of individual stock brokerage points area_Selling more than 5 minutes in the past 60 days is close to the proportion', '個股券商分點區域分析_近1日成交5分點間接近比例': 'Analysis of individual stock brokerage points area_The transaction rate is close to 5 minutes in the past 1 day', '個股券商分點區域分析_近5日成交5分點間接近比例': 'Analysis of individual stock brokerage points area_The transaction rate is close to 5 minutes in the past 5 days', '個股券商分點區域分析_近20日成交5分點間接近比例': 'Analysis of individual stock brokerage points area_The transaction rate is close to 5 minutes in the past 20 days', '個股券商分點區域分析_近60日成交5分點間接近比例': 'Analysis of individual stock brokerage points area_The transaction rate is close to 5 minutes in the past 60 days', '個股主力買賣超統計_近1日主力買賣超': 'Statistics of the main trading of individual stocks_The main trading of the last 1 day', '個股主力買賣超統計_近1日主力買賣超(%)': 'Statistics of the main trading of individual stocks_The main trading of the last 1 day exceeded (%)', '個股主力買賣超統計_近5日主力買賣超': 'Statistics of the main trading of individual stocks_The main trading of the last 5 days', '個股主力買賣超統計_近5日主力買賣超(%)': 'Statistics of the main trading of individual stocks_The main trading of the last 5 days exceeded (%)', '個股主力買賣超統計_近10日主力買賣超': 'Statistics of the main trading of individual stocks_The main trading of the last 10 days', '個股主力買賣超統計_近10日主力買賣超(%)': 'Statistics of the main trading of individual stocks_The main trading of the last 10 days exceeded (%)', '個股主力買賣超統計_近20日主力買賣超': 'Statistics of the main trading of individual stocks_The main trading of the last 20 days', '個股主力買賣超統計_近20日主力買賣超(%)': 'Statistics of the main trading of individual stocks_The main trading of the last 20 days exceeded (%)', '個股主力買賣超統計_近60日主力買賣超': 'Statistics of the main trading of individual stocks_The main trading of the last 60 days', '個股主力買賣超統計_近60日主力買賣超(%)': 'Statistics of the main trading of individual stocks_The main trading of the last 60 days exceeded (%)', '個股主力買賣超統計_近120日主力買賣超': 'Statistics of the main trading of individual stocks_The main trading of the last 120 days', '個股主力買賣超統計_近120日主力買賣超(%)': 'Statistics of the main trading of individual stocks_The main trading of the last 120 days exceeded (%)', '個股主力買賣超統計_近240日主力買賣超': 'Statistics of the main trading of individual stocks_The main trading of the last 240 days', '個股主力買賣超統計_近240日主力買賣超(%)': 'Statistics of the main trading of individual stocks_The main trading of the last 240 days exceeded (%)', '個股主力買賣超統計_主力成本線': 'Exceeded statistics on the main buying and selling of individual stocks_main cost line', '日外資_外資買張': 'Foreign capital in Japan_Foreign capital buying', '日外資_外資賣張': 'Japanese foreign capital_Foreign capital selling', '日外資_外資買賣超': 'Japanese foreign investment_Foreign investment transactions', '日外資_外資持股異動': 'Foreign capital Japanese_Extraordinary movement of foreign capital holdings', '日外資_外資持股張數': 'Japanese foreign capital_Foreign capital holdings Zhang Shu', '日外資_外資買金額(千)': 'Japanese foreign capital_Foreign capital purchase amount (thousand)', '日外資_外資賣金額(千)': 'Japanese foreign capital_Foreign capital selling amount (thousands)', '日外資_外資買賣超金額(千)': 'Japanese foreign capital_Foreign capital transactions exceed the amount (thousand)', '日外資_外資持股比率(%)': 'Japanese foreign capital_Foreign capital holding ratio (%)', '日外資_外資持股市值(百萬)': 'Japanese foreign capital_Foreign capital holding market value (million)', '日外資_外資持股成本': 'Japanese foreign capital_Foreign capital holding cost', '日外資_外資尚可投資張數': 'Japanese foreign capital_Foreign capital can still invest in', '日外資_外資尚可投資比率(%)': 'Japanese foreign investment_Foreign investment ratio (%)', '日外資_外資投資上限比率(%)': 'Japanese foreign investment_Upper ratio of foreign investment (%)', '日外資_陸資投資上限比率(%)': 'Japanese foreign investment_Highlight ratio of mainland investment (%)', '日自營_自營商買張': 'Daily self-operated_Buy a self-operated company', '日自營_自營商賣張': 'Daily self-operated_Owned dealer sells', '日自營_自營商買賣超': 'Daily self-operated_Owned dealer transactions', '日自營_自營商買張(自行買賣)': 'Daily self-operated_Owned dealer buys (buy and sell by yourself)', '日自營_自營商賣張(自行買賣)': 'Daily self-operated_Owned dealer sells (buy and sell by yourself)', '日自營_自營商買賣超(自行買賣)': 'Daily self-operated_Ownership transactions (self-operated transactions)', '日自營_自營商買張(避險)': 'Daily self-operated_Buy a self-operated company (safety-averse)', '日自營_自營商賣張(避險)': 'Daily self-operated_Owned dealer selling (safety)', '日自營_自營商買賣超(避險)': 'Japanese self-operated_Owned dealer trading super (safety-avoidance)', '日自營_自營商庫存': 'Daily self-operated_Owned business inventory', '日自營_自營商買金額(千)': 'Daily self-operated_Owner purchase amount (thousand)', '日自營_自營商賣金額(千)': 'Daily self-operated_Selling amount of self-operated merchants (thousands)', '日自營_自營商買賣超金額(千)': 'Daily self-operated_Owner transactions exceed the amount (thousands)', '日自營_自營商持股比率(%)': 'Daily self-operated_Ownership shareholding ratio (%)', '日自營_自營商持股市值(百萬)': 'Daily self-operated_Personal business holding market value (million)', '日投信_投信買張': 'Daily Investment News_Investor Buy', '日投信_投信賣張': 'Daily Investment Credit_Investor Credit Sale', '日投信_投信買賣超': 'Daily Investment Credit_Investor Business and Selling', '日投信_投信庫存': 'Daily Investment Credit_Investment Credit Inventory', '日投信_投信買金額(千)': 'Daily Investment Credit_Investment Credit Buy Amount (Thousands)', '日投信_投信賣金額(千)': 'Daily Investment Credit_Investment Credit Sales Amount (Thousands)', '日投信_投信買賣超金額(千)': 'Daily Investment Credit_Investment Credit Trading Exceeded Amount (Thousands)', '日投信_投信持股比率(%)': \"Daily Investment Credit_Investor's shareholding ratio (%)\", '日投信_投信持股市值(百萬)': 'Daily Investment Credit_Treasury Stock Market Value (Millions)', '技術指標_週RSI(5)': 'Technical Indicators_Zhou RSI(5)', '技術指標_週RSI(10)': 'Technical Indicators_Jing RSI(10)', '技術指標_週MACD': 'Technical Indicators_Zhou MACD', '技術指標_週K(9)': 'Technical indicators_Zhou K(9)', '技術指標_週DIF-週MACD': 'Technical Indicators_Zhou DIF-Zhou MACD', '技術指標_週DIF': 'Technical Indicators_Zhou DIF', '技術指標_週-DI(14)': 'Technical Indicators_Jing-DI(14)', '技術指標_週D(9)': 'Technical Indicators_Zhou D(9)', '技術指標_週ADX(14)': 'Technical Indicators_Zhou ADX(14)', '技術指標_週+DI(14)': 'Technical Indicators_Week+DI(14)', '技術指標_相對強弱比(週)': 'Technical indicators_relative strength ratio (weekly)', '技術指標_相對強弱比(日)': 'Technical indicators_relative strength ratio (daily)', '技術指標_近六月歷史波動率(%)': 'Technical indicators_Historical volatility in the past June (%)', '技術指標_近三月歷史波動率(%)': 'Technical indicators_Historical volatility in the past three months (%)', '技術指標_近二月歷史波動率(%)': 'Technical indicators_Historical volatility in the past February (%)', '技術指標_近九月歷史波動率(%)': 'Technical indicators_Historical volatility in the past September (%)', '技術指標_近一年歷史波動率(%)': 'Technical indicators_Historical volatility in the past year (%)', '技術指標_近一月歷史波動率(%)': 'Technical indicators_Historical volatility in the past month (%)', '技術指標_季RSI(5)': 'Technical Indicators_Quarterly RSI(5)', '技術指標_季RSI(10)': 'Technical Indicators_Quarterly RSI(10)', '技術指標_季MACD': 'Technical indicators_Quest MACD', '技術指標_季K(9)': 'Technical indicators_Journey K(9)', '技術指標_季DIF-季MACD': 'Technical Indicators_Season DIF-Season MACD', '技術指標_季DIF': 'Technical indicators_July DIF', '技術指標_季-DI(14)': 'Technical Indicators_Quarter-DI(14)', '技術指標_季D(9)': 'Technical indicators_Quest D(9)', '技術指標_季ADX(14)': 'Technical Indicators_Quest ADX(14)', '技術指標_季+DI(14)': 'Technical Indicators_Quarter+DI(14)', '技術指標_乖離率(60日)': 'Technical indicators_Disagreement rate (60 days)', '技術指標_乖離率(250日)': 'Technical indicators_Disagreement rate (250 days)', '技術指標_乖離率(20日)': 'Technical indicators_Disagreement rate (20 days)', '技術指標_年化波動度(250D)': 'Technical indicators_Annualized volatility (250D)', '技術指標_年化波動度(21D)': 'Technical indicators_Annualized volatility (21D)', '技術指標_月RSI(5)': 'Technical indicators_Monthly RSI(5)', '技術指標_月RSI(10)': 'Technical Indicators_Monthly RSI(10)', '技術指標_月MACD': 'Technical Indicators_Monthly MACD', '技術指標_月K(9)': 'Technical indicators_Monthly K(9)', '技術指標_月DIF-月MACD': 'Technical indicators_Monthly DIF-Monthly MACD', '技術指標_月DIF': 'Technical indicators_Monthly DIF', '技術指標_月-DI(14)': 'Technical indicators_month-DI(14)', '技術指標_月D(9)': 'Technical indicators_Monthly D(9)', '技術指標_月ADX(14)': 'Technical Indicators_Monthly ADX(14)', '技術指標_月+DI(14)': 'Technical indicators_monthly+DI(14)', '技術指標_W%R(5)': 'Technical indicators_W%R(5)', '技術指標_W%R(10)': 'Technical indicators_W%R(10)', '技術指標_RSI(5)': 'Technical Indicators_RSI(5)', '技術指標_RSI(10)': 'Technical Indicators_RSI(10)', '技術指標_MACD': 'Technical Indicators_MACD', '技術指標_K(9)': 'Technical indicators_K(9)', '技術指標_EWMA波動率(%)': 'Technical indicators_EWMA volatility (%)', '技術指標_DIF-MACD': 'Technical Indicators_DIF-MACD', '技術指標_DIF': 'Technical Indicators_DIF', '技術指標_+DI(14)': 'Technical Indicators_+DI(14)', '技術指標_-DI(14)': 'Technical Indicators_-DI(14)', '技術指標_D(9)': 'Technical Indicators_D(9)', '技術指標_Beta係數(65D)': 'Technical indicators_Beta coefficient (65D)', '技術指標_Beta係數(250D)': 'Technical indicators_Beta coefficient (250D)', '技術指標_Beta係數(21D)': 'Technical indicators_Beta coefficient (21D)', '技術指標_Alpha(250D)': 'Technical Indicators_Alpha(250D)', '技術指標_ADX(14)': 'Technical Indicators_ADX(14)', '技術指標_保力加通道–頂部(20)': 'Technical Indicators_Presistance Channel – Top (20)', '技術指標_保力加通道–均線(20)': 'Technical indicators_Presistance channel-moving line (20)', '技術指標_保力加通道–底部(20)': 'Technical Indicators_Presistance Channel – Bottom (20)', '技術指標_CM-VIX(%)': 'Technical Indicators_CM-VIX(%)', '技術指標_SAR': 'Technical Indicators_SAR', '技術指標_TR(1)': 'Technical Indicators_TR(1)', '技術指標_ADXR(14)': 'Technical Indicators_ADXR(14)', '技術指標_+DM(14)': 'Technical Indicators_+DM(14)', '技術指標_-DM(14)': 'Technical Indicators_-DM(14)', '技術指標_週TR(14)': 'Technical Indicators_Zhou TR(14)', '技術指標_週ADXR(14)': 'Technical Indicators_Jiu ADXR(14)', '技術指標_週+DM(14)': 'Technical Indicators_Week+DM(14)', '技術指標_週-DM(14)': 'Technical Indicators_Watch-DM(14)', '技術指標_月TR(14)': 'Technical indicators_monthly TR(14)', '技術指標_月ADXR(14)': 'Technical Indicators_Monthly ADXR(14)', '技術指標_月+DM(14)': 'Technical indicators_monthly+DM(14)', '技術指標_月-DM(14)': 'Technical indicators_monthly-DM(14)', '技術指標_季TR(14)': 'Technical indicators_Quarter TR(14)', '技術指標_季+DM(14)': 'Technical indicators_Quarter + DM(14)', '技術指標_季-DM(14)': 'Technical Indicators_Quarter-DM(14)', '月營收_單月合併營收(千)': 'Monthly revenue_monthly consolidated revenue (thousands)', '月營收_去年單月合併營收(千)': 'Monthly revenue_Monthly consolidated revenue last year (thousands)', '月營收_單月合併營收年成長(%)': 'Monthly revenue_One-monthly consolidated revenue annual growth (%)', '月營收_單月合併營收月變動(%)': 'Monthly revenue_monthly consolidated revenue changes (%)', '月營收_累計合併營收(千)': 'Monthly revenue_cumulative consolidated revenue (thousands)', '月營收_去年累計合併營收(千)': \"Monthly revenue_Last year's cumulative consolidated revenue (thousands)\", '月營收_累計合併營收成長(%)': 'Monthly revenue_cumulative consolidated revenue growth (%)', '月營收_近三月合併營收(千)': 'Monthly revenue_Combined revenue in the past three months (thousands)', '月營收_近三月合併營收年成長(%)': 'Monthly revenue_Year growth of consolidated revenue in the past three months (%)', '月營收_近三月合併營收月變動(%)': 'Monthly revenue_Moon changes in consolidated revenue in the past three months (%)', '月營收_近12月累計合併營收(千)': 'Monthly revenue_Cumulative consolidated revenue in the past 12 months (thousands)', '月營收_近12月營收合併成長(%)': 'Monthly revenue_Revenue merger growth in the past December (%)', '月營收_預估年營收(千)': 'Monthly revenue_Estimated annual revenue (thousands)', '月營收_單月營收(千)': 'Monthly revenue_monthly revenue (thousands)', '月營收_去年單月營收(千)': 'Monthly revenue_Last month revenue (thousands)', '月營收_單月營收年成長(%)': 'Monthly revenue_One-monthly revenue annual growth (%)', '月營收_單月營收月變動(%)': 'Monthly revenue_monthly revenue changes (%)', '月營收_累計營收(千)': 'Monthly revenue_cumulative revenue (thousands)', '月營收_去年累計營收(千)': \"Monthly revenue_Last year's cumulative revenue (thousands)\", '月營收_累計營收成長(%)': 'Monthly revenue_cumulative revenue growth (%)', '月營收_近三月營收(千)': 'Monthly revenue_Revenue in the past three months (thousands)', '月營收_近三月營收年成長(%)': 'Monthly revenue_Year growth of revenue in the past three months (%)', '月營收_近三月營收月變動(%)': 'Monthly revenue_Monthly revenue changes in the past three months (%)', '月營收_近12月累計營收(千)': 'Monthly revenue_Cumulative revenue in the past 12 months (thousands)', '月營收_近12月營收成長(%)': 'Monthly revenue_Revenue growth in the past December (%)', '月營收_淨值(千)': 'Monthly revenue_Net value (thousands)', '月營收_資金貸放餘額(千)': 'Monthly revenue_Fund loan balance (thousands)', '月營收_資金貸放佔淨值比(%)': 'Monthly revenue_Ranking of capital loans to net value (%)', '月營收_背書保證單月金額(千)': 'Monthly revenue_endorsement guaranteed monthly amount (thousands)', '月營收_背書保證累計餘額(千)': 'Monthly revenue_endorsement guaranteed cumulative balance (thousands)', '月營收_背書保証累計餘額佔淨值比(%)': 'Monthly revenue_Endorsement guaranteed cumulative balance to net value ratio (%)', '月營收_重要子公司本月營業收入淨額(千)': 'Monthly revenue_Net operating income of important subsidiaries this month (thousands)', '月營收_重要子公司本年累計營收淨額(千)': 'Monthly revenue_Net cumulative revenue of important subsidiaries this year (thousands)', '季IFRS財報_固定資產比率(%)': 'Quarterly IFRS Financial Report_Fixed Asset Ratio (%)', '季IFRS財報_固定資產對權益比率(%)': 'Quarterly IFRS Financial Report_Fixed Asset-to-Equity Ratio (%)', '季IFRS財報_固定資產對長期資金比率(%)': 'Quarterly IFRS Financial Report_Fixed Assets to Long-term Fund Ratio (%)', '季IFRS財報_負債比率(%)': 'Quarterly IFRS Financial Report_Debt Ratio (%)', '季IFRS財報_長期資金佔固定資產比率(%)': 'Quarterly IFRS financial report_Long-term funds to fixed assets ratio (%)', '季IFRS財報_權益對負債比率(%)': 'Quarterly IFRS Financial Report_Equity-to-Liability Ratio (%)', '季IFRS財報_運用資本對資產總額比率(%)': 'Quarterly IFRS Financial Report_Use Capital to Total Asset Ratio (%)', '季IFRS財報_淨值比率(%)': 'Quarterly IFRS Financial Report_Net Value Ratio (%)', '季IFRS財報_歸屬於母公司–淨值比率(%)': 'Quarterly IFRS Financial Report_Attributed to Parent Company-Net Value Ratio (%)', '季IFRS財報_固定資產對淨值比率(%)': 'Quarterly IFRS Financial Report_Fixed Assets to Net Value Ratio (%)', '季IFRS財報_槓桿比率(%)': 'Quarterly IFRS Financial Report_Leverage Ratio (%)', '季IFRS財報_流動比率(%)': 'Quarterly IFRS Financial Report_Current Ratio (%)', '季IFRS財報_速動比率(%)': 'Quarterly IFRS Financial Report_Quick Ratio (%)', '季IFRS財報_現金與流動資產比率(%)': 'Quarterly IFRS Financial Report_Cash to Current Assets Ratio (%)', '季IFRS財報_現金與流動負債比率(%)': 'Quarterly IFRS Financial Report_Cash to Current Liability Ratio (%)', '季IFRS財報_運用資本與流動資產比率(%)': 'Quarterly IFRS Financial Report_Use Capital to Current Assets Ratio (%)', '季IFRS財報_應付款項週轉率(次)': 'Quarterly IFRS Financial Report_Payments Turnover Rate (Times)', '季IFRS財報_應付款項週轉率–不含關係人(次)': 'Quarterly IFRS financial report_Payment turnover rate – excluding related persons (times)', '季IFRS財報_應付款項週轉率累季(次)': 'Quarterly IFRS financial report_Cumulative turnover rate of payments (times)', '季IFRS財報_應付款項週轉率累季–不含關係人(次)': 'Quarterly IFRS financial report_Cumulative turnover rate of payments – excluding related persons (times)', '季IFRS財報_應付款項週轉天數(天)': 'Quarterly IFRS Financial Report_Country Turnover Days Payable (Days)', '季IFRS財報_應付款項週轉天數–不含關係人(天)': 'Quarterly IFRS financial report_Number of payments payable days – excluding related persons (days)', '季IFRS財報_應付款項週轉天數累季(天)': 'Seasonal IFRS Financial Report_Cumulative Season (days)', '季IFRS財報_應付款項週轉天數累季–不含關係人(天)': 'Seasonal IFRS financial report_Cumulative number of days of payment payable - excluding related persons (days)', '季IFRS財報_應收款項週轉率(次)': 'Quarterly IFRS Financial Report_Receivable Turnover Rate (Times)', '季IFRS財報_應收款項週轉率–不含關係人(次)': 'Quarterly IFRS financial report_Receivable turnover rate – excluding related persons (times)', '季IFRS財報_應收款項週轉率累季(次)': 'Quarterly IFRS financial report_Cumulative turnover rate of accounts receivable quarterly (times)', '季IFRS財報_應收款項週轉率累季–不含關係人(次)': 'Quarterly IFRS financial report_Cumulative receivable turnover rate quarterly – excluding related persons (times)', '季IFRS財報_應收款項週轉天數(天)': 'Quarterly IFRS Financial Report_Country Receivable Turnover Days (Days)', '季IFRS財報_應收款項週轉天數–不含關係人(天)': 'Quarterly IFRS financial report_Receivable turnover days – excluding related persons (days)', '季IFRS財報_應收款項週轉天數累季(天)': 'Quarterly IFRS financial report_Cumulative number of receivables turnover days (days)', '季IFRS財報_應收款項週轉天數累季–不含關係人(天)': 'Seasonal IFRS financial report_Cumulative number of receivables turnover days - excluding related persons (days)', '季IFRS財報_固定資產週轉率(次)': 'Quarterly IFRS Financial Report_Fixed Asset Turnover Rate (Times)', '季IFRS財報_固定資產週轉率累季(次)': 'Quarterly IFRS financial report_Fixed asset turnover rate cumulative quarterly (times)', '季IFRS財報_總資產週轉率(次)': 'Quarterly IFRS Financial Report_Total Asset Turnover Rate (Times)', '季IFRS財報_總資產週轉率累季(次)': 'Quarterly IFRS financial report_Total asset turnover rate cumulative quarterly (times)', '季IFRS財報_淨值週轉率(次)': 'Quarterly IFRS Financial Report_Net Value Turnover Rate (Times)', '季IFRS財報_淨值週轉率累季(次)': 'Quarterly IFRS financial report_Net value turnover rate cumulative quarterly (times)', '季IFRS財報_營業利益佔實收資本比率(%)': 'Quarterly IFRS Financial Report_Raverage of operating profit to paid-in capital (%)', '季IFRS財報_營業利益佔實收資本比率累季(%)': 'Quarterly IFRS financial report_Raverage of operating profit to paid-in capital cumulative quarterly (%)', '季IFRS財報_稅前純益佔實收資本比率(%)': 'Quarterly IFRS Financial Report_Pure tax net income to paid-in capital ratio (%)', '季IFRS財報_稅前純益佔實收資本比率累季(%)': 'Quarterly IFRS Financial Report_Pure tax net income to paid-in capital ratio cumulative quarterly (%)', '季IFRS財報_毛利率(%)': 'Quarterly IFRS Financial Report_Gross Profit Rate (%)', '季IFRS財報_毛利率累季(%)': 'Quarterly IFRS financial report_Gross profit margin cumulative quarter (%)', '季IFRS財報_營業費用率(%)': 'Quarterly IFRS Financial Report_Operational Expense Rate (%)', '季IFRS財報_營業費用率累季(%)': 'Quarterly IFRS financial report_Operational expense ratio cumulative quarterly (%)', '季IFRS財報_營業利益率(%)': 'Quarterly IFRS Financial Report_Rate of Operating Earnings (%)', '季IFRS財報_營業利益率累季(%)': 'Quarterly IFRS financial report_Rate of operating profit cumulative quarterly (%)', '季IFRS財報_營業利益率(減利息費用)(%)': 'Quarterly IFRS Financial Report_Rate of Operating Equity (Interest Reduction Fees) (%)', '季IFRS財報_營業利益率(減利息費用)累季(%)': 'Quarterly IFRS financial report_Rate of operating profit (interest reduction fee) cumulative quarterly (%)', '季IFRS財報_稅前純益率(%)': 'Quarterly IFRS Financial Report_Pure-tax Pure Rate of Return (%)', '季IFRS財報_稅前純益率累季(%)': 'Quarterly IFRS financial report_Pure tax pure yield cumulative quarterly (%)', '季IFRS財報_稅後純益率(%)': 'Quarterly IFRS financial report_Pure rate after tax (%)', '季IFRS財報_稅後純益率累季(%)': 'Quarterly IFRS financial report_After tax pure yield cumulative quarterly (%)', '季IFRS財報_歸屬於母公司–稅後純益(%)': 'Quarterly IFRS financial report_attributed to the parent company-pure after tax (%)', '季IFRS財報_歸屬於母公司–稅後純益累季(%)': 'Quarterly IFRS financial report_Attributed to the parent company-after-tax pure profit cumulative quarter (%)', '季IFRS財報_EBITDA利潤率(%)': 'Quarterly IFRS Financial Report_EBITDA Profit Rate (%)', '季IFRS財報_EBITDA利潤率累季(%)': 'Quarterly IFRS Financial Report_EBITDA Profit Margin Cumulative Quarterly (%)', '季IFRS財報_稅前權益報酬率(%)': 'Quarterly IFRS Financial Report_Rate of Return on Equity before Tax (%)', '季IFRS財報_稅前權益報酬率累季(%)': 'Quarterly IFRS Financial Report_Cumulative Return on Equity Rate of Pre-Tax (%)', '季IFRS財報_稅後權益報酬率(%)': 'Quarterly IFRS Financial Report_Rate of Return on Tax Equity (%)', '季IFRS財報_稅後權益報酬率累季(%)': 'Quarterly IFRS financial report_After tax return rate cumulative quarterly (%)', '季IFRS財報_歸屬於母公司–稅後權益報酬率(%)': 'Quarterly IFRS Financial Report_Attributed to the parent company-Rate of Return on Tax Equity (%)', '季IFRS財報_歸屬於母公司–稅後權益報酬率累季(%)': 'Quarterly IFRS financial report_Attributed to parent company-after-tax equity return rate cumulative quarterly (%)', '季IFRS財報_稅前資產報酬率(%)': 'Quarterly IFRS Financial Report_Rate of Return on Assets before Tax (%)', '季IFRS財報_稅前資產報酬率累季(%)': 'Quarterly IFRS financial report_Cumulative quarterly return on assets (%)', '季IFRS財報_稅後資產報酬率(%)': 'Quarterly IFRS Financial Report_Rate of Return on Assets after Tax (%)', '季IFRS財報_稅後資產報酬率累季(%)': 'Quarterly IFRS financial report_After tax return rate cumulative quarterly (%)', '季IFRS財報_歸屬於母公司–稅後資產報酬率(%)': 'Quarterly IFRS Financial Report_Attributed to the parent company – after-tax asset return rate (%)', '季IFRS財報_歸屬於母公司–稅後資產報酬率累季(%)': 'Quarterly IFRS financial report_Attributed to parent company-after-tax asset return rate cumulative quarterly (%)', '季IFRS財報_稅後固定資產報酬率(%)': 'Quarterly IFRS Financial Report_Fixed Asset Return Rate (%)', '季IFRS財報_稅後固定資產報酬率累季(%)': 'Quarterly IFRS financial report_Cumulative quarterly return on fixed assets after tax (%)', '季IFRS財報_歸屬於母公司–稅後固定資產報酬率(%)': 'Quarterly IFRS Financial Report_Attributed to the parent company – after-tax fixed asset return rate (%)', '季IFRS財報_歸屬於母公司–稅後固定資產報酬率累季(%)': 'Quarterly IFRS financial report_Attributed to parent company-after-tax fixed asset return rate cumulative quarterly (%)', '季IFRS財報_營收季變動率(%)': 'Quarterly IFRS Financial Report_Revenue Quarterly Change Rate (%)', '季IFRS財報_營收成長率(%)': 'Quarterly IFRS Financial Report_Revenue Growth Rate (%)', '季IFRS財報_營收成長率累季(%)': 'Quarterly IFRS financial report_Revenue growth rate cumulative quarterly (%)', '季IFRS財報_總資產成長率(%)': 'Quarterly IFRS Financial Report_Total Asset Growth Rate (%)', '季IFRS財報_淨值成長率(%)': 'Quarterly IFRS Financial Report_Net Value Growth Rate (%)', '季IFRS財報_固定資產成長率(%)': 'Quarterly IFRS Financial Report_Fixed Asset Growth Rate (%)', '季IFRS財報_管銷費用比率(%)': 'Quarterly IFRS Financial Report_Management and Sales Expense Ratio (%)', '季IFRS財報_管銷費用比率累季(%)': 'Quarterly IFRS financial report_Cumulative sales expense ratio (%)', '季IFRS財報_現金流量比率(%)': 'Quarterly IFRS Financial Report_Cash Flow Ratio (%)', '季IFRS財報_現金流量比率累季(%)': 'Quarterly IFRS financial report_Cash flow ratio cumulative quarterly (%)', '季IFRS財報_原始每股營業額(元)': 'Quarterly IFRS financial report_original turnover per share (yuan)', '季IFRS財報_原始累計每股營業額(元)': 'Quarterly IFRS Financial Report_Original cumulative turnover per share (yuan)', '季IFRS財報_原始每股營業利益(元)': 'Quarterly IFRS financial report_original operating profit per share (yuan)', '季IFRS財報_原始累計每股營業利益(元)': 'Quarterly IFRS Financial Report_Original cumulative operating profit per share (yuan)', '季IFRS財報_原始每股營業現金流量(元)': 'Quarterly IFRS financial report_original operating cash flow per share (yuan)', '季IFRS財報_原始累計每股營業現金流量(元)': 'Quarterly IFRS financial report_original cumulative operating cash flow per share (yuan)', '季IFRS財報_原始每股現金流量(元)': 'Quarterly IFRS Financial Report_Original Cash Flow per Share (yuan)', '季IFRS財報_原始累計每股現金流量(元)': 'Quarterly IFRS Financial Report_Original Cash Flow per Share (yuan)', '季IFRS財報_期末股價淨值比': 'Quarterly IFRS Financial Report_End of the Stock Price Net Value Ratio', '季IFRS財報_季底收盤價(元)': 'Quarterly IFRS financial report_Quarterly closing price (yuan)', '季IFRS財報_DPZ–Score': 'Quarterly IFRS Financial Report_DPZ-Score', '季IFRS財報_DPZ等級': 'Quarterly IFRS Financial Report_DPZ Level', '季IFRS財報_Z–Score': 'Quarterly IFRS Financial Report_Z-Score', '季IFRS財報_Z等級': 'Quarterly IFRS Financial Report_Z Level', '個股收盤價': 'Closed price of individual stocks', '個股前1天收盤價': 'The closing price of individual stocks in the previous day', '個股前2天收盤價': 'The closing price of individual stocks in the first two days', '個股前3天收盤價': 'The closing price of individual stocks in the first three days', '個股前4天收盤價': 'The closing price of individual stocks in the first 4 days', '個股前5天收盤價': 'The closing price of individual stocks in the first 5 days', '個股前6天收盤價': 'The closing price of individual stocks in the first 6 days', '個股前7天收盤價': 'The closing price of individual stocks in the first 7 days', '個股前8天收盤價': 'The closing price of individual stocks in the first 8 days', '個股前9天收盤價': 'The closing price of individual stocks in the first 9 days', '個股前10天收盤價': 'The closing price of individual stocks in the first 10 days', '個股前11天收盤價': 'The closing price of individual stocks in the first 11 days', '個股前12天收盤價': 'The closing price of individual stocks in the first 12 days', '個股前13天收盤價': 'The closing price of individual stocks in the first 13 days', '個股前14天收盤價': 'The closing price of individual stocks in the first 14 days', '個股前15天收盤價': 'The closing price of individual stocks in the first 15 days', '個股前16天收盤價': 'The closing price of individual stocks in the first 16 days', '個股前17天收盤價': 'The closing price of individual stocks in the first 17 days', '個股前18天收盤價': 'The closing price of individual stocks in the first 18 days', '個股前19天收盤價': 'The closing price of individual stocks in the first 19 days', '個股前20天收盤價': 'The closing price of individual stocks in the first 20 days', '個股1天報酬率': '1-day return rate of individual stocks', '個股5天報酬率': '5-day return rate for individual stocks', '個股10天報酬率': '10-day return rate for individual stocks', '個股20天報酬率': '20-day return rate of individual stocks', '個股5天波動度': '5-day volatility of individual stocks', '個股10天波動度': '10-day volatility of individual stocks', '個股20天波動度': '20-day volatility of individual stocks', '個股5天乖離率': '5-day deviation rate of individual stocks', '個股10天乖離率': '10-day deviation rate of individual stocks', '個股19天乖離率': '19-day deviation rate of individual stocks', '個股成交量': 'Stock trading volume', '個股前1天成交量': 'Trading volume of individual stocks in the first day', '個股前2天成交量': 'Trading volume of individual stocks in the first two days', '個股前3天成交量': 'Trading volume of individual stocks in the first 3 days', '個股前4天成交量': 'Trading volume in the first 4 days of individual stocks', '個股前5天成交量': 'Trading volume of individual stocks in the first 5 days', '個股前6天成交量': 'Trading volume of individual stocks in the first 6 days', '個股前7天成交量': 'Trading volume of individual stocks in the first 7 days', '個股前8天成交量': 'Trading volume of individual stocks in the first 8 days', '個股前9天成交量': 'Trading volume of individual stocks in the first 9 days', '個股前10天成交量': 'Trading volume in the first 10 days of individual stocks', '個股前11天成交量': 'Trading volume in the first 11 days of individual stocks', '個股前12天成交量': 'Trading volume in the first 12 days of individual stocks', '個股前13天成交量': 'Trading volume in the first 13 days of individual stocks', '個股前14天成交量': 'Trading volume in the first 14 days of individual stocks', '個股前15天成交量': 'Trading volume in the first 15 days of individual stocks', '個股前16天成交量': 'Trading volume of individual stocks in the first 16 days', '個股前17天成交量': 'Trading volume in the first 17 days of individual stocks', '個股前18天成交量': 'Trading volume in the first 18 days of individual stocks', '個股前19天成交量': 'Trading volume in the first 19 days of individual stocks', '個股前20天成交量': 'Trading volume in the first 20 days of individual stocks', '個股5天成交量波動度': '5-day trading volume volatility of individual stocks', '個股10天成交量波動度': '10-day trading volume volatility of individual stocks', '個股20天成交量波動度': '20-day trading volume volatility of individual stocks', '上市加權指數收盤價': 'Listing weighted index closing price', '上市加權指數前1天收盤價': 'Closed price of the listing weighted index 1 day before the listing', '上市加權指數前2天收盤價': 'Closed 2 days before listing weighted index', '上市加權指數前3天收盤價': 'Closed price of the listing weighted index 3 days before the first 3 days', '上市加權指數前4天收盤價': 'Closed price of the first 4 days of listing weighted index', '上市加權指數前5天收盤價': 'Closed price of the first 5 days of listing weighted index', '上市加權指數前6天收盤價': 'Closed 6 days before listing weighted index', '上市加權指數前7天收盤價': 'Closed price of the first 7 days of listing weighted index', '上市加權指數前8天收盤價': 'Closed 8 days before listing weighted index', '上市加權指數前9天收盤價': 'Closed price of the first 9 days of listing weighted index', '上市加權指數前10天收盤價': 'Closed price of the first 10 days of listing weighted index', '上市加權指數前11天收盤價': 'Closed price of the first 11 days of listing weighted index', '上市加權指數前12天收盤價': 'Closed price of the first 12 days of listing weighted index', '上市加權指數前13天收盤價': 'Closed price of the first 13 days of listing weighted index', '上市加權指數前14天收盤價': 'Closed price of the first 14 days of listing weighted index', '上市加權指數前15天收盤價': 'Closed price of the first 15 days of listing weighted index', '上市加權指數前16天收盤價': 'Closed price of the first 16 days of listing weighted index', '上市加權指數前17天收盤價': 'Closed price of the first 17 days of listing weighted index', '上市加權指數前18天收盤價': 'Closed price of the first 18 days of listing weighted index', '上市加權指數前19天收盤價': 'Closed price of the first 19 days of listing weighted index', '上市加權指數前20天收盤價': 'Closed price of the first 20 days of listing weighted index', '上市加權指數1天報酬率': 'Listing weighted index 1-day return rate', '上市加權指數5天報酬率': 'Listing weighted index 5-day return rate', '上市加權指數10天報酬率': 'Listing weighted index 10-day return rate', '上市加權指數20天報酬率': 'Listing weighted index 20-day return rate', '上市加權指數5天波動度': 'Listing weighted index 5-day volatility', '上市加權指數10天波動度': 'Listing weighted index 10-day volatility', '上市加權指數20天波動度': 'Listing weighted index 20-day volatility', '上市加權指數5天乖離率': 'Listing weighted index 5-day deviation rate', '上市加權指數10天乖離率': 'Listing weighted index 10-day deviation rate', '上市加權指數19天乖離率': 'Listing weighted index 19-day deviation rate', '上市加權指數成交量': 'Listing weighted index trading volume', '上市加權指數前1天成交量': 'Trading volume in the first day of listing weighted index', '上市加權指數前2天成交量': 'Trading volume in the first two days of listing weighted index', '上市加權指數前3天成交量': 'Trading volume in the first 3 days of listing weighted index', '上市加權指數前4天成交量': 'Trading volume in the first 4 days of listing weighted index', '上市加權指數前5天成交量': 'Trading volume in the first 5 days of listing weighted index', '上市加權指數前6天成交量': 'Trading volume in the first 6 days of listing weighted index', '上市加權指數前7天成交量': 'Trading volume in the first 7 days of listing weighted index', '上市加權指數前8天成交量': 'Trading volume in the first 8 days of listing weighted index', '上市加權指數前9天成交量': 'Trading volume in the first 9 days of listing weighted index', '上市加權指數前10天成交量': 'Trading volume in the first 10 days of listing weighted index', '上市加權指數前11天成交量': 'Trading volume in the first 11 days of listing weighted index', '上市加權指數前12天成交量': 'Trading volume in the first 12 days of listing weighted index', '上市加權指數前13天成交量': 'Trading volume in the first 13 days of listing weighted index', '上市加權指數前14天成交量': 'Trading volume in the first 14 days of listing weighted index', '上市加權指數前15天成交量': 'Trading volume in the first 15 days of listing weighted index', '上市加權指數前16天成交量': 'Trading volume in the first 16 days of listing weighted index', '上市加權指數前17天成交量': 'Trading volume in the first 17 days of listing weighted index', '上市加權指數前18天成交量': 'Trading volume in the first 18 days of listing weighted index', '上市加權指數前19天成交量': 'Trading volume in the first 19 days of listing weighted index', '上市加權指數前20天成交量': 'Trading volume in the first 20 days of listing weighted index', '上市加權指數5天成交量波動度': 'Listing weighted index 5-day trading volume volatility', '上市加權指數10天成交量波動度': 'Listing weighted index 10-day trading volume volatility', '上市加權指數20天成交量波動度': 'Listing weighted index 20-day trading volume volatility', '飆股': 'Storm stocks'}\n"
     ]
    }
   ],
   "source": [
    "from googletrans import Translator\n",
    "import pandas as pd\n",
    "\n",
    "# Initialize translator\n",
    "translator = Translator()\n",
    "\n",
    "# Translate column names\n",
    "translated_columns = {col: translator.translate(col, src='zh-TW', dest='en').text for col in df.columns}\n",
    "\n",
    "# Rename dataframe columns\n",
    "df.rename(columns=translated_columns, inplace=True)\n",
    "\n",
    "# Print some translations for verification\n",
    "print(translated_columns)"
   ]
  },
  {
   "cell_type": "code",
   "execution_count": 1,
   "metadata": {},
   "outputs": [
    {
     "ename": "NameError",
     "evalue": "name 'pd' is not defined",
     "output_type": "error",
     "traceback": [
      "\u001b[1;31m---------------------------------------------------------------------------\u001b[0m",
      "\u001b[1;31mNameError\u001b[0m                                 Traceback (most recent call last)",
      "\u001b[1;32m<ipython-input-1-dd6184fb8e1a>\u001b[0m in \u001b[0;36m<module>\u001b[1;34m\u001b[0m\n\u001b[0;32m      1\u001b[0m \u001b[1;31m# Set Pandas to display all columns\u001b[0m\u001b[1;33m\u001b[0m\u001b[1;33m\u001b[0m\u001b[1;33m\u001b[0m\u001b[0m\n\u001b[1;32m----> 2\u001b[1;33m \u001b[0mpd\u001b[0m\u001b[1;33m.\u001b[0m\u001b[0mset_option\u001b[0m\u001b[1;33m(\u001b[0m\u001b[1;34m'display.max_columns'\u001b[0m\u001b[1;33m,\u001b[0m \u001b[1;32mNone\u001b[0m\u001b[1;33m)\u001b[0m\u001b[1;33m\u001b[0m\u001b[1;33m\u001b[0m\u001b[0m\n\u001b[0m\u001b[0;32m      3\u001b[0m \u001b[1;33m\u001b[0m\u001b[0m\n\u001b[0;32m      4\u001b[0m \u001b[0mdf\u001b[0m\u001b[1;33m.\u001b[0m\u001b[0mhead\u001b[0m\u001b[1;33m(\u001b[0m\u001b[1;33m)\u001b[0m\u001b[1;33m\u001b[0m\u001b[1;33m\u001b[0m\u001b[0m\n",
      "\u001b[1;31mNameError\u001b[0m: name 'pd' is not defined"
     ]
    }
   ],
   "source": [
    "# Set Pandas to display all columns\n",
    "pd.set_option('display.max_columns', None)\n",
    "\n",
    "df.head()"
   ]
  },
  {
   "cell_type": "code",
   "execution_count": 28,
   "metadata": {},
   "outputs": [],
   "source": [
    "rolling_windows = [5, 10, 20]\n",
    "\n",
    "for window in rolling_windows:\n",
    "    df[f'price_ma_{window}'] = df['Closed price of individual stocks'].rolling(window).mean()\n",
    "    df[f'vol_ma_{window}'] = df['Stock trading volume'].rolling(window).mean()\n",
    "    df[f'vol_std_{window}'] = df['Stock trading volume'].rolling(window).std()"
   ]
  },
  {
   "cell_type": "code",
   "execution_count": 29,
   "metadata": {},
   "outputs": [],
   "source": [
    "# Extract relevant columns (ensure column names match your dataset)\n",
    "closing_price_col = \"Closed price of individual stocks\"  # Adjust if needed\n",
    "trading_volume_col = \"Stock trading volume\"  # Adjust if needed\n"
   ]
  },
  {
   "cell_type": "code",
   "execution_count": 30,
   "metadata": {},
   "outputs": [],
   "source": [
    "# Daily Returns\n",
    "df['daily_return'] = df[closing_price_col].pct_change()\n"
   ]
  },
  {
   "cell_type": "code",
   "execution_count": 32,
   "metadata": {},
   "outputs": [
    {
     "data": {
      "text/plain": [
       "0         1.0543\n",
       "1         1.2712\n",
       "2         6.0341\n",
       "3         1.2969\n",
       "4         0.8969\n",
       "           ...  \n",
       "200859    1.0211\n",
       "200860    1.8369\n",
       "200861    0.8792\n",
       "200862    0.8621\n",
       "200863    1.4076\n",
       "Name: Closed price of individual stocks, Length: 200864, dtype: float64"
      ]
     },
     "execution_count": 32,
     "metadata": {},
     "output_type": "execute_result"
    }
   ],
   "source": [
    "df[closing_price_col]"
   ]
  },
  {
   "cell_type": "code",
   "execution_count": 31,
   "metadata": {},
   "outputs": [
    {
     "data": {
      "text/plain": [
       "0              NaN\n",
       "1         0.205729\n",
       "2         3.746775\n",
       "3        -0.785072\n",
       "4        -0.308428\n",
       "            ...   \n",
       "200859    0.201577\n",
       "200860    0.798942\n",
       "200861   -0.521368\n",
       "200862   -0.019449\n",
       "200863    0.632757\n",
       "Name: daily_return, Length: 200864, dtype: float64"
      ]
     },
     "execution_count": 31,
     "metadata": {},
     "output_type": "execute_result"
    }
   ],
   "source": [
    "df['daily_return']"
   ]
  },
  {
   "cell_type": "code",
   "execution_count": 26,
   "metadata": {
    "scrolled": true
   },
   "outputs": [
    {
     "ename": "KeyError",
     "evalue": "'Closed price of individual stocks in the previous day'",
     "output_type": "error",
     "traceback": [
      "\u001b[1;31m---------------------------------------------------------------------------\u001b[0m",
      "\u001b[1;31mKeyError\u001b[0m                                  Traceback (most recent call last)",
      "\u001b[1;32m~\\Anaconda3\\lib\\site-packages\\pandas\\core\\indexes\\base.py\u001b[0m in \u001b[0;36mget_loc\u001b[1;34m(self, key, method, tolerance)\u001b[0m\n\u001b[0;32m   3360\u001b[0m             \u001b[1;32mtry\u001b[0m\u001b[1;33m:\u001b[0m\u001b[1;33m\u001b[0m\u001b[1;33m\u001b[0m\u001b[0m\n\u001b[1;32m-> 3361\u001b[1;33m                 \u001b[1;32mreturn\u001b[0m \u001b[0mself\u001b[0m\u001b[1;33m.\u001b[0m\u001b[0m_engine\u001b[0m\u001b[1;33m.\u001b[0m\u001b[0mget_loc\u001b[0m\u001b[1;33m(\u001b[0m\u001b[0mcasted_key\u001b[0m\u001b[1;33m)\u001b[0m\u001b[1;33m\u001b[0m\u001b[1;33m\u001b[0m\u001b[0m\n\u001b[0m\u001b[0;32m   3362\u001b[0m             \u001b[1;32mexcept\u001b[0m \u001b[0mKeyError\u001b[0m \u001b[1;32mas\u001b[0m \u001b[0merr\u001b[0m\u001b[1;33m:\u001b[0m\u001b[1;33m\u001b[0m\u001b[1;33m\u001b[0m\u001b[0m\n",
      "\u001b[1;32m~\\Anaconda3\\lib\\site-packages\\pandas\\_libs\\index.pyx\u001b[0m in \u001b[0;36mpandas._libs.index.IndexEngine.get_loc\u001b[1;34m()\u001b[0m\n",
      "\u001b[1;32m~\\Anaconda3\\lib\\site-packages\\pandas\\_libs\\index.pyx\u001b[0m in \u001b[0;36mpandas._libs.index.IndexEngine.get_loc\u001b[1;34m()\u001b[0m\n",
      "\u001b[1;32m~\\Anaconda3\\lib\\site-packages\\pandas\\_libs\\index.pyx\u001b[0m in \u001b[0;36mpandas._libs.index.IndexEngine._get_loc_duplicates\u001b[1;34m()\u001b[0m\n",
      "\u001b[1;32m~\\Anaconda3\\lib\\site-packages\\pandas\\_libs\\index.pyx\u001b[0m in \u001b[0;36mpandas._libs.index.IndexEngine._maybe_get_bool_indexer\u001b[1;34m()\u001b[0m\n",
      "\u001b[1;32m~\\Anaconda3\\lib\\site-packages\\pandas\\_libs\\index.pyx\u001b[0m in \u001b[0;36mpandas._libs.index.IndexEngine._unpack_bool_indexer\u001b[1;34m()\u001b[0m\n",
      "\u001b[1;31mKeyError\u001b[0m: 'Closed price of individual stocks in the previous day'",
      "\nThe above exception was the direct cause of the following exception:\n",
      "\u001b[1;31mKeyError\u001b[0m                                  Traceback (most recent call last)",
      "\u001b[1;32m<ipython-input-26-60753fa35d50>\u001b[0m in \u001b[0;36m<module>\u001b[1;34m\u001b[0m\n\u001b[1;32m----> 1\u001b[1;33m \u001b[0mdf\u001b[0m\u001b[1;33m[\u001b[0m\u001b[1;34m'price_ma_5'\u001b[0m\u001b[1;33m]\u001b[0m \u001b[1;33m=\u001b[0m \u001b[0mdf\u001b[0m\u001b[1;33m[\u001b[0m\u001b[1;34m'Closed price of individual stocks in the previous day'\u001b[0m\u001b[1;33m]\u001b[0m\u001b[1;33m.\u001b[0m\u001b[0mrolling\u001b[0m\u001b[1;33m(\u001b[0m\u001b[1;36m5\u001b[0m\u001b[1;33m)\u001b[0m\u001b[1;33m.\u001b[0m\u001b[0mmean\u001b[0m\u001b[1;33m(\u001b[0m\u001b[1;33m)\u001b[0m\u001b[1;33m\u001b[0m\u001b[1;33m\u001b[0m\u001b[0m\n\u001b[0m\u001b[0;32m      2\u001b[0m \u001b[0mdf\u001b[0m\u001b[1;33m[\u001b[0m\u001b[1;34m'vol_ma_5'\u001b[0m\u001b[1;33m]\u001b[0m \u001b[1;33m=\u001b[0m \u001b[0mdf\u001b[0m\u001b[1;33m[\u001b[0m\u001b[1;34m'Stock trading volume'\u001b[0m\u001b[1;33m]\u001b[0m\u001b[1;33m.\u001b[0m\u001b[0mrolling\u001b[0m\u001b[1;33m(\u001b[0m\u001b[1;36m5\u001b[0m\u001b[1;33m)\u001b[0m\u001b[1;33m.\u001b[0m\u001b[0mmean\u001b[0m\u001b[1;33m(\u001b[0m\u001b[1;33m)\u001b[0m\u001b[1;33m\u001b[0m\u001b[1;33m\u001b[0m\u001b[0m\n",
      "\u001b[1;32m~\\Anaconda3\\lib\\site-packages\\pandas\\core\\frame.py\u001b[0m in \u001b[0;36m__getitem__\u001b[1;34m(self, key)\u001b[0m\n\u001b[0;32m   3456\u001b[0m             \u001b[1;32mif\u001b[0m \u001b[0mself\u001b[0m\u001b[1;33m.\u001b[0m\u001b[0mcolumns\u001b[0m\u001b[1;33m.\u001b[0m\u001b[0mnlevels\u001b[0m \u001b[1;33m>\u001b[0m \u001b[1;36m1\u001b[0m\u001b[1;33m:\u001b[0m\u001b[1;33m\u001b[0m\u001b[1;33m\u001b[0m\u001b[0m\n\u001b[0;32m   3457\u001b[0m                 \u001b[1;32mreturn\u001b[0m \u001b[0mself\u001b[0m\u001b[1;33m.\u001b[0m\u001b[0m_getitem_multilevel\u001b[0m\u001b[1;33m(\u001b[0m\u001b[0mkey\u001b[0m\u001b[1;33m)\u001b[0m\u001b[1;33m\u001b[0m\u001b[1;33m\u001b[0m\u001b[0m\n\u001b[1;32m-> 3458\u001b[1;33m             \u001b[0mindexer\u001b[0m \u001b[1;33m=\u001b[0m \u001b[0mself\u001b[0m\u001b[1;33m.\u001b[0m\u001b[0mcolumns\u001b[0m\u001b[1;33m.\u001b[0m\u001b[0mget_loc\u001b[0m\u001b[1;33m(\u001b[0m\u001b[0mkey\u001b[0m\u001b[1;33m)\u001b[0m\u001b[1;33m\u001b[0m\u001b[1;33m\u001b[0m\u001b[0m\n\u001b[0m\u001b[0;32m   3459\u001b[0m             \u001b[1;32mif\u001b[0m \u001b[0mis_integer\u001b[0m\u001b[1;33m(\u001b[0m\u001b[0mindexer\u001b[0m\u001b[1;33m)\u001b[0m\u001b[1;33m:\u001b[0m\u001b[1;33m\u001b[0m\u001b[1;33m\u001b[0m\u001b[0m\n\u001b[0;32m   3460\u001b[0m                 \u001b[0mindexer\u001b[0m \u001b[1;33m=\u001b[0m \u001b[1;33m[\u001b[0m\u001b[0mindexer\u001b[0m\u001b[1;33m]\u001b[0m\u001b[1;33m\u001b[0m\u001b[1;33m\u001b[0m\u001b[0m\n",
      "\u001b[1;32m~\\Anaconda3\\lib\\site-packages\\pandas\\core\\indexes\\base.py\u001b[0m in \u001b[0;36mget_loc\u001b[1;34m(self, key, method, tolerance)\u001b[0m\n\u001b[0;32m   3361\u001b[0m                 \u001b[1;32mreturn\u001b[0m \u001b[0mself\u001b[0m\u001b[1;33m.\u001b[0m\u001b[0m_engine\u001b[0m\u001b[1;33m.\u001b[0m\u001b[0mget_loc\u001b[0m\u001b[1;33m(\u001b[0m\u001b[0mcasted_key\u001b[0m\u001b[1;33m)\u001b[0m\u001b[1;33m\u001b[0m\u001b[1;33m\u001b[0m\u001b[0m\n\u001b[0;32m   3362\u001b[0m             \u001b[1;32mexcept\u001b[0m \u001b[0mKeyError\u001b[0m \u001b[1;32mas\u001b[0m \u001b[0merr\u001b[0m\u001b[1;33m:\u001b[0m\u001b[1;33m\u001b[0m\u001b[1;33m\u001b[0m\u001b[0m\n\u001b[1;32m-> 3363\u001b[1;33m                 \u001b[1;32mraise\u001b[0m \u001b[0mKeyError\u001b[0m\u001b[1;33m(\u001b[0m\u001b[0mkey\u001b[0m\u001b[1;33m)\u001b[0m \u001b[1;32mfrom\u001b[0m \u001b[0merr\u001b[0m\u001b[1;33m\u001b[0m\u001b[1;33m\u001b[0m\u001b[0m\n\u001b[0m\u001b[0;32m   3364\u001b[0m \u001b[1;33m\u001b[0m\u001b[0m\n\u001b[0;32m   3365\u001b[0m         \u001b[1;32mif\u001b[0m \u001b[0mis_scalar\u001b[0m\u001b[1;33m(\u001b[0m\u001b[0mkey\u001b[0m\u001b[1;33m)\u001b[0m \u001b[1;32mand\u001b[0m \u001b[0misna\u001b[0m\u001b[1;33m(\u001b[0m\u001b[0mkey\u001b[0m\u001b[1;33m)\u001b[0m \u001b[1;32mand\u001b[0m \u001b[1;32mnot\u001b[0m \u001b[0mself\u001b[0m\u001b[1;33m.\u001b[0m\u001b[0mhasnans\u001b[0m\u001b[1;33m:\u001b[0m\u001b[1;33m\u001b[0m\u001b[1;33m\u001b[0m\u001b[0m\n",
      "\u001b[1;31mKeyError\u001b[0m: 'Closed price of individual stocks in the previous day'"
     ]
    }
   ],
   "source": [
    "df['price_ma_5'] = df['Closed price of individual stocks in the previous day'].rolling(5).mean()\n",
    "df['vol_ma_5'] = df['Stock trading volume'].rolling(5).mean()"
   ]
  },
  {
   "cell_type": "code",
   "execution_count": 112,
   "metadata": {},
   "outputs": [
    {
     "name": "stdout",
     "output_type": "stream",
     "text": [
      "['ID', 'Foreign securities firms_In and out at every point', 'Foreign securities firm_point trading power (%)', 'Foreign securities firms_Second foodie ratio (%)', 'Foreign securities firms_Point shipment ratio (%)', 'Foreign securities firms_In and exit at the first 1 day', 'Foreign securities firm_Trading power in the first 1 day (%)', 'Foreign securities firms_Foodies comparison in the first day (%)', 'Foreign securities firms_Shipping ratio in the first 1 day (%)', 'Foreign securities firms_In and exit in the first 2 days', 'Foreign securities firm_Trading power in the first 2 days (%)', 'Foreign securities firms_Foodies comparison in the first two days (%)', 'Foreign securities firms_Shipping ratio in the first two days (%)', 'Foreign securities firms_In and exit in the first 3 days', 'Foreign securities firm_Trading power in the first 3 days (%)', 'Foreign securities firms_Foodies comparison in the first 3 days (%)', 'Foreign securities firms_Shipping ratio in the first 3 days (%)', 'Foreign securities firms_In and exit in the first 4 days', 'Foreign securities firm_Trading power in the first 4 days (%)', 'Foreign-invested brokerage_Foodies in the first 4 days (%)', 'Foreign securities firms_Shipping ratio in the first 4 days (%)', 'Foreign securities firms_In and exit in the first 5 days', 'Foreign securities firm_Trading power in the first 5 days (%)', 'Foreign-funded securities firms_Foodies in the first 5 days (%)', 'Foreign securities firms_Shipping ratio in the first 5 days (%)', 'Foreign securities firms_In and exit in the first 6 days', 'Foreign securities firm_Trading power in the first 6 days (%)', 'Foreign securities firms_Foodies comparison in the first 6 days (%)', 'Foreign securities firms_Shipping ratio in the first 6 days (%)', 'Foreign securities firms_In and exit in the first 7 days', 'Foreign securities firm_Trading power in the first 7 days (%)', 'Foreign-invested brokerage_Foodies in the first 7 days (%)', 'Foreign securities firms_Shipping ratio in the first 7 days (%)', 'Foreign securities firms_In and exit in the first 8 days', 'Foreign securities firm_Trading power in the first 8 days (%)', 'Foreign securities firms_Foodies comparison in the first 8 days (%)', 'Foreign securities firms_Shipping ratio in the first 8 days (%)', 'Foreign securities firms_In and exit in the first 9 days', 'Foreign securities firm_Trading power in the first 9 days (%)', 'Foreign-invested brokerage_Foodies in the first 9 days (%)', 'Foreign securities firms_Shipping ratio in the first 9 days (%)', 'Foreign securities firms_In and exit in the first 10 days', 'Foreign-invested brokerage firm_Trading power in the first 10 days (%)', 'Foreign-invested brokerage_Foodies in the first 10 days (%)', 'Foreign securities firms_Shipping ratio in the first 10 days (%)', 'Foreign securities firms_In and exit at the first 11 days', 'Foreign securities firm_Trading power in the first 11 days (%)', 'Foreign-invested brokerage_Foodies in the first 11 days (%)', 'Foreign securities firms_Shipping ratio in the first 11 days (%)', 'Foreign securities firms_In and exit in the first 12 days', 'Foreign-invested brokerage_Trading power in the first 12 days (%)', 'Foreign-invested brokerage_Foodies in the first 12 days (%)', 'Foreign-invested brokerage_Shipping ratio in the first 12 days (%)', 'Foreign securities firms_In and exit in the first 13 days', 'Foreign securities firm_Trading power in the first 13 days (%)', 'Foreign securities firms_Foodies in the first 13 days (%)', 'Foreign securities firms_Shipping ratio in the first 13 days (%)', 'Foreign securities firms_In and exit in the first 14 days', 'Foreign securities firm_Trading power in the first 14 days (%)', 'Foreign securities firms_Foodies in the first 14 days (%)', 'Foreign securities firms_Shipping ratio in the first 14 days (%)', 'Foreign securities firms_In and exit in the first 15 days', 'Foreign-invested brokerage_Trading power in the first 15 days (%)', 'Foreign-invested brokerage_Foodies in the first 15 days (%)', 'Foreign securities firms_Shipping ratio in the first 15 days (%)', 'Foreign securities firms_In and exit in the first 16 days', 'Foreign securities firm_Trading power in the first 16 days (%)', 'Foreign securities firms_Foodies in the first 16 days (%)', 'Foreign-invested brokerage_Shipping ratio in the first 16 days (%)', 'Foreign securities firms_In and exit in the first 17 days', 'Foreign securities firm_Trading power in the first 17 days (%)', 'Foreign-invested brokerage_Foodies in the first 17 days (%)', 'Foreign securities firms_Shipping ratio in the first 17 days (%)', 'Foreign securities firms_In and exit in the first 18 days', 'Foreign securities firm_Trading power in the first 18 days (%)', 'Foreign-invested brokerage_Foodies in the first 18 days (%)', 'Foreign securities firms_Shipping ratio in the first 18 days (%)', 'Foreign securities firms_In and exit in the first 19 days', 'Foreign securities firm_Trading power in the first 19 days (%)', 'Foreign securities firms_Foodies in the first 19 days (%)', 'Foreign securities firms_Shipping ratio in the first 19 days (%)', 'Foreign securities firms_In and exit in the first 20 days', 'Foreign-invested brokerage_Trading power in the first 20 days (%)', 'Foreign-invested brokerage_Foodies in the first 20 days (%)', 'Foreign-invested brokerage_Shipping ratio in the first 20 days (%)', 'Main brokerage firm_In and out at every point', 'Main brokerage firm_Point trading power (%)', 'Main brokerage firms_Second foodie comparison (%)', 'Main brokerage firm_Point shipment ratio (%)', 'Main brokerage firm_In and exit at the first 1 day', 'Main brokerage_Trading power in the first 1 day (%)', 'Main brokerage_Foodies comparison in the first day (%)', 'Main brokerage_Shipping ratio in the first 1 day point (%)', 'Main brokerage_In and exit at the first 2 days', 'Main brokerage_Trading power in the first 2 days (%)', 'Main brokerage_Foodies comparison in the first two days (%)', 'Main brokerage firm_Shipping ratio in the first 2 days (%)', 'Main brokerage firm_In and exit at the first 3 days', 'Main brokerage firm_Trading power in the first 3 days (%)', 'Main brokerage_Foodies comparison in the first 3 days (%)', 'Main brokerage_Shipping ratio in the first 3 days (%)', 'Main brokerage firm_In and exit in the first 4 days', 'Main brokerage firm_Trading power in the first 4 days (%)', 'Main brokerage_Foodies comparison in the first 4 days (%)', 'Main brokerage firm_Shipping ratio in the first 4 days (%)', 'Main brokerage firm_In and exit in the first 5 days', 'Main brokerage firm_Trading power in the first 5 days (%)', 'Main brokerage_Foodies comparison in the first 5 days (%)', 'Main brokerage firm_Shipping ratio in the first 5 days (%)', 'Main brokerage firm_In and exit at the first 6 days', 'Main brokerage firm_Trading power in the first 6 days (%)', 'Main brokerage_Foodies comparison in the first 6 days (%)', 'Main brokerage firm_Shipping ratio in the first 6 days (%)', 'Main brokerage firm_In and exit at the first 7 days', 'Main brokerage firm_Trading power in the first 7 days (%)', 'Main brokerage_Foodies in the first 7 days (%)', 'Main brokerage firm_Shipping ratio in the first 7 days (%)', 'Main brokerage firm_In and exit at the first 8 days', 'Main brokerage firm_Trading power in the first 8 days (%)', 'Main brokerage_Foodies in the first 8 days (%)', 'Main brokerage firm_Shipping ratio in the first 8 days (%)', 'Main brokerage firm_In and exit at the first 9 days', 'Main brokerage_Trading power in the first 9 days (%)', 'Main brokerage_Foodies comparison in the first 9 days (%)', 'Main brokerage firm_Shipping ratio in the first 9 days (%)', 'Main brokerage_In and exit in the first 10 days', 'Main brokerage_Trading power in the first 10 days (%)', 'Main brokerage_Foodies in the first 10 days (%)', 'Main brokerage firm_Shipping ratio in the first 10 days (%)', 'Main brokerage firm_In and exit at the first 11 days', 'Main brokerage_Trading power in the first 11 days (%)', 'Main brokerage_Foodies comparison in the first 11 days (%)', 'Main brokerage firm_Shipping ratio in the first 11 days (%)', 'Main brokerage_In and exit at the first 12 days', 'Main brokerage_Trading power in the first 12 days (%)', 'Main brokerage_Foodies comparison in the first 12 days (%)', 'Main brokerage_Shipping ratio in the first 12 days (%)', 'Main brokerage firm_In and exit at the first 13 days', 'Main brokerage firm_Trading power in the first 13 days (%)', 'Main brokerage_Foodies in the first 13 days (%)', 'Main brokerage_Shipping ratio in the first 13 days (%)', 'Main brokerage firm_In and exit in the first 14 days', 'Main brokerage firm_Trading power in the first 14 days (%)', 'Main brokerage_Foodies in the first 14 days (%)', 'Main brokerage firm_Shipping ratio in the first 14 days (%)', 'Main brokerage firm_In and exit in the first 15 days', 'Main brokerage firm_Trading power in the first 15 days (%)', 'Main brokerage_Foodies in the first 15 days (%)', 'Main brokerage firm_Shipping ratio in the first 15 days (%)', 'Main brokerage firm_In and exit at the first 16 days', 'Main brokerage firm_Trading power in the first 16 days (%)', 'Main brokerage_Foodies in the first 16 days (%)', 'Main brokerage firm_Shipping ratio in the first 16 days (%)', 'Main brokerage_In and exit at the first 17 days', 'Main brokerage_Trading power in the first 17 days (%)', 'Main brokerage_Foodies in the first 17 days (%)', 'Main brokerage firm_Shipping ratio in the first 17 days (%)', 'Main brokerage firm_In and exit in the first 18 days', 'Main brokerage_Trading power in the first 18 days (%)', 'Main brokerage firm_Foodies in the first 18 days (%)', 'Main brokerage firm_Shipping ratio in the first 18 days (%)', 'Main brokerage firm_In and exit in the first 19 days', 'Main brokerage firm_Trading power in the first 19 days (%)', 'Main brokerage_Foodies in the first 19 days (%)', 'Main brokerage firm_Shipping ratio in the first 19 days (%)', 'Main brokerage firm_In and exit in the first 20 days', 'Main brokerage firm_Trading power in the first 20 days (%)', 'Main brokerage_Foodies in the first 20 days (%)', 'Main brokerage_Shipping ratio in the first 20 days (%)', 'Official stock brokerage firm_Zhang Zengjiu', 'Official stock brokerage firm_Amount increase and decrease (thousands)', 'Official stock brokerage firm_buy', 'Official stock brokerage firm_Selling', 'Official stock brokerage_Inventory', 'Official stock brokerage firm_Buy amount (thousand)', 'Official stock brokerage firm_sell amount (thousand)', 'Official stock brokerage firm_number of purchases', 'Official stock brokerage firm_number of selling transactions', 'Official stock brokerage firm_Buy Jun Zhang', 'Official stock brokerage firm_Selling all-time', 'Official stock brokerage firm_average buying price', 'Official stock brokerage firm_Average selling price', 'Official stock brokerage firm_Stakeholding ratio (%)', 'Official stock brokerage firm_Stock market value (thousands)', 'Official stock brokerage firm_Buy average (thousand)', 'Official stock brokerage firm_Sell average (thousand)', 'Analysis of individual stock brokerage chips for point trading_Popularity of point trading (%)', 'Analysis of individual stock brokerage chips in points_Popularity of buying in points (%)', 'Analysis of individual stock brokerage chips in points_Popularity of selling points (%)', 'Analysis of individual stock brokerage chips_trading buying share (%)', 'Analysis of individual stock brokerage chips_Trading selling share (%)', 'Analysis of individual stock brokerage chips_Trading and trading share (%)', 'Analysis of individual stock brokerage chips_buy distribution coefficient', 'Analysis of individual stock brokerage chips_Buy distribution coefficient in the past 5 days', 'Analysis of individual stock brokerage chips_buy distribution coefficient in the past 20 days', 'Analysis of individual stock brokerage chips_buy distribution coefficient in the past 60 days', 'Analysis of individual stock brokerage chips_sell distribution coefficient', 'Analysis of individual stock brokerage chips_Selling distribution coefficient in the past 5 days', 'Analysis of individual stock brokerage chips_Selling distribution coefficient in the past 20 days', 'Analysis of individual stock brokerage chips_Selling distribution coefficient in the past 60 days', 'Analysis of individual stock brokerage chips_Difference of trading distribution coefficient', 'Regional analysis of individual stock brokerage firms_Buy more than 1 company regional density in the past 1 day', 'Regional analysis of individual stock brokerage firms_In the past 1 day, more than 3 companies have bought regional density', 'Regional analysis of individual stock brokerage firms_In the past 1 day, more than 5 companies have been bought', 'Analysis of individual stock brokerage points in area_Buy more than 1 company area density in the past 5 days', 'Regional analysis of individual stock brokerage firms_In the past 5 days, more than 3 companies have been bought in the past 5 years', 'Analysis of individual stock brokerage points_The regional density of more than 5 companies in the past 5 days', 'Regional analysis of individual stock brokerage firms_In the past 20 days, more than 1 company regional density', 'Regional analysis of individual stock brokerage firms_In the past 20 days, more than 3 companies have been bought', 'Regional analysis of individual stock brokerage firms_In the past 20 days, more than 5 companies have been bought', 'Regional analysis of individual stock brokerage firms_Buy more than 1 company regional density in the past 60 days', 'Regional analysis of individual stock brokerage firms_In the past 60 days, more than 3 companies have been bought', 'Regional analysis of individual stock brokerage firms_In the past 60 days, more than 5 companies have been bought', 'Analysis of individual stock brokerage points in area_The regional density of more than 1 company sold in the past 1 day', 'Regional analysis of individual stock brokerage firms_Selling more than 3 companies in the past 1 day', 'Regional analysis of individual stock brokerage firms_In the past 1 day, the regional density of more than 5 companies sold', \"Analysis of individual stock brokerage points in area_Selling more than 1 company's regional density in the past 5 days\", 'Regional analysis of individual stock brokerage firms_In the past 5 days, the regional density of more than 3 companies', 'Analysis of individual stock brokerage points in area_The regional density of more than 5 companies sold in the past 5 days', 'Regional analysis of individual stock brokerage firms_In the past 20 days, the regional density of more than 1 company', 'Regional analysis of individual stock brokerage firms_In the past 20 days, the regional density of companies sold more than 3', 'Regional analysis of individual stock brokerage firms_In the past 20 days, the regional density of more than 5 companies sold', \"Regional analysis of individual stock brokerage firms_In the past 60 days, more than 1 company's regional density\", 'Regional analysis of individual stock brokerage firms_Selling more than 3 companies in the past 60 days', 'Regional analysis of individual stock brokerage firms_In the past 60 days, more than 5 companies sold in the region', 'Area analysis of individual stock brokerage firms_Regional density of 1 company in the past 1 day', 'Area analysis of individual stock brokerage firms_Regional density of 3 companies in the past 1 day', 'Regional analysis of individual stock brokerage firms_Regional density of 5 companies in the past 1 day', 'Regional analysis of individual stock brokerage firms_Regional density of 1 company in the past 5 days', 'Regional analysis of individual stock brokerage firms_Regional density of 3 companies in the past 5 days', 'Regional analysis of individual stock brokerage firms_Regional density of 5 companies in the past 5 days', 'Regional analysis of individual stock brokerage firms_Regional density of 1 company in the past 20 days', 'Regional analysis of individual stock brokerage firms_Regional density of 3 companies in the past 20 days', 'Regional analysis of individual stock brokerage firms_Regional density of 5 companies in the past 20 days', 'Regional analysis of individual stock brokerage firms_Regional density of 1 company in the past 60 days', 'Regional analysis of individual stock brokerage firms_Regional density of 3 companies in the past 60 days', 'Regional analysis of individual stock brokerage firms_Regional density of 5 companies in the past 60 days', 'Analysis of individual stock brokerage points area_Buy more than 2 points area area density in the past 1 day', 'Analysis of individual stock brokerage points area_Buy more than 3 minutes area area density in the past 1 day', 'Analysis of individual stock brokerage points area_Buy more than 5 minutes area area density in the past 1 day', 'Analysis of individual stock brokerage points area_Buy more than 2 points area area density in the past 5 days', 'Analysis of individual stock brokerage points area_Buy more than 3 minutes area area density in the past 5 days', 'Analysis of individual stock brokerage points area_Buy more than 5 minutes area area density in the past 5 days', 'Analysis of individual stock brokerage points area_Buy more than 2 minutes area area density in the past 20 days', 'Analysis of individual stock brokerage points area_Buy more than 3 minutes area area density in the past 20 days', 'Analysis of individual stock brokerage points area_Buy more than 5 minutes area area density in the past 20 days', 'Analysis of individual stock brokerage points area_Buy more than 2 points area area density in the past 60 days', 'Analysis of individual stock brokerage points area_Buy more than 3 minutes area area density in the past 60 days', 'Analysis of individual stock brokerage points area_Buy more than 5 minutes area area density in the past 60 days', 'Analysis of individual stock brokerage points area_Selling area density exceeds 2 points in the past 1 day', 'Analysis of individual stock brokerage points area_Selling area density exceeds 3 minutes in the past 1 day', 'Analysis of individual stock brokerage points area_Selling area density of more than 5 minutes in the past 1 day', 'Analysis of individual stock brokerage points area_Selling area density of more than 2 points in the past 5 days', 'Analysis of individual stock brokerage points area_Selling area density exceeds 3 minutes in the past 5 days', 'Analysis of individual stock brokerage points area_Selling area density of more than 5 minutes in the past 5 days', 'Analysis of individual stock brokerage points area_Selling area density of more than 2 minutes in the past 20 days', 'Analysis of individual stock brokerage points area_Selling area density exceeds 3 minutes in the past 20 days', 'Analysis of individual stock brokerage points area_Selling area density of more than 5 minutes in the past 20 days', 'Analysis of individual stock brokerage points area_Selling area density of more than 2 points in the past 60 days', 'Analysis of individual stock brokerage points area_Selling area density of more than 3 minutes in the past 60 days', 'Analysis of individual stock brokerage points area_Selling area density of more than 5 minutes in the past 60 days', 'Analysis of individual stock brokerage points area_Trading area density of 2 minutes in the past 1 day', 'Analysis of individual stock brokerage points area_Trading area density of 3 minutes in the past 1 day', 'Analysis of individual stock brokerage points area_Trading area density of 5 minutes in the past 1 day', 'Analysis of individual stock brokerage points area_Trading 2 minutes area area density in the past 5 days', 'Analysis of individual stock brokerage points area_Trading area density of 3 minutes in the past 5 days', 'Analysis of individual stock brokerage points area_Trading area density of 5 minutes in the past 5 days', 'Analysis of individual stock brokerage points area_Trading 2 minutes area area density in the past 20 days', 'Analysis of individual stock brokerage points area_Trading area density of 3 minutes in the past 20 days', 'Analysis of individual stock brokerage points area_Trading area density of 5 minutes in the past 20 days', 'Analysis of individual stock brokerage points area_Trading 2 minutes area area density in the past 60 days', 'Analysis of individual stock brokerage points area_Trading area density of 3 minutes in the past 60 days', 'Analysis of individual stock brokerage points area_Trading area density of 5 minutes in the past 60 days', 'Analysis of individual stock brokerage points area_Buy more than 5 in the past 1 day close to the proportion of the company', 'Analysis of individual stock brokerage points area_Buy more than 5 in the past 5 days and close to the company', 'Analysis of individual stock brokerage points_The proportion of buying more than 5 in the past 20 days is close to the company', 'Analysis of individual stock brokerage points in area_The ratio of buying more than 5 in the past 60 days is close to the company', 'Analysis of individual stock brokerage points area_Selling more than 5 in the past 1 day is close to the proportion of the company', 'Analysis of individual stock brokerage points area_Selling more than 5 in the past 5 days is close to the proportion of the company', 'Analysis of individual stock brokerage points area_Selling more than 5 in the past 20 days is close to the proportion of the company', 'Analysis of individual stock brokerage points in area_Selling more than 5 in the past 60 days is close to the proportion of the company', 'Analysis of individual stock brokerage points area_The proportion of transactions of 5 in the past 1 day is close to that of the company', 'Analysis of individual stock brokerage points area_The proportion of 5 transactions in the past 5 days is close to the company', 'Analysis of individual stock brokerage points area_The proportion of transactions of 5 in the past 20 days is close to that of the company', 'Analysis of individual stock brokerage points area_The proportion of transactions of 5 in the past 60 days is close to that of the company', 'Analysis of individual stock brokerage points area_Buy more than 5 points in the past 1 day in the past 1', 'Analysis of individual stock brokerage points area_Buy more than 5 minutes in the past 5 days and close to the proportion', 'Analysis of individual stock brokerage points area_Buy more than 5 points in the past 20 days', 'Analysis of individual stock brokerage points area_Buy more than 5 points in the past 60 days', 'Analysis of individual stock brokerage points area_Selling more than 5 minutes in the past 1 day is close to the proportion', 'Analysis of individual stock brokerage points area_Selling more than 5 minutes in the past 5 days is close to the proportion', 'Analysis of individual stock brokerage points in points_The proportion in the past 20 days when selling more than 5 minutes is indirect', 'Analysis of individual stock brokerage points area_Selling more than 5 minutes in the past 60 days is close to the proportion', 'Analysis of individual stock brokerage points area_The transaction rate is close to 5 minutes in the past 1 day', 'Analysis of individual stock brokerage points area_The transaction rate is close to 5 minutes in the past 5 days', 'Analysis of individual stock brokerage points area_The transaction rate is close to 5 minutes in the past 20 days', 'Analysis of individual stock brokerage points area_The transaction rate is close to 5 minutes in the past 60 days', 'Statistics of the main trading of individual stocks_The main trading of the last 1 day', 'Statistics of the main trading of individual stocks_The main trading of the last 1 day exceeded (%)', 'Statistics of the main trading of individual stocks_The main trading of the last 5 days', 'Statistics of the main trading of individual stocks_The main trading of the last 5 days exceeded (%)', 'Statistics of the main trading of individual stocks_The main trading of the last 10 days', 'Statistics of the main trading of individual stocks_The main trading of the last 10 days exceeded (%)', 'Statistics of the main trading of individual stocks_The main trading of the last 20 days', 'Statistics of the main trading of individual stocks_The main trading of the last 20 days exceeded (%)', 'Statistics of the main trading of individual stocks_The main trading of the last 60 days', 'Statistics of the main trading of individual stocks_The main trading of the last 60 days exceeded (%)', 'Statistics of the main trading of individual stocks_The main trading of the last 120 days', 'Statistics of the main trading of individual stocks_The main trading of the last 120 days exceeded (%)', 'Statistics of the main trading of individual stocks_The main trading of the last 240 days', 'Statistics of the main trading of individual stocks_The main trading of the last 240 days exceeded (%)', 'Exceeded statistics on the main buying and selling of individual stocks_main cost line', 'Foreign capital in Japan_Foreign capital buying', 'Japanese foreign capital_Foreign capital selling', 'Japanese foreign investment_Foreign investment transactions', 'Foreign capital Japanese_Extraordinary movement of foreign capital holdings', 'Japanese foreign capital_Foreign capital holdings Zhang Shu', 'Japanese foreign capital_Foreign capital purchase amount (thousand)', 'Japanese foreign capital_Foreign capital selling amount (thousands)', 'Japanese foreign capital_Foreign capital transactions exceed the amount (thousand)', 'Japanese foreign capital_Foreign capital holding ratio (%)', 'Japanese foreign capital_Foreign capital holding market value (million)', 'Japanese foreign capital_Foreign capital holding cost', 'Japanese foreign capital_Foreign capital can still invest in', 'Japanese foreign investment_Foreign investment ratio (%)', 'Japanese foreign investment_Upper ratio of foreign investment (%)', 'Japanese foreign investment_Highlight ratio of mainland investment (%)', 'Daily self-operated_Buy a self-operated company', 'Daily self-operated_Owned dealer sells', 'Daily self-operated_Owned dealer transactions', 'Daily self-operated_Owned dealer buys (buy and sell by yourself)', 'Daily self-operated_Owned dealer sells (buy and sell by yourself)', 'Daily self-operated_Ownership transactions (self-operated transactions)', 'Daily self-operated_Buy a self-operated company (safety-averse)', 'Daily self-operated_Owned dealer selling (safety)', 'Japanese self-operated_Owned dealer trading super (safety-avoidance)', 'Daily self-operated_Owned business inventory', 'Daily self-operated_Owner purchase amount (thousand)', 'Daily self-operated_Selling amount of self-operated merchants (thousands)', 'Daily self-operated_Owner transactions exceed the amount (thousands)', 'Daily self-operated_Ownership shareholding ratio (%)', 'Daily self-operated_Personal business holding market value (million)', 'Daily Investment News_Investor Buy', 'Daily Investment Credit_Investor Credit Sale', 'Daily Investment Credit_Investor Business and Selling', 'Daily Investment Credit_Investment Credit Inventory', 'Daily Investment Credit_Investment Credit Buy Amount (Thousands)', 'Daily Investment Credit_Investment Credit Sales Amount (Thousands)', 'Daily Investment Credit_Investment Credit Trading Exceeded Amount (Thousands)', \"Daily Investment Credit_Investor's shareholding ratio (%)\", 'Daily Investment Credit_Treasury Stock Market Value (Millions)', 'Technical Indicators_Zhou RSI(5)', 'Technical Indicators_Jing RSI(10)', 'Technical Indicators_Zhou MACD', 'Technical indicators_Zhou K(9)', 'Technical Indicators_Zhou DIF-Zhou MACD', 'Technical Indicators_Zhou DIF', 'Technical Indicators_Jing-DI(14)', 'Technical Indicators_Zhou D(9)', 'Technical Indicators_Zhou ADX(14)', 'Technical Indicators_Week+DI(14)', 'Technical indicators_relative strength ratio (weekly)', 'Technical indicators_relative strength ratio (daily)', 'Technical indicators_Historical volatility in the past June (%)', 'Technical indicators_Historical volatility in the past three months (%)', 'Technical indicators_Historical volatility in the past February (%)', 'Technical indicators_Historical volatility in the past September (%)', 'Technical indicators_Historical volatility in the past year (%)', 'Technical indicators_Historical volatility in the past month (%)', 'Technical Indicators_Quarterly RSI(5)', 'Technical Indicators_Quarterly RSI(10)', 'Technical indicators_Quest MACD', 'Technical indicators_Journey K(9)', 'Technical Indicators_Season DIF-Season MACD', 'Technical indicators_July DIF', 'Technical Indicators_Quarter-DI(14)', 'Technical indicators_Quest D(9)', 'Technical Indicators_Quest ADX(14)', 'Technical Indicators_Quarter+DI(14)', 'Technical indicators_Disagreement rate (60 days)', 'Technical indicators_Disagreement rate (250 days)', 'Technical indicators_Disagreement rate (20 days)', 'Technical indicators_Annualized volatility (250D)', 'Technical indicators_Annualized volatility (21D)', 'Technical indicators_Monthly RSI(5)', 'Technical Indicators_Monthly RSI(10)', 'Technical Indicators_Monthly MACD', 'Technical indicators_Monthly K(9)', 'Technical indicators_Monthly DIF-Monthly MACD', 'Technical indicators_Monthly DIF', 'Technical indicators_month-DI(14)', 'Technical indicators_Monthly D(9)', 'Technical Indicators_Monthly ADX(14)', 'Technical indicators_monthly+DI(14)', 'Technical indicators_W%R(5)', 'Technical indicators_W%R(10)', 'Technical Indicators_RSI(5)', 'Technical Indicators_RSI(10)', 'Technical Indicators_MACD', 'Technical indicators_K(9)', 'Technical indicators_EWMA volatility (%)', 'Technical Indicators_DIF-MACD', 'Technical Indicators_DIF', 'Technical Indicators_+DI(14)', 'Technical Indicators_-DI(14)', 'Technical Indicators_D(9)', 'Technical indicators_Beta coefficient (65D)', 'Technical indicators_Beta coefficient (250D)', 'Technical indicators_Beta coefficient (21D)', 'Technical Indicators_Alpha(250D)', 'Technical Indicators_ADX(14)', 'Technical Indicators_Presistance Channel – Top (20)', 'Technical indicators_Presistance channel-moving line (20)', 'Technical Indicators_Presistance Channel – Bottom (20)', 'Technical Indicators_CM-VIX(%)', 'Technical Indicators_SAR', 'Technical Indicators_TR(1)', 'Technical Indicators_ADXR(14)', 'Technical Indicators_+DM(14)', 'Technical Indicators_-DM(14)', 'Technical Indicators_Zhou TR(14)', 'Technical Indicators_Jiu ADXR(14)', 'Technical Indicators_Week+DM(14)', 'Technical Indicators_Watch-DM(14)', 'Technical indicators_monthly TR(14)', 'Technical Indicators_Monthly ADXR(14)', 'Technical indicators_monthly+DM(14)', 'Technical indicators_monthly-DM(14)', 'Technical indicators_Quarter TR(14)', 'Technical indicators_Quarter + DM(14)', 'Technical Indicators_Quarter-DM(14)', 'Monthly revenue_monthly consolidated revenue (thousands)', 'Monthly revenue_Monthly consolidated revenue last year (thousands)', 'Monthly revenue_One-monthly consolidated revenue annual growth (%)', 'Monthly revenue_monthly consolidated revenue changes (%)', 'Monthly revenue_cumulative consolidated revenue (thousands)', \"Monthly revenue_Last year's cumulative consolidated revenue (thousands)\", 'Monthly revenue_cumulative consolidated revenue growth (%)', 'Monthly revenue_Combined revenue in the past three months (thousands)', 'Monthly revenue_Year growth of consolidated revenue in the past three months (%)', 'Monthly revenue_Moon changes in consolidated revenue in the past three months (%)', 'Monthly revenue_Cumulative consolidated revenue in the past 12 months (thousands)', 'Monthly revenue_Revenue merger growth in the past December (%)', 'Monthly revenue_Estimated annual revenue (thousands)', 'Monthly revenue_monthly revenue (thousands)', 'Monthly revenue_Last month revenue (thousands)', 'Monthly revenue_One-monthly revenue annual growth (%)', 'Monthly revenue_monthly revenue changes (%)', 'Monthly revenue_cumulative revenue (thousands)', \"Monthly revenue_Last year's cumulative revenue (thousands)\", 'Monthly revenue_cumulative revenue growth (%)', 'Monthly revenue_Revenue in the past three months (thousands)', 'Monthly revenue_Year growth of revenue in the past three months (%)', 'Monthly revenue_Monthly revenue changes in the past three months (%)', 'Monthly revenue_Cumulative revenue in the past 12 months (thousands)', 'Monthly revenue_Revenue growth in the past December (%)', 'Monthly revenue_Net value (thousands)', 'Monthly revenue_Fund loan balance (thousands)', 'Monthly revenue_Ranking of capital loans to net value (%)', 'Monthly revenue_endorsement guaranteed monthly amount (thousands)', 'Monthly revenue_endorsement guaranteed cumulative balance (thousands)', 'Monthly revenue_Endorsement guaranteed cumulative balance to net value ratio (%)', 'Monthly revenue_Net operating income of important subsidiaries this month (thousands)', 'Monthly revenue_Net cumulative revenue of important subsidiaries this year (thousands)', 'Quarterly IFRS Financial Report_Fixed Asset Ratio (%)', 'Quarterly IFRS Financial Report_Fixed Asset-to-Equity Ratio (%)', 'Quarterly IFRS Financial Report_Fixed Assets to Long-term Fund Ratio (%)', 'Quarterly IFRS Financial Report_Debt Ratio (%)', 'Quarterly IFRS financial report_Long-term funds to fixed assets ratio (%)', 'Quarterly IFRS Financial Report_Equity-to-Liability Ratio (%)', 'Quarterly IFRS Financial Report_Use Capital to Total Asset Ratio (%)', 'Quarterly IFRS Financial Report_Net Value Ratio (%)', 'Quarterly IFRS Financial Report_Attributed to Parent Company-Net Value Ratio (%)', 'Quarterly IFRS Financial Report_Fixed Assets to Net Value Ratio (%)', 'Quarterly IFRS Financial Report_Leverage Ratio (%)', 'Quarterly IFRS Financial Report_Current Ratio (%)', 'Quarterly IFRS Financial Report_Quick Ratio (%)', 'Quarterly IFRS Financial Report_Cash to Current Assets Ratio (%)', 'Quarterly IFRS Financial Report_Cash to Current Liability Ratio (%)', 'Quarterly IFRS Financial Report_Use Capital to Current Assets Ratio (%)', 'Quarterly IFRS Financial Report_Payments Turnover Rate (Times)', 'Quarterly IFRS financial report_Payment turnover rate – excluding related persons (times)', 'Quarterly IFRS financial report_Cumulative turnover rate of payments (times)', 'Quarterly IFRS financial report_Cumulative turnover rate of payments – excluding related persons (times)', 'Quarterly IFRS Financial Report_Country Turnover Days Payable (Days)', 'Quarterly IFRS financial report_Number of payments payable days – excluding related persons (days)', 'Seasonal IFRS Financial Report_Cumulative Season (days)', 'Seasonal IFRS financial report_Cumulative number of days of payment payable - excluding related persons (days)', 'Quarterly IFRS Financial Report_Receivable Turnover Rate (Times)', 'Quarterly IFRS financial report_Receivable turnover rate – excluding related persons (times)', 'Quarterly IFRS financial report_Cumulative turnover rate of accounts receivable quarterly (times)', 'Quarterly IFRS financial report_Cumulative receivable turnover rate quarterly – excluding related persons (times)', 'Quarterly IFRS Financial Report_Country Receivable Turnover Days (Days)', 'Quarterly IFRS financial report_Receivable turnover days – excluding related persons (days)', 'Quarterly IFRS financial report_Cumulative number of receivables turnover days (days)', 'Seasonal IFRS financial report_Cumulative number of receivables turnover days - excluding related persons (days)', 'Quarterly IFRS Financial Report_Fixed Asset Turnover Rate (Times)', 'Quarterly IFRS financial report_Fixed asset turnover rate cumulative quarterly (times)', 'Quarterly IFRS Financial Report_Total Asset Turnover Rate (Times)', 'Quarterly IFRS financial report_Total asset turnover rate cumulative quarterly (times)', 'Quarterly IFRS Financial Report_Net Value Turnover Rate (Times)', 'Quarterly IFRS financial report_Net value turnover rate cumulative quarterly (times)', 'Quarterly IFRS Financial Report_Raverage of operating profit to paid-in capital (%)', 'Quarterly IFRS financial report_Raverage of operating profit to paid-in capital cumulative quarterly (%)', 'Quarterly IFRS Financial Report_Pure tax net income to paid-in capital ratio (%)', 'Quarterly IFRS Financial Report_Pure tax net income to paid-in capital ratio cumulative quarterly (%)', 'Quarterly IFRS Financial Report_Gross Profit Rate (%)', 'Quarterly IFRS financial report_Gross profit margin cumulative quarter (%)', 'Quarterly IFRS Financial Report_Operational Expense Rate (%)', 'Quarterly IFRS financial report_Operational expense ratio cumulative quarterly (%)', 'Quarterly IFRS Financial Report_Rate of Operating Earnings (%)', 'Quarterly IFRS financial report_Rate of operating profit cumulative quarterly (%)', 'Quarterly IFRS Financial Report_Rate of Operating Equity (Interest Reduction Fees) (%)', 'Quarterly IFRS financial report_Rate of operating profit (interest reduction fee) cumulative quarterly (%)', 'Quarterly IFRS Financial Report_Pure-tax Pure Rate of Return (%)', 'Quarterly IFRS financial report_Pure tax pure yield cumulative quarterly (%)', 'Quarterly IFRS financial report_Pure rate after tax (%)', 'Quarterly IFRS financial report_After tax pure yield cumulative quarterly (%)', 'Quarterly IFRS financial report_attributed to the parent company-pure after tax (%)', 'Quarterly IFRS financial report_Attributed to the parent company-after-tax pure profit cumulative quarter (%)', 'Quarterly IFRS Financial Report_EBITDA Profit Rate (%)', 'Quarterly IFRS Financial Report_EBITDA Profit Margin Cumulative Quarterly (%)', 'Quarterly IFRS Financial Report_Rate of Return on Equity before Tax (%)', 'Quarterly IFRS Financial Report_Cumulative Return on Equity Rate of Pre-Tax (%)', 'Quarterly IFRS Financial Report_Rate of Return on Tax Equity (%)', 'Quarterly IFRS financial report_After tax return rate cumulative quarterly (%)', 'Quarterly IFRS Financial Report_Attributed to the parent company-Rate of Return on Tax Equity (%)', 'Quarterly IFRS financial report_Attributed to parent company-after-tax equity return rate cumulative quarterly (%)', 'Quarterly IFRS Financial Report_Rate of Return on Assets before Tax (%)', 'Quarterly IFRS financial report_Cumulative quarterly return on assets (%)', 'Quarterly IFRS Financial Report_Rate of Return on Assets after Tax (%)', 'Quarterly IFRS financial report_After tax return rate cumulative quarterly (%)', 'Quarterly IFRS Financial Report_Attributed to the parent company – after-tax asset return rate (%)', 'Quarterly IFRS financial report_Attributed to parent company-after-tax asset return rate cumulative quarterly (%)', 'Quarterly IFRS Financial Report_Fixed Asset Return Rate (%)', 'Quarterly IFRS financial report_Cumulative quarterly return on fixed assets after tax (%)', 'Quarterly IFRS Financial Report_Attributed to the parent company – after-tax fixed asset return rate (%)', 'Quarterly IFRS financial report_Attributed to parent company-after-tax fixed asset return rate cumulative quarterly (%)', 'Quarterly IFRS Financial Report_Revenue Quarterly Change Rate (%)', 'Quarterly IFRS Financial Report_Revenue Growth Rate (%)', 'Quarterly IFRS financial report_Revenue growth rate cumulative quarterly (%)', 'Quarterly IFRS Financial Report_Total Asset Growth Rate (%)', 'Quarterly IFRS Financial Report_Net Value Growth Rate (%)', 'Quarterly IFRS Financial Report_Fixed Asset Growth Rate (%)', 'Quarterly IFRS Financial Report_Management and Sales Expense Ratio (%)', 'Quarterly IFRS financial report_Cumulative sales expense ratio (%)', 'Quarterly IFRS Financial Report_Cash Flow Ratio (%)', 'Quarterly IFRS financial report_Cash flow ratio cumulative quarterly (%)', 'Quarterly IFRS financial report_original turnover per share (yuan)', 'Quarterly IFRS Financial Report_Original cumulative turnover per share (yuan)', 'Quarterly IFRS financial report_original operating profit per share (yuan)', 'Quarterly IFRS Financial Report_Original cumulative operating profit per share (yuan)', 'Quarterly IFRS financial report_original operating cash flow per share (yuan)', 'Quarterly IFRS financial report_original cumulative operating cash flow per share (yuan)', 'Quarterly IFRS Financial Report_Original Cash Flow per Share (yuan)', 'Quarterly IFRS Financial Report_Original Cash Flow per Share (yuan)', 'Quarterly IFRS Financial Report_End of the Stock Price Net Value Ratio', 'Quarterly IFRS financial report_Quarterly closing price (yuan)', 'Quarterly IFRS Financial Report_DPZ-Score', 'Quarterly IFRS Financial Report_DPZ Level', 'Quarterly IFRS Financial Report_Z-Score', 'Quarterly IFRS Financial Report_Z Level', 'Closed price of individual stocks', 'The closing price of individual stocks in the previous day', 'The closing price of individual stocks in the first two days', 'The closing price of individual stocks in the first three days', 'The closing price of individual stocks in the first 4 days', 'The closing price of individual stocks in the first 5 days', 'The closing price of individual stocks in the first 6 days', 'The closing price of individual stocks in the first 7 days', 'The closing price of individual stocks in the first 8 days', 'The closing price of individual stocks in the first 9 days', 'The closing price of individual stocks in the first 10 days', 'The closing price of individual stocks in the first 11 days', 'The closing price of individual stocks in the first 12 days', 'The closing price of individual stocks in the first 13 days', 'The closing price of individual stocks in the first 14 days', 'The closing price of individual stocks in the first 15 days', 'The closing price of individual stocks in the first 16 days', 'The closing price of individual stocks in the first 17 days', 'The closing price of individual stocks in the first 18 days', 'The closing price of individual stocks in the first 19 days', 'The closing price of individual stocks in the first 20 days', '1-day return rate of individual stocks', '5-day return rate for individual stocks', '10-day return rate for individual stocks', '20-day return rate of individual stocks', '5-day volatility of individual stocks', '10-day volatility of individual stocks', '20-day volatility of individual stocks', '5-day deviation rate of individual stocks', '10-day deviation rate of individual stocks', '19-day deviation rate of individual stocks', 'Stock trading volume', 'Trading volume of individual stocks in the first day', 'Trading volume of individual stocks in the first two days', 'Trading volume of individual stocks in the first 3 days', 'Trading volume in the first 4 days of individual stocks', 'Trading volume of individual stocks in the first 5 days', 'Trading volume of individual stocks in the first 6 days', 'Trading volume of individual stocks in the first 7 days', 'Trading volume of individual stocks in the first 8 days', 'Trading volume of individual stocks in the first 9 days', 'Trading volume in the first 10 days of individual stocks', 'Trading volume in the first 11 days of individual stocks', 'Trading volume in the first 12 days of individual stocks', 'Trading volume in the first 13 days of individual stocks', 'Trading volume in the first 14 days of individual stocks', 'Trading volume in the first 15 days of individual stocks', 'Trading volume of individual stocks in the first 16 days', 'Trading volume in the first 17 days of individual stocks', 'Trading volume in the first 18 days of individual stocks', 'Trading volume in the first 19 days of individual stocks', 'Trading volume in the first 20 days of individual stocks', '5-day trading volume volatility of individual stocks', '10-day trading volume volatility of individual stocks', '20-day trading volume volatility of individual stocks', 'Listing weighted index closing price', 'Closed price of the listing weighted index 1 day before the listing', 'Closed 2 days before listing weighted index', 'Closed price of the listing weighted index 3 days before the first 3 days', 'Closed price of the first 4 days of listing weighted index', 'Closed price of the first 5 days of listing weighted index', 'Closed 6 days before listing weighted index', 'Closed price of the first 7 days of listing weighted index', 'Closed 8 days before listing weighted index', 'Closed price of the first 9 days of listing weighted index', 'Closed price of the first 10 days of listing weighted index', 'Closed price of the first 11 days of listing weighted index', 'Closed price of the first 12 days of listing weighted index', 'Closed price of the first 13 days of listing weighted index', 'Closed price of the first 14 days of listing weighted index', 'Closed price of the first 15 days of listing weighted index', 'Closed price of the first 16 days of listing weighted index', 'Closed price of the first 17 days of listing weighted index', 'Closed price of the first 18 days of listing weighted index', 'Closed price of the first 19 days of listing weighted index', 'Closed price of the first 20 days of listing weighted index', 'Listing weighted index 1-day return rate', 'Listing weighted index 5-day return rate', 'Listing weighted index 10-day return rate', 'Listing weighted index 20-day return rate', 'Listing weighted index 5-day volatility', 'Listing weighted index 10-day volatility', 'Listing weighted index 20-day volatility', 'Listing weighted index 5-day deviation rate', 'Listing weighted index 10-day deviation rate', 'Listing weighted index 19-day deviation rate', 'Listing weighted index trading volume', 'Trading volume in the first day of listing weighted index', 'Trading volume in the first two days of listing weighted index', 'Trading volume in the first 3 days of listing weighted index', 'Trading volume in the first 4 days of listing weighted index', 'Trading volume in the first 5 days of listing weighted index', 'Trading volume in the first 6 days of listing weighted index', 'Trading volume in the first 7 days of listing weighted index', 'Trading volume in the first 8 days of listing weighted index', 'Trading volume in the first 9 days of listing weighted index', 'Trading volume in the first 10 days of listing weighted index', 'Trading volume in the first 11 days of listing weighted index', 'Trading volume in the first 12 days of listing weighted index', 'Trading volume in the first 13 days of listing weighted index', 'Trading volume in the first 14 days of listing weighted index', 'Trading volume in the first 15 days of listing weighted index', 'Trading volume in the first 16 days of listing weighted index', 'Trading volume in the first 17 days of listing weighted index', 'Trading volume in the first 18 days of listing weighted index', 'Trading volume in the first 19 days of listing weighted index', 'Trading volume in the first 20 days of listing weighted index', 'Listing weighted index 5-day trading volume volatility', 'Listing weighted index 10-day trading volume volatility', 'Listing weighted index 20-day trading volume volatility', 'Storm stocks']\n"
     ]
    }
   ],
   "source": [
    "print(df.columns.tolist())"
   ]
  },
  {
   "cell_type": "code",
   "execution_count": 7,
   "metadata": {},
   "outputs": [],
   "source": [
    "arguments = {\n",
    "    \"objective\": \"regression\",\n",
    "    \"boosting_type\": \"gbdt\",\n",
    "    \"num_leaves\": 20,\n",
    "    \"learning_rate\": 0.1034,\n",
    "    \"n_estimators\": 3000,\n",
    "    \"max_bin\": 113,\n",
    "    \"subsample\": 0.7708753433144212,\n",
    "    \"subsample_freq\": 5,\n",
    "    \"colsample_bytree\": 0.6628,\n",
    "    \"feature_fraction_seed\": 42,\n",
    "    \"bagging_seed\": 42,\n",
    "    \"min_child_samples\": 25\n",
    "}"
   ]
  },
  {
   "cell_type": "code",
   "execution_count": 8,
   "metadata": {},
   "outputs": [],
   "source": [
    "target_column = \"Storm stocks\" "
   ]
  },
  {
   "cell_type": "code",
   "execution_count": 131,
   "metadata": {},
   "outputs": [],
   "source": [
    "X = df.drop(columns=[target_column, \"ID\"], errors=\"ignore\")\n",
    "y = df[target_column]"
   ]
  },
  {
   "cell_type": "code",
   "execution_count": 111,
   "metadata": {},
   "outputs": [],
   "source": [
    "import unicodedata\n",
    "import re\n",
    "def clean_feature_name(name):\n",
    "    \"\"\"Clean non-ASCII characters and special symbols in column names.\"\"\"\n",
    "    # Normalize to remove hidden Unicode characters\n",
    "    name = unicodedata.normalize('NFKD', name)\n",
    "    \n",
    "    # Remove non-ASCII characters\n",
    "    name = name.encode('ascii', 'ignore').decode()\n",
    "    \n",
    "    # Replace special characters (%, spaces, etc.) with underscores\n",
    "    name = re.sub(r'[^a-zA-Z0-9_]', '_', name)\n",
    "    \n",
    "    # Replace multiple underscores with a single one\n",
    "    name = re.sub(r'__+', '_', name).strip('_')\n",
    "\n",
    "    return name\n"
   ]
  },
  {
   "cell_type": "code",
   "execution_count": 132,
   "metadata": {},
   "outputs": [],
   "source": [
    "X.columns = [clean_feature_name(col) for col in X.columns]"
   ]
  },
  {
   "cell_type": "markdown",
   "metadata": {},
   "source": [
    "## Outliers"
   ]
  },
  {
   "cell_type": "code",
   "execution_count": 95,
   "metadata": {},
   "outputs": [
    {
     "data": {
      "text/plain": [
       "(200864, 679)"
      ]
     },
     "execution_count": 95,
     "metadata": {},
     "output_type": "execute_result"
    }
   ],
   "source": [
    "X.shape"
   ]
  },
  {
   "cell_type": "code",
   "execution_count": 61,
   "metadata": {},
   "outputs": [],
   "source": [
    "from scipy.stats import zscore\n",
    "z_scores = np.abs(zscore(X.select_dtypes(include=[np.number]), nan_policy='omit'))\n",
    "\n",
    "# Flag any row with at least one feature where Z-score > threshold (commonly 3)\n",
    "outlier_rows = (z_scores > 3).any(axis=1)\n",
    "\n",
    "# Get outlier and non-outlier subsets\n",
    "X_outliers = X[outlier_rows]\n",
    "X_non_outliers = X[~outlier_rows]\n",
    "\n",
    "# Match y values\n",
    "y_outliers = y[outlier_rows]\n",
    "y_non_outliers = y[~outlier_rows]"
   ]
  },
  {
   "cell_type": "code",
   "execution_count": 62,
   "metadata": {},
   "outputs": [
    {
     "name": "stdout",
     "output_type": "stream",
     "text": [
      "Outlier y value counts:\n",
      "0    0.991291\n",
      "1    0.008709\n",
      "Name: Storm stocks, dtype: float64\n",
      "\n",
      "Non-Outlier y value counts:\n",
      "0    0.996486\n",
      "1    0.003514\n",
      "Name: Storm stocks, dtype: float64\n"
     ]
    }
   ],
   "source": [
    "print(\"Outlier y value counts:\")\n",
    "print(y_outliers.value_counts(normalize=True))\n",
    "\n",
    "print(\"\\nNon-Outlier y value counts:\")\n",
    "print(y_non_outliers.value_counts(normalize=True))"
   ]
  },
  {
   "cell_type": "code",
   "execution_count": 141,
   "metadata": {},
   "outputs": [
    {
     "data": {
      "image/png": "[encoded data removed]",
      "text/plain": [
       "<Figure size 864x720 with 1 Axes>"
      ]
     },
     "metadata": {
      "needs_background": "light"
     },
     "output_type": "display_data"
    }
   ],
   "source": [
    "import seaborn as sns\n",
    "import matplotlib.pyplot as plt\n",
    "\n",
    "plt.figure(figsize=(12, 10))\n",
    "sns.barplot(x=['Non-Outliers', 'Outliers'], y=[y_non_outliers.mean(), y_outliers.mean()])\n",
    "plt.ylabel('Mean of y')\n",
    "plt.title('Average y value for Outliers vs Non-Outliers')\n",
    "plt.show()"
   ]
  },
  {
   "cell_type": "code",
   "execution_count": 119,
   "metadata": {},
   "outputs": [
    {
     "name": "stderr",
     "output_type": "stream",
     "text": [
      "C:\\Users\\Andy\\Anaconda3\\lib\\site-packages\\ipykernel_launcher.py:12: SettingWithCopyWarning: \n",
      "A value is trying to be set on a copy of a slice from a DataFrame.\n",
      "Try using .loc[row_indexer,col_indexer] = value instead\n",
      "\n",
      "See the caveats in the documentation: https://pandas.pydata.org/pandas-docs/stable/user_guide/indexing.html#returning-a-view-versus-a-copy\n",
      "  if sys.path[0] == '':\n"
     ]
    }
   ],
   "source": [
    "quantiles = [0.95]\n",
    "\n",
    "for q in quantiles:\n",
    "    upper = X.quantile(q)\n",
    "    lower = X.quantile(1 - q)\n",
    "    \n",
    "    # Create boolean masks\n",
    "    upper_mask = (X > upper)\n",
    "    lower_mask = (X < lower)\n",
    "\n",
    "    # Add binary columns\n",
    "    X[f\"upper_outlier_{int(q*100)}\"] = upper_mask.any(axis=1).astype(int)\n",
    "    X[f\"lower_outlier_{int(q*100)}\"] = lower_mask.any(axis=1).astype(int)\n",
    "\n",
    "    # Optional: count of how many features are upper/lower outliers\n",
    "    X[f\"upper_outlier_count_{int(q*100)}\"] = upper_mask.sum(axis=1)\n",
    "    X[f\"lower_outlier_count_{int(q*100)}\"] = lower_mask.sum(axis=1)\n",
    "\n"
   ]
  },
  {
   "cell_type": "code",
   "execution_count": 120,
   "metadata": {},
   "outputs": [],
   "source": [
    "# Get the outlier count columns you want to scale\n",
    "outlier_cols = [col for col in X.columns if \"outlier_count\" in col and \"scaled\" not in col]\n",
    "\n",
    "# Scale them\n",
    "scaled_outliers = scaler.fit_transform(X[outlier_cols])\n",
    "\n",
    "# Convert to DataFrame with correct column names\n",
    "scaled_df = pd.DataFrame(scaled_outliers, columns=[f\"{col}_scaled\" for col in outlier_cols], index=X.index)\n",
    "\n",
    "# Join back to X\n",
    "X = pd.concat([X, scaled_df], axis=1)\n"
   ]
  },
  {
   "cell_type": "code",
   "execution_count": 133,
   "metadata": {},
   "outputs": [
    {
     "name": "stderr",
     "output_type": "stream",
     "text": [
      "C:\\Users\\Andy\\Anaconda3\\lib\\site-packages\\ipykernel_launcher.py:10: SettingWithCopyWarning: \n",
      "A value is trying to be set on a copy of a slice from a DataFrame.\n",
      "Try using .loc[row_indexer,col_indexer] = value instead\n",
      "\n",
      "See the caveats in the documentation: https://pandas.pydata.org/pandas-docs/stable/user_guide/indexing.html#returning-a-view-versus-a-copy\n",
      "  # Remove the CWD from sys.path while we load stuff.\n"
     ]
    }
   ],
   "source": [
    "# Calculate IQR for all numerical features\n",
    "Q1 = X.quantile(0.25)\n",
    "Q3 = X.quantile(0.75)\n",
    "IQR = Q3 - Q1\n",
    "\n",
    "# Define outliers: Any value outside 1.5 * IQR bounds\n",
    "outlier_mask = (X < (Q1 - 1.5 * IQR)) | (X > (Q3 + 1.5 * IQR))\n",
    "\n",
    "# Create an \"outlier count\" column (number of outlier features per row)\n",
    "X[\"outlier_count\"] = outlier_mask.sum(axis=1)\n",
    "\n",
    "# Optional: Convert to binary flag (1 if any outlier, 0 if none)\n",
    "X[\"is_outlier\"] = (X[\"outlier_count\"] > 0).astype(int)\n",
    "from sklearn.preprocessing import MinMaxScaler\n",
    "\n",
    "scaler = MinMaxScaler()\n",
    "X[\"outlier_count_scaled\"] = scaler.fit_transform(X[[\"outlier_count\"]])"
   ]
  },
  {
   "cell_type": "code",
   "execution_count": 134,
   "metadata": {
    "scrolled": true
   },
   "outputs": [
    {
     "name": "stderr",
     "output_type": "stream",
     "text": [
      "C:\\Users\\Andy\\Anaconda3\\lib\\site-packages\\pandas\\core\\generic.py:6392: SettingWithCopyWarning: \n",
      "A value is trying to be set on a copy of a slice from a DataFrame\n",
      "\n",
      "See the caveats in the documentation: https://pandas.pydata.org/pandas-docs/stable/user_guide/indexing.html#returning-a-view-versus-a-copy\n",
      "  return self._update_inplace(result)\n",
      "C:\\Users\\Andy\\Anaconda3\\lib\\site-packages\\pandas\\core\\frame.py:5182: SettingWithCopyWarning: \n",
      "A value is trying to be set on a copy of a slice from a DataFrame\n",
      "\n",
      "See the caveats in the documentation: https://pandas.pydata.org/pandas-docs/stable/user_guide/indexing.html#returning-a-view-versus-a-copy\n",
      "  downcast=downcast,\n"
     ]
    }
   ],
   "source": [
    "X = X.fillna(X.mean())"
   ]
  },
  {
   "cell_type": "code",
   "execution_count": 126,
   "metadata": {},
   "outputs": [],
   "source": [
    "# Calculate IQR for all numerical features\n",
    "Q1 = X.quantile(0.25)\n",
    "Q3 = X.quantile(0.75)\n",
    "IQR = Q3 - Q1\n",
    "\n",
    "# Define outliers: Any value outside 1.5 * IQR bounds\n",
    "outlier_mask = (X < (Q1 - 1.5 * IQR)) | (X > (Q3 + 1.5 * IQR))\n",
    "\n",
    "# Create an \"outlier count\" column (number of outlier features per row)\n",
    "X[\"outlier_count\"] = outlier_mask.sum(axis=1)\n",
    "\n",
    "# Optional: Convert to binary flag (1 if any outlier, 0 if none)\n",
    "X[\"is_outlier\"] = (X[\"outlier_count\"] > 0).astype(int)\n",
    "from sklearn.preprocessing import MinMaxScaler\n",
    "\n",
    "scaler = MinMaxScaler()\n",
    "X[\"outlier_count_scaled\"] = scaler.fit_transform(X[[\"outlier_count\"]])"
   ]
  },
  {
   "cell_type": "code",
   "execution_count": 135,
   "metadata": {
    "scrolled": true
   },
   "outputs": [
    {
     "data": {
      "text/plain": [
       "(200864, 674)"
      ]
     },
     "execution_count": 135,
     "metadata": {},
     "output_type": "execute_result"
    }
   ],
   "source": [
    "X.shape"
   ]
  },
  {
   "cell_type": "code",
   "execution_count": 136,
   "metadata": {},
   "outputs": [],
   "source": [
    "X_train, X_test, y_train, y_test = train_test_split(X, y, test_size=0.2, random_state=42, stratify=y)"
   ]
  },
  {
   "cell_type": "code",
   "execution_count": 137,
   "metadata": {
    "scrolled": true
   },
   "outputs": [],
   "source": [
    "bigModel = lgb.LGBMClassifier(**arguments)\n",
    "bigModel.fit(X_train, y_train)\n",
    "\n",
    "# Step 6: Predict and Evaluate Accuracy\n",
    "y_pred_proba = bigModel.predict_proba(X_test)[:, 1]  # Get probability for class 1"
   ]
  },
  {
   "cell_type": "code",
   "execution_count": 140,
   "metadata": {},
   "outputs": [
    {
     "name": "stdout",
     "output_type": "stream",
     "text": [
      "Precision: 0.849515\n",
      "Recall: 0.595238\n",
      "F1 Score: 0.7000\n"
     ]
    }
   ],
   "source": [
    "y_pred = (y_pred_proba >= 0.3).astype(int) \n",
    "precision = precision_score(y_test, y_pred)\n",
    "recall = recall_score(y_test, y_pred)\n",
    "f1 = f1_score(y_test, y_pred)\n",
    "\n",
    "print(f\"Precision: {precision:.6f}\")\n",
    "print(f\"Recall: {recall:.6f}\")\n",
    "print(f\"F1 Score: {f1:.4f}\")"
   ]
  },
  {
   "cell_type": "code",
   "execution_count": 139,
   "metadata": {},
   "outputs": [
    {
     "name": "stdout",
     "output_type": "stream",
     "text": [
      "Precision: 0.940000\n",
      "Recall: 0.479592\n",
      "F1 Score: 0.6351\n"
     ]
    }
   ],
   "source": [
    "# after spliting outliers in 2 direction\n",
    "y_pred = (y_pred_proba >= 0.4).astype(int) \n",
    "precision = precision_score(y_test, y_pred)\n",
    "recall = recall_score(y_test, y_pred)\n",
    "f1 = f1_score(y_test, y_pred)\n",
    "\n",
    "print(f\"Precision: {precision:.6f}\")\n",
    "print(f\"Recall: {recall:.6f}\")\n",
    "print(f\"F1 Score: {f1:.4f}\")"
   ]
  },
  {
   "cell_type": "markdown",
   "metadata": {},
   "source": [
    "## Normalization"
   ]
  },
  {
   "cell_type": "code",
   "execution_count": 81,
   "metadata": {},
   "outputs": [
    {
     "name": "stdout",
     "output_type": "stream",
     "text": [
      "Columns that are likely NOT normalized:\n",
      "                                                         mean        std\n",
      "Foreign_securities_firms_In_and_out_at_every_point   1.223706   1.006675\n",
      "Foreign_securities_firm_point_trading_power          1.221375   0.991976\n",
      "Foreign_securities_firms_Second_foodie_ratio         1.221701   0.993638\n",
      "Foreign_securities_firms_Point_shipment_ratio        1.221942   0.994027\n",
      "Foreign_securities_firms_In_and_exit_at_the_fir...   1.221205   1.011736\n",
      "...                                                       ...        ...\n",
      "Listing_weighted_index_10_day_trading_volume_vo...   1.220630   1.000325\n",
      "Listing_weighted_index_20_day_trading_volume_vo...   1.220340   0.998925\n",
      "is_outlier                                           0.999975   0.004989\n",
      "outlier_count_scaled                                 0.193175   0.150612\n",
      "outlier_count                                       65.682935  51.556169\n",
      "\n",
      "[674 rows x 2 columns]\n"
     ]
    }
   ],
   "source": [
    "stats = X.describe().T[['mean', 'std']]\n",
    "not_normalized = stats[(stats['mean'].abs() > 1e-2) | (stats['std'] > 1.1) | (stats['std'] < 0.9)]\n",
    "print(\"Columns that are likely NOT normalized:\")\n",
    "print(not_normalized)"
   ]
  },
  {
   "cell_type": "markdown",
   "metadata": {},
   "source": [
    "## Technical indicator"
   ]
  },
  {
   "cell_type": "code",
   "execution_count": 82,
   "metadata": {},
   "outputs": [
    {
     "data": {
      "image/png": "[encoded data removed]",
      "text/plain": [
       "<Figure size 720x432 with 1 Axes>"
      ]
     },
     "metadata": {
      "needs_background": "light"
     },
     "output_type": "display_data"
    }
   ],
   "source": [
    "import matplotlib.pyplot as plt\n",
    "import seaborn as sns\n",
    "\n",
    "plt.figure(figsize=(10, 6))\n",
    "sns.kdeplot(X[y == 0]['Technical_Indicators_Monthly_RSI_10'], label='y = 0', fill=True)\n",
    "sns.kdeplot(X[y == 1]['Technical_Indicators_Monthly_RSI_10'], label='y = 1', fill=True)\n",
    "plt.title('Distribution of Monthly RSI(10) by Target')\n",
    "plt.xlabel('Technical_Indicators_Monthly_RSI_10')\n",
    "plt.ylabel('Density')\n",
    "plt.legend()\n",
    "plt.show()"
   ]
  },
  {
   "cell_type": "code",
   "execution_count": 142,
   "metadata": {},
   "outputs": [
    {
     "data": {
      "image/png": "[encoded data removed]",
      "text/plain": [
       "<Figure size 720x432 with 1 Axes>"
      ]
     },
     "metadata": {
      "needs_background": "light"
     },
     "output_type": "display_data"
    }
   ],
   "source": [
    "plt.figure(figsize=(10, 6))\n",
    "sns.kdeplot(X[y == 0]['outlier_count'], label='y = 0', fill=True)\n",
    "sns.kdeplot(X[y == 1]['outlier_count'], label='y = 1', fill=True)\n",
    "plt.title('Distribution of Monthly RSI(10) by Target')\n",
    "plt.xlabel('outlier_count')\n",
    "plt.ylabel('Density')\n",
    "plt.legend()\n",
    "plt.show()"
   ]
  },
  {
   "cell_type": "code",
   "execution_count": 83,
   "metadata": {},
   "outputs": [
    {
     "name": "stdout",
     "output_type": "stream",
     "text": [
      "Top 5 features with largest distribution difference between y=0 and y=1:\n",
      "\n",
      "outlier_count: Wasserstein Distance = 38.1862\n",
      "Technical_indicators_Disagreement_rate_250_days: Wasserstein Distance = 2.0294\n",
      "Technical_indicators_Disagreement_rate_60_days: Wasserstein Distance = 1.8945\n",
      "Technical_Indicators_Monthly_RSI_10: Wasserstein Distance = 1.8389\n",
      "19_day_deviation_rate_of_individual_stocks: Wasserstein Distance = 1.8037\n"
     ]
    }
   ],
   "source": [
    "from scipy.stats import wasserstein_distance\n",
    "\n",
    "# Assuming X and y are already defined\n",
    "feature_distances = {}\n",
    "\n",
    "for col in X.columns:\n",
    "    try:\n",
    "        class_0 = X[y == 0][col].dropna()\n",
    "        class_1 = X[y == 1][col].dropna()\n",
    "        distance = wasserstein_distance(class_0, class_1)\n",
    "        feature_distances[col] = distance\n",
    "    except Exception as e:\n",
    "        print(f\"Could not process {col}: {e}\")\n",
    "\n",
    "# Sort and show top 5 features with highest distance\n",
    "top_diff_features = sorted(feature_distances.items(), key=lambda x: x[1], reverse=True)[:5]\n",
    "\n",
    "print(\"Top 5 features with largest distribution difference between y=0 and y=1:\\n\")\n",
    "for feature, dist in top_diff_features:\n",
    "    print(f\"{feature}: Wasserstein Distance = {dist:.4f}\")"
   ]
  },
  {
   "cell_type": "code",
   "execution_count": null,
   "metadata": {},
   "outputs": [],
   "source": []
  },
  {
   "cell_type": "markdown",
   "metadata": {},
   "source": [
    "## Trading volume"
   ]
  },
  {
   "cell_type": "code",
   "execution_count": 86,
   "metadata": {
    "scrolled": true
   },
   "outputs": [
    {
     "name": "stdout",
     "output_type": "stream",
     "text": [
      "Columns containing 'Trading_volume':\n",
      "Trading_volume_of_individual_stocks_in_the_first_day\n",
      "Trading_volume_of_individual_stocks_in_the_first_two_days\n",
      "Trading_volume_of_individual_stocks_in_the_first_3_days\n",
      "Trading_volume_in_the_first_4_days_of_individual_stocks\n",
      "Trading_volume_of_individual_stocks_in_the_first_5_days\n",
      "Trading_volume_of_individual_stocks_in_the_first_6_days\n",
      "Trading_volume_of_individual_stocks_in_the_first_7_days\n",
      "Trading_volume_of_individual_stocks_in_the_first_8_days\n",
      "Trading_volume_of_individual_stocks_in_the_first_9_days\n",
      "Trading_volume_in_the_first_10_days_of_individual_stocks\n",
      "Trading_volume_in_the_first_11_days_of_individual_stocks\n",
      "Trading_volume_in_the_first_12_days_of_individual_stocks\n",
      "Trading_volume_in_the_first_13_days_of_individual_stocks\n",
      "Trading_volume_in_the_first_14_days_of_individual_stocks\n",
      "Trading_volume_in_the_first_15_days_of_individual_stocks\n",
      "Trading_volume_of_individual_stocks_in_the_first_16_days\n",
      "Trading_volume_in_the_first_17_days_of_individual_stocks\n",
      "Trading_volume_in_the_first_18_days_of_individual_stocks\n",
      "Trading_volume_in_the_first_19_days_of_individual_stocks\n",
      "Trading_volume_in_the_first_20_days_of_individual_stocks\n",
      "Trading_volume_in_the_first_day_of_listing_weighted_index\n",
      "Trading_volume_in_the_first_two_days_of_listing_weighted_index\n",
      "Trading_volume_in_the_first_3_days_of_listing_weighted_index\n",
      "Trading_volume_in_the_first_4_days_of_listing_weighted_index\n",
      "Trading_volume_in_the_first_5_days_of_listing_weighted_index\n",
      "Trading_volume_in_the_first_6_days_of_listing_weighted_index\n",
      "Trading_volume_in_the_first_7_days_of_listing_weighted_index\n",
      "Trading_volume_in_the_first_8_days_of_listing_weighted_index\n",
      "Trading_volume_in_the_first_9_days_of_listing_weighted_index\n",
      "Trading_volume_in_the_first_10_days_of_listing_weighted_index\n",
      "Trading_volume_in_the_first_11_days_of_listing_weighted_index\n",
      "Trading_volume_in_the_first_12_days_of_listing_weighted_index\n",
      "Trading_volume_in_the_first_13_days_of_listing_weighted_index\n",
      "Trading_volume_in_the_first_14_days_of_listing_weighted_index\n",
      "Trading_volume_in_the_first_15_days_of_listing_weighted_index\n",
      "Trading_volume_in_the_first_16_days_of_listing_weighted_index\n",
      "Trading_volume_in_the_first_17_days_of_listing_weighted_index\n",
      "Trading_volume_in_the_first_18_days_of_listing_weighted_index\n",
      "Trading_volume_in_the_first_19_days_of_listing_weighted_index\n",
      "Trading_volume_in_the_first_20_days_of_listing_weighted_index\n"
     ]
    }
   ],
   "source": [
    "trading_volume_cols = [col for col in X.columns if 'Trading_volume' in col]\n",
    "print(\"Columns containing 'Trading_volume':\")\n",
    "for col in trading_volume_cols:\n",
    "    print(col)"
   ]
  },
  {
   "cell_type": "code",
   "execution_count": null,
   "metadata": {},
   "outputs": [],
   "source": []
  },
  {
   "cell_type": "markdown",
   "metadata": {},
   "source": [
    "## missing values"
   ]
  },
  {
   "cell_type": "markdown",
   "metadata": {},
   "source": [
    "### Original"
   ]
  },
  {
   "cell_type": "code",
   "execution_count": 57,
   "metadata": {},
   "outputs": [
    {
     "data": {
      "text/plain": [
       "(200864, 671)"
      ]
     },
     "execution_count": 57,
     "metadata": {},
     "output_type": "execute_result"
    }
   ],
   "source": [
    "X.shape"
   ]
  },
  {
   "cell_type": "code",
   "execution_count": 58,
   "metadata": {},
   "outputs": [
    {
     "name": "stdout",
     "output_type": "stream",
     "text": [
      "Foreign_securities_firm_point_trading_power                     2374\n",
      "Foreign_securities_firms_Second_foodie_ratio                    2374\n",
      "Foreign_securities_firms_Point_shipment_ratio                   2374\n",
      "Foreign_securities_firm_Trading_power_in_the_first_1_day        2311\n",
      "Foreign_securities_firms_Foodies_comparison_in_the_first_day    2311\n",
      "                                                                ... \n",
      "Quarterly_IFRS_financial_report_Quarterly_closing_price_yuan     907\n",
      "Quarterly_IFRS_Financial_Report_DPZ_Score                       5026\n",
      "Quarterly_IFRS_Financial_Report_DPZ_Level                       5026\n",
      "Quarterly_IFRS_Financial_Report_Z_Score                         5956\n",
      "Quarterly_IFRS_Financial_Report_Z_Level                         5956\n",
      "Length: 449, dtype: int64\n"
     ]
    }
   ],
   "source": [
    "# Count missing values per column\n",
    "missing_values = X.isna().sum()\n",
    "\n",
    "# Print only columns with missing values\n",
    "missing_values = missing_values[missing_values > 0]\n",
    "print(missing_values)"
   ]
  },
  {
   "cell_type": "code",
   "execution_count": 113,
   "metadata": {},
   "outputs": [],
   "source": []
  },
  {
   "cell_type": "code",
   "execution_count": 18,
   "metadata": {},
   "outputs": [],
   "source": [
    "X_train, X_test, y_train, y_test = train_test_split(X, y, test_size=0.2, random_state=42, stratify=y)"
   ]
  },
  {
   "cell_type": "code",
   "execution_count": 20,
   "metadata": {
    "scrolled": true
   },
   "outputs": [],
   "source": [
    "bigModel = lgb.LGBMClassifier(**arguments)\n",
    "bigModel.fit(X_train, y_train)\n",
    "\n",
    "# Step 6: Predict and Evaluate Accuracy\n",
    "y_pred_proba = bigModel.predict_proba(X_test)[:, 1]  # Get probability for class 1"
   ]
  },
  {
   "cell_type": "code",
   "execution_count": 21,
   "metadata": {},
   "outputs": [
    {
     "name": "stdout",
     "output_type": "stream",
     "text": [
      "Precision: 0.839623\n",
      "Recall: 0.605442\n",
      "F1 Score: 0.7036\n"
     ]
    }
   ],
   "source": [
    "y_pred = (y_pred_proba >= 0.3).astype(int) \n",
    "precision = precision_score(y_test, y_pred)\n",
    "recall = recall_score(y_test, y_pred)\n",
    "f1 = f1_score(y_test, y_pred)\n",
    "\n",
    "print(f\"Precision: {precision:.6f}\")\n",
    "print(f\"Recall: {recall:.6f}\")\n",
    "print(f\"F1 Score: {f1:.4f}\")"
   ]
  },
  {
   "cell_type": "code",
   "execution_count": 38,
   "metadata": {},
   "outputs": [
    {
     "name": "stdout",
     "output_type": "stream",
     "text": [
      "Duplicate Columns: ['Technical_Indicators_Quarter_DI_14', 'Technical_Indicators_DI_14', 'Technical_Indicators_DM_14', 'Technical_indicators_monthly_DM_14', 'Quarterly_IFRS_financial_report_After_tax_return_rate_cumulative_quarterly', 'Quarterly_IFRS_Financial_Report_Original_Cash_Flow_per_Share_yuan']\n"
     ]
    }
   ],
   "source": [
    "dupe_cols = X.columns[X.columns.duplicated()]\n",
    "print(\"Duplicate Columns:\", dupe_cols.tolist())"
   ]
  },
  {
   "cell_type": "code",
   "execution_count": 39,
   "metadata": {},
   "outputs": [],
   "source": [
    "X.columns = [f\"{col}_{i}\" if X.columns.duplicated()[i] else col for i, col in enumerate(X.columns)]"
   ]
  },
  {
   "cell_type": "code",
   "execution_count": 52,
   "metadata": {},
   "outputs": [],
   "source": [
    "X_filled_mean = X.fillna(X.mean())"
   ]
  },
  {
   "cell_type": "code",
   "execution_count": 53,
   "metadata": {},
   "outputs": [
    {
     "name": "stdout",
     "output_type": "stream",
     "text": [
      "Series([], dtype: int64)\n"
     ]
    }
   ],
   "source": [
    "missing_values = X_filled_mean.isna().sum()\n",
    "\n",
    "# Print only columns with missing values\n",
    "missing_values = missing_values[missing_values > 0]\n",
    "print(missing_values)"
   ]
  },
  {
   "cell_type": "code",
   "execution_count": 54,
   "metadata": {},
   "outputs": [],
   "source": [
    "X_train, X_test, y_train, y_test = train_test_split(X_filled_mean, y, test_size=0.2, random_state=42, stratify=y)"
   ]
  },
  {
   "cell_type": "code",
   "execution_count": 55,
   "metadata": {},
   "outputs": [],
   "source": [
    "bigModel = lgb.LGBMClassifier(**arguments)\n",
    "bigModel.fit(X_train, y_train)\n",
    "\n",
    "# Step 6: Predict and Evaluate Accuracy\n",
    "y_pred_proba = bigModel.predict_proba(X_test)[:, 1]  # Get probability for class 1"
   ]
  },
  {
   "cell_type": "code",
   "execution_count": 56,
   "metadata": {},
   "outputs": [
    {
     "name": "stdout",
     "output_type": "stream",
     "text": [
      "Precision: 0.837209\n",
      "Recall: 0.612245\n",
      "F1 Score: 0.7073\n"
     ]
    }
   ],
   "source": [
    "y_pred = (y_pred_proba >= 0.3).astype(int) \n",
    "precision = precision_score(y_test, y_pred)\n",
    "recall = recall_score(y_test, y_pred)\n",
    "f1 = f1_score(y_test, y_pred)\n",
    "\n",
    "print(f\"Precision: {precision:.6f}\")\n",
    "print(f\"Recall: {recall:.6f}\")\n",
    "print(f\"F1 Score: {f1:.4f}\")"
   ]
  },
  {
   "cell_type": "code",
   "execution_count": null,
   "metadata": {},
   "outputs": [],
   "source": []
  },
  {
   "cell_type": "code",
   "execution_count": 56,
   "metadata": {},
   "outputs": [],
   "source": [
    "feature_importance = pd.DataFrame({\"feature\": X_train.columns, \"importance\": bigModel.feature_importances_})\n",
    "feature_importance = feature_importance.sort_values(by=\"importance\", ascending=False)\n",
    "\n",
    "# Keep only top 200 most important features\n",
    "top_features = feature_importance.head(200)[\"feature\"].tolist()"
   ]
  },
  {
   "cell_type": "code",
   "execution_count": 57,
   "metadata": {},
   "outputs": [
    {
     "data": {
      "text/plain": [
       "['Technical_Indicators_Monthly_RSI_10',\n",
       " 'Technical_indicators_Monthly_RSI_5',\n",
       " 'Technical_indicators_Journey_K_9',\n",
       " 'Technical_Indicators_Jing_RSI_10',\n",
       " 'Technical_Indicators_Alpha_250D',\n",
       " 'Technical_indicators_Quest_D_9',\n",
       " 'Technical_Indicators_Zhou_RSI_5',\n",
       " 'Technical_indicators_Disagreement_rate_250_days',\n",
       " 'Technical_Indicators_Quarterly_RSI_5',\n",
       " 'Technical_Indicators_Monthly_ADX_14',\n",
       " 'Technical_Indicators_RSI_10',\n",
       " 'Technical_indicators_relative_strength_ratio_weekly',\n",
       " 'Technical_indicators_Monthly_K_9',\n",
       " 'Technical_indicators_monthly_DI_14',\n",
       " 'Technical_indicators_month_DI_14',\n",
       " 'Technical_indicators_Monthly_D_9',\n",
       " 'Technical_Indicators_Week_DI_14',\n",
       " '5_day_return_rate_for_individual_stocks',\n",
       " 'Technical_Indicators_Quarterly_RSI_10',\n",
       " '10_day_deviation_rate_of_individual_stocks',\n",
       " 'Technical_Indicators_RSI_5',\n",
       " 'Technical_Indicators_Jing_DI_14',\n",
       " 'Technical_Indicators_DI_14',\n",
       " 'Technical_Indicators_Quest_ADX_14',\n",
       " 'Technical_indicators_Disagreement_rate_20_days',\n",
       " 'Listing_weighted_index_1_day_return_rate',\n",
       " 'Technical_Indicators_Quarter_DI_14',\n",
       " 'Technical_Indicators_Jiu_ADXR_14',\n",
       " 'Technical_indicators_Disagreement_rate_60_days',\n",
       " '5_day_deviation_rate_of_individual_stocks',\n",
       " 'Official_stock_brokerage_firm_Stakeholding_ratio',\n",
       " 'Technical_Indicators_Monthly_ADXR_14',\n",
       " 'Technical_Indicators_Zhou_ADX_14',\n",
       " 'Listing_weighted_index_10_day_trading_volume_volatility',\n",
       " 'Listing_weighted_index_20_day_return_rate',\n",
       " 'Technical_indicators_Zhou_K_9',\n",
       " 'Listing_weighted_index_5_day_volatility',\n",
       " 'Trading_volume_in_the_first_two_days_of_listing_weighted_index',\n",
       " 'Listing_weighted_index_5_day_trading_volume_volatility',\n",
       " 'Technical_Indicators_CM_VIX',\n",
       " 'Technical_Indicators_DIF_MACD',\n",
       " '10_day_return_rate_for_individual_stocks',\n",
       " 'Listing_weighted_index_5_day_deviation_rate',\n",
       " 'Technical_Indicators_Zhou_D_9',\n",
       " 'Technical_Indicators_ADX_14',\n",
       " 'Listing_weighted_index_10_day_return_rate',\n",
       " 'Technical_indicators_monthly_DM_14',\n",
       " 'Technical_indicators_K_9',\n",
       " 'vol_std_20',\n",
       " 'Trading_volume_in_the_first_13_days_of_listing_weighted_index',\n",
       " 'Technical_Indicators_DI_14',\n",
       " 'Technical_indicators_W_R_10',\n",
       " '19_day_deviation_rate_of_individual_stocks',\n",
       " 'price_ma_20',\n",
       " 'Technical_Indicators_D_9',\n",
       " 'Listing_weighted_index_10_day_volatility',\n",
       " 'Technical_Indicators_ADXR_14',\n",
       " 'Listing_weighted_index_20_day_trading_volume_volatility',\n",
       " 'Trading_volume_in_the_first_16_days_of_listing_weighted_index',\n",
       " 'Quarterly_IFRS_Financial_Report_Original_Cash_Flow_per_Share_yuan',\n",
       " 'price_ma_10',\n",
       " 'Listing_weighted_index_19_day_deviation_rate',\n",
       " '20_day_return_rate_of_individual_stocks',\n",
       " 'Technical_Indicators_Quarter_DI_14',\n",
       " 'Trading_volume_in_the_first_9_days_of_listing_weighted_index',\n",
       " 'Trading_volume_in_the_first_19_days_of_listing_weighted_index',\n",
       " 'Listing_weighted_index_5_day_return_rate',\n",
       " 'Trading_volume_in_the_first_20_days_of_listing_weighted_index',\n",
       " '1_day_return_rate_of_individual_stocks',\n",
       " 'Technical_indicators_W_R_5',\n",
       " 'Statistics_of_the_main_trading_of_individual_stocks_The_main_trading_of_the_last_240_days_exceeded',\n",
       " 'Analysis_of_individual_stock_brokerage_points_area_Trading_area_density_of_5_minutes_in_the_past_60_days',\n",
       " 'Technical_indicators_Quarter_DM_14',\n",
       " 'Technical_indicators_Beta_coefficient_21D',\n",
       " 'Main_brokerage_Trading_power_in_the_first_9_days',\n",
       " 'vol_ma_20',\n",
       " 'Trading_volume_in_the_first_17_days_of_listing_weighted_index',\n",
       " 'Trading_volume_in_the_first_day_of_listing_weighted_index',\n",
       " 'Analysis_of_individual_stock_brokerage_points_area_Trading_area_density_of_3_minutes_in_the_past_60_days',\n",
       " 'Technical_Indicators_DIF',\n",
       " 'Technical_indicators_Beta_coefficient_250D',\n",
       " 'Listing_weighted_index_20_day_volatility',\n",
       " 'Technical_indicators_relative_strength_ratio_daily',\n",
       " 'Listing_weighted_index_trading_volume',\n",
       " 'Trading_volume_in_the_first_4_days_of_listing_weighted_index',\n",
       " 'Daily_Investment_Credit_Investor_s_shareholding_ratio',\n",
       " 'Statistics_of_the_main_trading_of_individual_stocks_The_main_trading_of_the_last_1_day_exceeded',\n",
       " 'Technical_Indicators_Zhou_DIF_Zhou_MACD',\n",
       " 'Technical_indicators_Quarter_TR_14',\n",
       " 'Analysis_of_individual_stock_brokerage_points_area_Trading_2_minutes_area_area_density_in_the_past_20_days',\n",
       " 'Listing_weighted_index_10_day_deviation_rate',\n",
       " 'Analysis_of_individual_stock_brokerage_points_area_Selling_area_density_of_more_than_5_minutes_in_the_past_20_days',\n",
       " 'Trading_volume_in_the_first_8_days_of_listing_weighted_index',\n",
       " 'Technical_indicators_Beta_coefficient_65D',\n",
       " 'Analysis_of_individual_stock_brokerage_chips_Selling_distribution_coefficient_in_the_past_60_days',\n",
       " 'Main_brokerage_firm_Trading_power_in_the_first_20_days',\n",
       " 'Trading_volume_in_the_first_15_days_of_listing_weighted_index',\n",
       " 'Technical_Indicators_MACD',\n",
       " 'Monthly_revenue_endorsement_guaranteed_monthly_amount_thousands',\n",
       " 'Main_brokerage_Foodies_in_the_first_20_days',\n",
       " 'vol_std_10',\n",
       " 'Main_brokerage_firm_Trading_power_in_the_first_6_days',\n",
       " 'Official_stock_brokerage_firm_Buy_Jun_Zhang',\n",
       " 'Analysis_of_individual_stock_brokerage_points_area_Buy_more_than_3_minutes_area_area_density_in_the_past_5_days',\n",
       " 'Quarterly_IFRS_Financial_Report_Fixed_Asset_Growth_Rate',\n",
       " 'Main_brokerage_firm_Trading_power_in_the_first_3_days',\n",
       " 'Technical_Indicators_Watch_DM_14',\n",
       " 'Trading_volume_in_the_first_3_days_of_listing_weighted_index',\n",
       " 'Analysis_of_individual_stock_brokerage_points_area_Trading_area_density_of_3_minutes_in_the_past_5_days',\n",
       " 'Monthly_revenue_Endorsement_guaranteed_cumulative_balance_to_net_value_ratio',\n",
       " 'vol_ma_10',\n",
       " 'vol_std_5',\n",
       " 'Quarterly_IFRS_Financial_Report_Original_Cash_Flow_per_Share_yuan',\n",
       " 'Japanese_foreign_capital_Foreign_capital_can_still_invest_in',\n",
       " 'Trading_volume_in_the_first_12_days_of_listing_weighted_index',\n",
       " 'Trading_volume_in_the_first_10_days_of_listing_weighted_index',\n",
       " 'Technical_Indicators_Quarter_DM_14',\n",
       " 'Statistics_of_the_main_trading_of_individual_stocks_The_main_trading_of_the_last_1_day',\n",
       " 'price_ma_5',\n",
       " 'Main_brokerage_Trading_power_in_the_first_17_days',\n",
       " 'Statistics_of_the_main_trading_of_individual_stocks_The_main_trading_of_the_last_10_days_exceeded',\n",
       " 'Foreign_securities_firms_In_and_exit_in_the_first_2_days',\n",
       " 'Analysis_of_individual_stock_brokerage_points_area_Trading_2_minutes_area_area_density_in_the_past_5_days',\n",
       " 'Analysis_of_individual_stock_brokerage_points_area_Selling_area_density_of_more_than_2_points_in_the_past_5_days',\n",
       " 'Main_brokerage_Trading_power_in_the_first_11_days',\n",
       " 'Main_brokerage_firm_Trading_power_in_the_first_15_days',\n",
       " 'Main_brokerage_firm_Trading_power_in_the_first_14_days',\n",
       " 'Trading_volume_in_the_first_6_days_of_listing_weighted_index',\n",
       " 'Quarterly_IFRS_Financial_Report_Cash_Flow_Ratio',\n",
       " 'Analysis_of_individual_stock_brokerage_chips_Buy_distribution_coefficient_in_the_past_5_days',\n",
       " 'Analysis_of_individual_stock_brokerage_points_area_Trading_area_density_of_3_minutes_in_the_past_20_days',\n",
       " 'Quarterly_IFRS_financial_report_original_operating_cash_flow_per_share_yuan',\n",
       " 'Analysis_of_individual_stock_brokerage_points_area_Buy_more_than_5_minutes_area_area_density_in_the_past_1_day',\n",
       " 'Analysis_of_individual_stock_brokerage_points_area_Selling_area_density_of_more_than_5_minutes_in_the_past_60_days',\n",
       " 'Japanese_foreign_capital_Foreign_capital_holding_cost',\n",
       " 'Analysis_of_individual_stock_brokerage_points_area_Selling_area_density_of_more_than_5_minutes_in_the_past_5_days',\n",
       " 'Official_stock_brokerage_firm_Zhang_Zengjiu',\n",
       " 'Analysis_of_individual_stock_brokerage_chips_Selling_distribution_coefficient_in_the_past_20_days',\n",
       " 'Technical_Indicators_Zhou_DIF',\n",
       " 'Trading_volume_in_the_first_5_days_of_listing_weighted_index',\n",
       " 'Technical_indicators_Monthly_DIF',\n",
       " 'Foreign_securities_firms_In_and_exit_in_the_first_3_days',\n",
       " 'Statistics_of_the_main_trading_of_individual_stocks_The_main_trading_of_the_last_5_days_exceeded',\n",
       " 'Trading_volume_in_the_first_11_days_of_listing_weighted_index',\n",
       " 'Main_brokerage_firm_Shipping_ratio_in_the_first_17_days',\n",
       " 'Foreign_securities_firms_In_and_exit_in_the_first_5_days',\n",
       " 'Statistics_of_the_main_trading_of_individual_stocks_The_main_trading_of_the_last_120_days_exceeded',\n",
       " 'Trading_volume_in_the_first_18_days_of_listing_weighted_index',\n",
       " 'Analysis_of_individual_stock_brokerage_points_area_Buy_more_than_3_minutes_area_area_density_in_the_past_20_days',\n",
       " 'Quarterly_IFRS_Financial_Report_Total_Asset_Growth_Rate',\n",
       " 'Analysis_of_individual_stock_brokerage_chips_Trading_and_trading_share',\n",
       " 'Technical_indicators_Historical_volatility_in_the_past_year',\n",
       " 'Quarterly_IFRS_Financial_Report_Cash_to_Current_Assets_Ratio',\n",
       " 'Trading_volume_in_the_first_7_days_of_listing_weighted_index',\n",
       " 'Main_brokerage_firm_Shipping_ratio_in_the_first_7_days',\n",
       " 'Quarterly_IFRS_financial_report_Net_value_turnover_rate_cumulative_quarterly_times',\n",
       " 'Statistics_of_the_main_trading_of_individual_stocks_The_main_trading_of_the_last_60_days_exceeded',\n",
       " 'Quarterly_IFRS_Financial_Report_Raverage_of_operating_profit_to_paid_in_capital',\n",
       " 'Statistics_of_the_main_trading_of_individual_stocks_The_main_trading_of_the_last_20_days_exceeded',\n",
       " 'Main_brokerage_firm_Trading_power_in_the_first_8_days',\n",
       " 'Monthly_revenue_One_monthly_consolidated_revenue_annual_growth',\n",
       " 'Main_brokerage_Trading_power_in_the_first_10_days',\n",
       " 'Main_brokerage_firm_Trading_power_in_the_first_7_days',\n",
       " 'vol_ma_5',\n",
       " 'Analysis_of_individual_stock_brokerage_points_area_Buy_more_than_5_minutes_area_area_density_in_the_past_60_days',\n",
       " 'Analysis_of_individual_stock_brokerage_points_area_Buy_more_than_2_points_area_area_density_in_the_past_60_days',\n",
       " 'Trading_volume_in_the_first_14_days_of_listing_weighted_index',\n",
       " 'Quarterly_IFRS_Financial_Report_Z_Score',\n",
       " 'Quarterly_IFRS_Financial_Report_Cash_to_Current_Liability_Ratio',\n",
       " 'Analysis_of_individual_stock_brokerage_points_area_Selling_area_density_of_more_than_5_minutes_in_the_past_1_day',\n",
       " 'Main_brokerage_Trading_power_in_the_first_2_days',\n",
       " 'Technical_Indicators_Zhou_MACD',\n",
       " 'Analysis_of_individual_stock_brokerage_chips_buy_distribution_coefficient_in_the_past_60_days',\n",
       " 'Technical_indicators_Historical_volatility_in_the_past_three_months',\n",
       " 'Main_brokerage_firm_Trading_power_in_the_first_19_days',\n",
       " 'Analysis_of_individual_stock_brokerage_points_area_Trading_area_density_of_5_minutes_in_the_past_1_day',\n",
       " 'Monthly_revenue_monthly_consolidated_revenue_changes',\n",
       " 'Statistics_of_the_main_trading_of_individual_stocks_The_main_trading_of_the_last_20_days',\n",
       " 'Quarterly_IFRS_Financial_Report_Net_Value_Growth_Rate',\n",
       " 'Main_brokerage_firm_Trading_power_in_the_first_13_days',\n",
       " 'Quarterly_IFRS_Financial_Report_DPZ_Score',\n",
       " 'Foreign_securities_firms_Shipping_ratio_in_the_first_4_days',\n",
       " 'Listing_weighted_index_closing_price',\n",
       " 'Foreign_securities_firms_In_and_exit_at_the_first_11_days',\n",
       " 'Main_brokerage_Foodies_in_the_first_8_days',\n",
       " 'Statistics_of_the_main_trading_of_individual_stocks_The_main_trading_of_the_last_10_days',\n",
       " 'Foreign_securities_firms_In_and_exit_at_the_first_1_day',\n",
       " 'Foreign_securities_firms_In_and_exit_in_the_first_20_days',\n",
       " 'Quarterly_IFRS_financial_report_Cash_flow_ratio_cumulative_quarterly',\n",
       " 'Technical_Indicators_Season_DIF_Season_MACD',\n",
       " 'Quarterly_IFRS_financial_report_Total_asset_turnover_rate_cumulative_quarterly_times',\n",
       " 'Analysis_of_individual_stock_brokerage_points_area_Buy_more_than_2_minutes_area_area_density_in_the_past_20_days',\n",
       " 'Daily_self_operated_Ownership_shareholding_ratio',\n",
       " 'Official_stock_brokerage_firm_Stock_market_value_thousands',\n",
       " 'Quarterly_IFRS_financial_report_Revenue_growth_rate_cumulative_quarterly',\n",
       " 'Technical_indicators_Annualized_volatility_250D',\n",
       " 'Quarterly_IFRS_Financial_Report_End_of_the_Stock_Price_Net_Value_Ratio',\n",
       " 'Monthly_revenue_Fund_loan_balance_thousands',\n",
       " 'Official_stock_brokerage_Inventory',\n",
       " '5_day_volatility_of_individual_stocks']"
      ]
     },
     "execution_count": 57,
     "metadata": {},
     "output_type": "execute_result"
    }
   ],
   "source": [
    "top_features"
   ]
  },
  {
   "cell_type": "code",
   "execution_count": 55,
   "metadata": {},
   "outputs": [
    {
     "name": "stdout",
     "output_type": "stream",
     "text": [
      "Precision: 0.809302\n",
      "Recall: 0.591837\n",
      "F1 Score: 0.6837\n"
     ]
    }
   ],
   "source": [
    "y_pred = (y_pred_proba >= 0.3).astype(int) \n",
    "precision = precision_score(y_test, y_pred)\n",
    "recall = recall_score(y_test, y_pred)\n",
    "f1 = f1_score(y_test, y_pred)\n",
    "\n",
    "print(f\"Precision: {precision:.6f}\")\n",
    "print(f\"Recall: {recall:.6f}\")\n",
    "print(f\"F1 Score: {f1:.4f}\")"
   ]
  },
  {
   "cell_type": "markdown",
   "metadata": {},
   "source": [
    "### Feature engineering "
   ]
  },
  {
   "cell_type": "code",
   "execution_count": 58,
   "metadata": {
    "scrolled": true
   },
   "outputs": [
    {
     "name": "stderr",
     "output_type": "stream",
     "text": [
      "C:\\Users\\Andy\\Anaconda3\\lib\\site-packages\\ipykernel_launcher.py:2: SettingWithCopyWarning: \n",
      "A value is trying to be set on a copy of a slice from a DataFrame.\n",
      "Try using .loc[row_indexer,col_indexer] = value instead\n",
      "\n",
      "See the caveats in the documentation: https://pandas.pydata.org/pandas-docs/stable/user_guide/indexing.html#returning-a-view-versus-a-copy\n",
      "  \n"
     ]
    }
   ],
   "source": [
    "# Feature 1: Momentum-based RSI signal\n",
    "X['RSI_Trend'] = X['Technical_Indicators_Monthly_RSI_10'] - X['Technical_indicators_Monthly_RSI_5']\n",
    "\n",
    "# Feature 2: Volatility Spread (Long-term vs Short-term)\n",
    "X['Volatility_Trend'] = X['vol_std_20'] - X['5_day_deviation_rate_of_individual_stocks']\n",
    "\n",
    "# Feature 3: Return Rate Acceleration\n",
    "X['Return_Acceleration'] = X['10_day_return_rate_for_individual_stocks'] - X['5_day_return_rate_for_individual_stocks']\n",
    "\n",
    "# Feature 4: Index vs. Stock Return Difference\n",
    "X['Index_vs_Stock_Return'] = X['Listing_weighted_index_5_day_return_rate'] - X['5_day_return_rate_for_individual_stocks']\n",
    "\n",
    "# Feature 5: Moving Average Difference (Short vs. Long)\n",
    "X['MA_Trend'] = X['price_ma_10'] - X['price_ma_20']\n",
    "\n",
    "# Feature 6: Brokerage Holding Change Rate\n",
    "X['Stakeholding_Change'] = X['Official_stock_brokerage_firm_Stakeholding_ratio'].pct_change()\n",
    "\n",
    "# Feature 7: MACD Signal Strength\n",
    "X['MACD_Change'] = X['Technical_Indicators_MACD'].diff()\n",
    "\n",
    "# Feature 8: ADX Strength Change\n",
    "X['ADX_Change'] = X['Technical_Indicators_ADX_14'].diff()\n"
   ]
  },
  {
   "cell_type": "code",
   "execution_count": 60,
   "metadata": {},
   "outputs": [],
   "source": [
    "X_train, X_test, y_train, y_test = train_test_split(X, y, test_size=0.2, random_state=42, stratify=y)"
   ]
  },
  {
   "cell_type": "code",
   "execution_count": 61,
   "metadata": {},
   "outputs": [],
   "source": [
    "bigModel = lgb.LGBMClassifier(**arguments)\n",
    "bigModel.fit(X_train, y_train)\n",
    "\n",
    "# Step 6: Predict and Evaluate Accuracy\n",
    "y_pred_proba = bigModel.predict_proba(X_test)[:, 1]  # Get probability for class 1"
   ]
  },
  {
   "cell_type": "code",
   "execution_count": 68,
   "metadata": {},
   "outputs": [
    {
     "name": "stdout",
     "output_type": "stream",
     "text": [
      "Precision: 0.835000\n",
      "Recall: 0.568027\n",
      "F1 Score: 0.6761\n"
     ]
    }
   ],
   "source": [
    "y_pred = (y_pred_proba >= 0.3).astype(int) \n",
    "precision = precision_score(y_test, y_pred)\n",
    "recall = recall_score(y_test, y_pred)\n",
    "f1 = f1_score(y_test, y_pred)\n",
    "\n",
    "print(f\"Precision: {precision:.6f}\")\n",
    "print(f\"Recall: {recall:.6f}\")\n",
    "print(f\"F1 Score: {f1:.4f}\")"
   ]
  },
  {
   "cell_type": "code",
   "execution_count": 66,
   "metadata": {},
   "outputs": [],
   "source": [
    "feature_importance = pd.DataFrame({\"feature\": X_train.columns, \"importance\": bigModel.feature_importances_})\n",
    "feature_importance = feature_importance.sort_values(by=\"importance\", ascending=False)\n",
    "\n",
    "# Keep only top 200 most important features\n",
    "top_features = feature_importance.head(50)[\"feature\"].tolist()"
   ]
  },
  {
   "cell_type": "code",
   "execution_count": 67,
   "metadata": {},
   "outputs": [
    {
     "data": {
      "text/plain": [
       "['Technical_Indicators_Monthly_RSI_10',\n",
       " 'Technical_indicators_Journey_K_9',\n",
       " 'Technical_indicators_Monthly_RSI_5',\n",
       " 'Technical_Indicators_Jing_RSI_10',\n",
       " 'Technical_Indicators_Alpha_250D',\n",
       " 'Technical_Indicators_Zhou_RSI_5',\n",
       " 'Technical_indicators_Quest_D_9',\n",
       " 'Technical_indicators_Disagreement_rate_250_days',\n",
       " 'Technical_Indicators_Quarterly_RSI_5',\n",
       " 'Technical_indicators_relative_strength_ratio_weekly',\n",
       " 'Technical_Indicators_RSI_10',\n",
       " 'Technical_indicators_monthly_DI_14',\n",
       " 'Technical_indicators_month_DI_14',\n",
       " 'Technical_Indicators_Monthly_ADX_14',\n",
       " 'Technical_Indicators_RSI_5',\n",
       " 'Technical_indicators_Monthly_K_9',\n",
       " 'Technical_indicators_Monthly_D_9',\n",
       " 'Technical_Indicators_Quarterly_RSI_10',\n",
       " 'Technical_Indicators_Week_DI_14',\n",
       " 'Technical_Indicators_Jing_DI_14',\n",
       " '10_day_deviation_rate_of_individual_stocks',\n",
       " 'Technical_Indicators_DI_14',\n",
       " 'Listing_weighted_index_1_day_return_rate',\n",
       " 'RSI_Trend',\n",
       " 'Technical_Indicators_Quest_ADX_14',\n",
       " 'Technical_Indicators_Quarter_DI_14',\n",
       " 'Technical_indicators_Disagreement_rate_20_days',\n",
       " 'Technical_indicators_Disagreement_rate_60_days',\n",
       " '5_day_return_rate_for_individual_stocks',\n",
       " 'Technical_indicators_Zhou_K_9',\n",
       " 'Listing_weighted_index_20_day_return_rate',\n",
       " 'Technical_Indicators_Monthly_ADXR_14',\n",
       " 'Technical_Indicators_Jiu_ADXR_14',\n",
       " 'Listing_weighted_index_10_day_trading_volume_volatility',\n",
       " '5_day_deviation_rate_of_individual_stocks',\n",
       " 'Technical_Indicators_Zhou_ADX_14',\n",
       " 'Technical_Indicators_ADX_14',\n",
       " 'Listing_weighted_index_5_day_trading_volume_volatility',\n",
       " 'Technical_Indicators_CM_VIX',\n",
       " 'ADX_Change',\n",
       " 'Listing_weighted_index_10_day_return_rate',\n",
       " 'Technical_indicators_K_9',\n",
       " 'Listing_weighted_index_5_day_deviation_rate',\n",
       " 'Volatility_Trend',\n",
       " 'Technical_Indicators_Quarter_DI_14',\n",
       " '10_day_return_rate_for_individual_stocks',\n",
       " '19_day_deviation_rate_of_individual_stocks',\n",
       " 'Listing_weighted_index_5_day_volatility',\n",
       " 'Technical_Indicators_DIF_MACD',\n",
       " 'Listing_weighted_index_19_day_deviation_rate']"
      ]
     },
     "execution_count": 67,
     "metadata": {},
     "output_type": "execute_result"
    }
   ],
   "source": [
    "top_features"
   ]
  },
  {
   "cell_type": "code",
   "execution_count": null,
   "metadata": {},
   "outputs": [],
   "source": []
  }
 ],
 "metadata": {
  "kernelspec": {
   "display_name": "Python 3",
   "language": "python",
   "name": "python3"
  },
  "language_info": {
   "codemirror_mode": {
    "name": "ipython",
    "version": 3
   },
   "file_extension": ".py",
   "mimetype": "text/x-python",
   "name": "python",
   "nbconvert_exporter": "python",
   "pygments_lexer": "ipython3",
   "version": "3.7.3"
  }
 },
 "nbformat": 4,
 "nbformat_minor": 2
}

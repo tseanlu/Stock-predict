{
 "cells": [
  {
   "cell_type": "code",
   "execution_count": 6,
   "metadata": {},
   "outputs": [],
   "source": [
    "import os\n",
    "new_dir = \"C:/Users/Andy/Documents/stock/\"\n",
    "os.chdir(new_dir)"
   ]
  },
  {
   "cell_type": "code",
   "execution_count": 15,
   "metadata": {
    "scrolled": true
   },
   "outputs": [
    {
     "name": "stderr",
     "output_type": "stream",
     "text": [
      "[W 2025-03-19 19:28:53,154] Caught an error from sqlalchemy: (sqlite3.OperationalError) too many SQL variables\n",
      "[SQL: SELECT trials.trial_id AS trials_trial_id, trials.number AS trials_number, trials.study_id AS trials_study_id, trials.state AS trials_state, trials.datetime_start AS trials_datetime_start, trials.datetime_complete AS trials_datetime_complete \n",
      "FROM trials \n",
      "WHERE trials.trial_id IN (?, ?, ?, ?, ?, ?, ?, ?, ?, ?, ?, ?, ?, ?, ?, ?, ?, ?, ?, ?, ?, ?, ?, ?, ?, ?, ?, ?, ?, ?, ?, ?, ?, ?, ?, ?, ?, ?, ?, ?, ?, ?, ?, ?, ?, ?, ?, ?, ?, ?, ?, ?, ?, ?, ?, ?, ?, ?, ?, ?, ?, ?, ?, ?, ?, ?, ?, ?, ?, ?, ?, ?, ?, ?, ?, ?, ?, ?, ?, ?, ?, ?, ?, ?, ?, ?, ?, ?, ?, ?, ?, ?, ?, ?, ?, ?, ?, ?, ?, ?, ?, ?, ?, ?, ?, ?, ?, ?, ?, ?, ?, ?, ?, ?, ?, ?, ?, ?, ?, ?, ?, ?, ?, ?, ?, ?, ?, ?, ?, ?, ?, ?, ?, ?, ?, ?, ?, ?, ?, ?, ?, ?, ?, ?, ?, ?, ?, ?, ?, ?, ?, ?, ?, ?, ?, ?, ?, ?, ?, ?, ?, ?, ?, ?, ?, ?, ?, ?, ?, ?, ?, ?, ?, ?, ?, ?, ?, ?, ?, ?, ?, ?, ?, ?, ?, ?, ?, ?, ?, ?, ?, ?, ?, ?, ?, ?, ?, ?, ?, ?, ?, ?, ?, ?, ?, ?, ?, ?, ?, ?, ?, ?, ?, ?, ?, ?, ?, ?, ?, ?, ?, ?, ?, ?, ?, ?, ?, ?, ?, ?, ?, ?, ?, ?, ?, ?, ?, ?, ?, ?, ?, ?, ?, ?, ?, ?, ?, ?, ?, ?, ?, ?, ?, ?, ?, ?, ?, ?, ?, ?, ?, ?, ?, ?, ?, ?, ?, ?, ?, ?, ?, ?, ?, ?, ?, ?, ?, ?, ?, ?, ?, ?, ?, ?, ?, ?, ?, ?, ?, ?, ?, ?, ?, ?, ?, ?, ?, ?, ?, ?, ?, ?, ?, ?, ?, ?, ?, ?, ?, ?, ?, ?, ?, ?, ?, ?, ?, ?, ?, ?, ?, ?, ?, ?, ?, ?, ?, ?, ?, ?, ?, ?, ?, ?, ?, ?, ?, ?, ?, ?, ?, ?, ?, ?, ?, ?, ?, ?, ?, ?, ?, ?, ?, ?, ?, ?, ?, ?, ?, ?, ?, ?, ?, ?, ?, ?, ?, ?, ?, ?, ?, ?, ?, ?, ?, ?, ?, ?, ?, ?, ?, ?, ?, ?, ?, ?, ?, ?, ?, ?, ?, ?, ?, ?, ?, ?, ?, ?, ?, ?, ?, ?, ?, ?, ?, ?, ?, ?, ?, ?, ?, ?, ?, ?, ?, ?, ?, ?, ?, ?, ?, ?, ?, ?, ?, ?, ?, ?, ?, ?, ?, ?, ?, ?, ?, ?, ?, ?, ?, ?, ?, ?, ?, ?, ?, ?, ?, ?, ?, ?, ?, ?, ?, ?, ?, ?, ?, ?, ?, ?, ?, ?, ?, ?, ?, ?, ?, ?, ?, ?, ?, ?, ?, ?, ?, ?, ?, ?, ?, ?, ?, ?, ?, ?, ?, ?, ?, ?, ?, ?, ?, ?, ?, ?, ?, ?, ?, ?, ?, ?, ?, ?, ?, ?, ?, ?, ?, ?, ?, ?, ?, ?, ?, ?, ?, ?, ?, ?, ?, ?, ?, ?, ?, ?, ?, ?, ?, ?, ?, ?, ?, ?, ?, ?, ?, ?, ?, ?, ?, ?, ?, ?, ?, ?, ?, ?, ?, ?, ?, ?, ?, ?, ?, ?, ?, ?, ?, ?, ?, ?, ?, ?, ?, ?, ?, ?, ?, ?, ?, ?, ?, ?, ?, ?, ?, ?, ?, ?, ?, ?, ?, ?, ?, ?, ?, ?, ?, ?, ?, ?, ?, ?, ?, ?, ?, ?, ?, ?, ?, ?, ?, ?, ?, ?, ?, ?, ?, ?, ?, ?, ?, ?, ?, ?, ?, ?, ?, ?, ?, ?, ?, ?, ?, ?, ?, ?, ?, ?, ?, ?, ?, ?, ?, ?, ?, ?, ?, ?, ?, ?, ?, ?, ?, ?, ?, ?, ?, ?, ?, ?, ?, ?, ?, ?, ?, ?, ?, ?, ?, ?, ?, ?, ?, ?, ?, ?, ?, ?, ?, ?, ?, ?, ?, ?, ?, ?, ?, ?, ?, ?, ?, ?, ?, ?, ?, ?, ?, ?, ?, ?, ?, ?, ?, ?, ?, ?, ?, ?, ?, ?, ?, ?, ?, ?, ?, ?, ?, ?, ?, ?, ?, ?, ?, ?, ?, ?, ?, ?, ?, ?, ?, ?, ?, ?, ?, ?, ?, ?, ?, ?, ?, ?, ?, ?, ?, ?, ?, ?, ?, ?, ?, ?, ?, ?, ?, ?, ?, ?, ?, ?, ?, ?, ?, ?, ?, ?, ?, ?, ?, ?, ?, ?, ?, ?, ?, ?, ?, ?, ?, ?, ?, ?, ?, ?, ?, ?, ?, ?, ?, ?, ?, ?, ?, ?, ?, ?, ?, ?, ?, ?, ?, ?, ?, ?, ?, ?, ?, ?, ?, ?, ?, ?, ?, ?, ?, ?, ?, ?, ?, ?, ?, ?, ?, ?, ?, ?, ?, ?, ?, ?, ?, ?, ?, ?, ?, ?, ?, ?, ?, ?, ?, ?, ?, ?, ?, ?, ?, ?, ?, ?, ?, ?, ?, ?, ?, ?, ?, ?, ?, ?, ?, ?, ?, ?, ?, ?, ?, ?, ?, ?, ?, ?, ?, ?, ?, ?, ?, ?, ?, ?, ?, ?, ?, ?, ?, ?, ?, ?, ?, ?, ?, ?, ?, ?, ?, ?, ?, ?, ?, ?, ?, ?, ?, ?, ?, ?, ?, ?, ?, ?, ?, ?, ?, ?, ?, ?, ?, ?, ?, ?, ?, ?, ?, ?, ?, ?, ?, ?, ?, ?, ?, ?, ?, ?, ?, ?, ?, ?, ?, ?, ?, ?, ?, ?, ?, ?, ?, ?, ?, ?, ?, ?, ?, ?, ?, ?, ?, ?, ?, ?, ?, ?, ?, ?, ?, ?, ?, ?, ?, ?, ?, ?, ?, ?, ?, ?, ?, ?, ?, ?, ?, ?, ?, ?, ?, ?, ?, ?, ?, ?, ?, ?, ?, ?, ?, ?, ?, ?, ?, ?, ?, ?, ?, ?, ?, ?, ?, ?, ?, ?, ?, ?, ?, ?, ?, ?, ?, ?, ?, ?, ?) AND trials.study_id = ? ORDER BY trials.trial_id]\n",
      "[parameters: (1, 2, 3, 4, 5, 6, 7, 8, 9, 10, 11, 12, 13, 14, 15, 16, 17, 18, 19, 20, 21, 22, 23, 24, 25, 26, 27, 28, 29, 30, 31, 32, 33, 34, 35, 36, 37, 38, 39, 40, 41, 42, 43, 44, 45, 46, 47, 48, 49, 50, 51, 52, 53, 54, 55, 56, 57, 58, 59, 60, 61, 62, 63, 64, 65, 66, 67, 68, 69, 70, 71, 72, 73, 74, 75, 76, 77, 78, 79, 80, 81, 82, 83, 84, 85, 86, 87, 88, 89, 90, 91, 92, 93, 94, 95, 96, 97, 98, 99, 100, 101, 102, 103, 104, 105, 106, 107, 108, 109, 110, 111, 112, 113, 114, 115, 116, 117, 118, 119, 120, 121, 122, 123, 124, 125, 126, 127, 128, 129, 130, 131, 132, 133, 134, 135, 136, 137, 138, 139, 140, 141, 142, 143, 144, 145, 146, 147, 148, 149, 150, 151, 152, 153, 154, 155, 156, 157, 158, 159, 160, 161, 162, 163, 164, 165, 166, 167, 168, 169, 170, 171, 172, 173, 174, 175, 176, 177, 178, 179, 180, 181, 182, 183, 184, 185, 186, 187, 188, 189, 190, 191, 192, 193, 194, 195, 196, 197, 198, 199, 200, 201, 202, 203, 204, 205, 206, 207, 208, 209, 210, 211, 212, 213, 214, 215, 216, 217, 218, 219, 220, 221, 222, 223, 224, 225, 226, 227, 228, 229, 230, 231, 232, 233, 234, 235, 236, 237, 238, 239, 240, 241, 242, 243, 244, 245, 246, 247, 248, 249, 250, 251, 252, 253, 254, 255, 256, 257, 258, 259, 260, 261, 262, 263, 264, 265, 266, 267, 268, 269, 270, 271, 272, 273, 274, 275, 276, 277, 278, 279, 280, 281, 282, 283, 284, 285, 286, 287, 288, 289, 290, 291, 292, 293, 294, 295, 296, 297, 298, 299, 300, 301, 302, 303, 304, 305, 306, 307, 308, 309, 310, 311, 312, 313, 314, 315, 316, 317, 318, 319, 320, 321, 322, 323, 324, 325, 326, 327, 328, 329, 330, 331, 332, 333, 334, 335, 336, 337, 338, 339, 340, 341, 342, 343, 344, 345, 346, 347, 348, 349, 350, 351, 352, 353, 354, 355, 356, 357, 358, 359, 360, 361, 362, 363, 364, 365, 366, 367, 368, 369, 370, 371, 372, 373, 374, 375, 376, 377, 378, 379, 380, 381, 382, 383, 384, 385, 386, 387, 388, 389, 390, 391, 392, 393, 394, 395, 396, 397, 398, 399, 400, 401, 402, 403, 404, 405, 406, 407, 408, 409, 410, 411, 412, 413, 414, 415, 416, 417, 418, 419, 420, 421, 422, 423, 424, 425, 426, 427, 428, 429, 430, 431, 432, 433, 434, 435, 436, 437, 438, 439, 440, 441, 442, 443, 444, 445, 446, 447, 448, 449, 450, 451, 452, 453, 454, 455, 456, 457, 458, 459, 460, 461, 462, 463, 464, 465, 466, 467, 468, 469, 470, 471, 472, 473, 474, 475, 476, 477, 478, 479, 480, 481, 482, 483, 484, 485, 486, 487, 488, 489, 490, 491, 492, 493, 494, 495, 496, 497, 498, 499, 500, 501, 502, 503, 504, 505, 506, 507, 508, 509, 510, 511, 512, 513, 514, 515, 516, 517, 518, 519, 520, 521, 522, 523, 524, 525, 526, 527, 528, 529, 530, 531, 532, 533, 534, 535, 536, 537, 538, 539, 540, 541, 542, 543, 544, 545, 546, 547, 548, 549, 550, 551, 552, 553, 554, 555, 556, 557, 558, 559, 560, 561, 562, 563, 564, 565, 566, 567, 568, 569, 570, 571, 572, 573, 574, 575, 576, 577, 578, 579, 580, 581, 582, 583, 584, 585, 586, 587, 588, 589, 590, 591, 592, 593, 594, 595, 596, 597, 598, 599, 600, 601, 602, 603, 604, 605, 606, 607, 608, 609, 610, 611, 612, 613, 614, 615, 616, 617, 618, 619, 620, 621, 622, 623, 624, 625, 626, 627, 628, 629, 630, 631, 632, 633, 634, 635, 636, 637, 638, 639, 640, 641, 642, 643, 644, 645, 646, 647, 648, 649, 650, 651, 652, 653, 654, 655, 656, 657, 658, 659, 660, 661, 662, 663, 664, 665, 666, 667, 668, 669, 670, 671, 672, 673, 674, 675, 676, 677, 678, 679, 680, 681, 682, 683, 684, 685, 686, 687, 688, 689, 690, 691, 692, 693, 694, 695, 696, 697, 698, 699, 700, 701, 702, 703, 704, 705, 706, 707, 708, 709, 710, 711, 712, 713, 714, 715, 716, 717, 718, 719, 720, 721, 722, 723, 724, 725, 726, 727, 728, 729, 730, 731, 732, 733, 734, 735, 736, 737, 738, 739, 740, 741, 742, 743, 744, 745, 746, 747, 748, 749, 750, 751, 752, 753, 754, 755, 756, 757, 758, 759, 760, 761, 762, 763, 764, 765, 766, 767, 768, 769, 770, 771, 772, 773, 774, 775, 776, 777, 778, 779, 780, 781, 782, 783, 784, 785, 786, 787, 788, 789, 790, 791, 792, 793, 794, 795, 796, 797, 798, 799, 800, 801, 802, 803, 804, 805, 806, 807, 808, 809, 810, 811, 812, 813, 814, 815, 816, 817, 818, 819, 820, 821, 822, 823, 824, 825, 826, 827, 828, 829, 830, 831, 832, 833, 834, 835, 836, 837, 838, 839, 840, 841, 842, 843, 844, 845, 846, 847, 848, 849, 850, 851, 852, 853, 854, 855, 856, 857, 858, 859, 860, 861, 862, 863, 864, 865, 866, 867, 868, 869, 870, 871, 872, 873, 874, 875, 876, 877, 878, 879, 880, 881, 882, 883, 884, 885, 886, 887, 888, 889, 890, 891, 892, 893, 894, 895, 896, 897, 898, 899, 900, 901, 902, 903, 904, 905, 906, 907, 908, 909, 910, 911, 912, 913, 914, 915, 916, 917, 918, 919, 920, 921, 922, 923, 924, 925, 926, 927, 928, 929, 930, 931, 932, 933, 934, 935, 936, 937, 938, 939, 940, 941, 942, 943, 944, 945, 946, 947, 948, 949, 950, 951, 952, 953, 954, 955, 956, 957, 958, 959, 960, 961, 962, 963, 964, 965, 966, 967, 968, 969, 970, 971, 972, 973, 974, 975, 976, 977, 978, 979, 980, 981, 982, 983, 984, 985, 986, 987, 988, 989, 990, 991, 992, 993, 994, 995, 996, 997, 998, 999, 1000, 1001, 1002, 1003, 1004, 1005, 1006, 1007, 1008, 1009, 1010, 1011, 1)]\n",
      "(Background on this error at: http://sqlalche.me/e/e3q8). Falling back to a slower alternative. \n"
     ]
    },
    {
     "name": "stdout",
     "output_type": "stream",
     "text": [
      "✅ Found the following studies in the database:\n",
      "- Study Name: lgbm_f1_optimization\n",
      "- Study Name: no-name-b5145635-6fa1-4694-b4f3-4c26a196395a\n"
     ]
    }
   ],
   "source": [
    "# Define your database path\n",
    "db_path = \"C:/Users/Andy/Documents/stock/model_parameter_result/optuna_results.db\"\n",
    "storage_url = f\"sqlite:///{db_path}\"\n",
    "\n",
    "# List all studies in the database\n",
    "study_summaries = optuna.study.get_all_study_summaries(storage=storage_url)\n",
    "\n",
    "if study_summaries:\n",
    "    print(\"✅ Found the following studies in the database:\")\n",
    "    for study_summary in study_summaries:\n",
    "        print(f\"- Study Name: {study_summary.study_name}\")\n",
    "else:\n",
    "    print(\"❌ No studies found in the database!\")"
   ]
  },
  {
   "cell_type": "code",
   "execution_count": 35,
   "metadata": {
    "scrolled": true
   },
   "outputs": [
    {
     "ename": "KeyError",
     "evalue": "'Record does not exist.'",
     "output_type": "error",
     "traceback": [
      "\u001b[1;31m---------------------------------------------------------------------------\u001b[0m",
      "\u001b[1;31mKeyError\u001b[0m                                  Traceback (most recent call last)",
      "\u001b[1;32m<ipython-input-35-32b8ee5dc7e6>\u001b[0m in \u001b[0;36m<module>\u001b[1;34m\u001b[0m\n\u001b[0;32m      2\u001b[0m \u001b[1;33m\u001b[0m\u001b[0m\n\u001b[0;32m      3\u001b[0m \u001b[0mdb_path\u001b[0m \u001b[1;33m=\u001b[0m \u001b[1;34m\"model_parameter_result/optuna_results.db\"\u001b[0m  \u001b[1;31m# Update with actual path\u001b[0m\u001b[1;33m\u001b[0m\u001b[1;33m\u001b[0m\u001b[0m\n\u001b[1;32m----> 4\u001b[1;33m \u001b[0mstudy\u001b[0m \u001b[1;33m=\u001b[0m \u001b[0moptuna\u001b[0m\u001b[1;33m.\u001b[0m\u001b[0mload_study\u001b[0m\u001b[1;33m(\u001b[0m\u001b[0mstudy_name\u001b[0m\u001b[1;33m=\u001b[0m\u001b[1;34m\"gbdt_tuning\"\u001b[0m\u001b[1;33m,\u001b[0m \u001b[0mstorage\u001b[0m\u001b[1;33m=\u001b[0m\u001b[1;34mf\"sqlite:///{db_path}\"\u001b[0m\u001b[1;33m)\u001b[0m\u001b[1;33m\u001b[0m\u001b[1;33m\u001b[0m\u001b[0m\n\u001b[0m\u001b[0;32m      5\u001b[0m \u001b[1;33m\u001b[0m\u001b[0m\n\u001b[0;32m      6\u001b[0m \u001b[1;31m# Fetch trials in batches\u001b[0m\u001b[1;33m\u001b[0m\u001b[1;33m\u001b[0m\u001b[1;33m\u001b[0m\u001b[0m\n",
      "\u001b[1;32m~\\Anaconda3\\lib\\site-packages\\optuna\\_convert_positional_args.py\u001b[0m in \u001b[0;36mconverter_wrapper\u001b[1;34m(*args, **kwargs)\u001b[0m\n\u001b[0;32m     81\u001b[0m             \u001b[0mkwargs\u001b[0m\u001b[1;33m.\u001b[0m\u001b[0mupdate\u001b[0m\u001b[1;33m(\u001b[0m\u001b[0minferred_kwargs\u001b[0m\u001b[1;33m)\u001b[0m\u001b[1;33m\u001b[0m\u001b[1;33m\u001b[0m\u001b[0m\n\u001b[0;32m     82\u001b[0m \u001b[1;33m\u001b[0m\u001b[0m\n\u001b[1;32m---> 83\u001b[1;33m             \u001b[1;32mreturn\u001b[0m \u001b[0mfunc\u001b[0m\u001b[1;33m(\u001b[0m\u001b[1;33m**\u001b[0m\u001b[0mkwargs\u001b[0m\u001b[1;33m)\u001b[0m\u001b[1;33m\u001b[0m\u001b[1;33m\u001b[0m\u001b[0m\n\u001b[0m\u001b[0;32m     84\u001b[0m \u001b[1;33m\u001b[0m\u001b[0m\n\u001b[0;32m     85\u001b[0m         \u001b[1;32mreturn\u001b[0m \u001b[0mconverter_wrapper\u001b[0m\u001b[1;33m\u001b[0m\u001b[1;33m\u001b[0m\u001b[0m\n",
      "\u001b[1;32m~\\Anaconda3\\lib\\site-packages\\optuna\\study\\study.py\u001b[0m in \u001b[0;36mload_study\u001b[1;34m(study_name, storage, sampler, pruner)\u001b[0m\n\u001b[0;32m   1367\u001b[0m         )\n\u001b[0;32m   1368\u001b[0m \u001b[1;33m\u001b[0m\u001b[0m\n\u001b[1;32m-> 1369\u001b[1;33m     \u001b[1;32mreturn\u001b[0m \u001b[0mStudy\u001b[0m\u001b[1;33m(\u001b[0m\u001b[0mstudy_name\u001b[0m\u001b[1;33m=\u001b[0m\u001b[0mstudy_name\u001b[0m\u001b[1;33m,\u001b[0m \u001b[0mstorage\u001b[0m\u001b[1;33m=\u001b[0m\u001b[0mstorage\u001b[0m\u001b[1;33m,\u001b[0m \u001b[0msampler\u001b[0m\u001b[1;33m=\u001b[0m\u001b[0msampler\u001b[0m\u001b[1;33m,\u001b[0m \u001b[0mpruner\u001b[0m\u001b[1;33m=\u001b[0m\u001b[0mpruner\u001b[0m\u001b[1;33m)\u001b[0m\u001b[1;33m\u001b[0m\u001b[1;33m\u001b[0m\u001b[0m\n\u001b[0m\u001b[0;32m   1370\u001b[0m \u001b[1;33m\u001b[0m\u001b[0m\n\u001b[0;32m   1371\u001b[0m \u001b[1;33m\u001b[0m\u001b[0m\n",
      "\u001b[1;32m~\\Anaconda3\\lib\\site-packages\\optuna\\study\\study.py\u001b[0m in \u001b[0;36m__init__\u001b[1;34m(self, study_name, storage, sampler, pruner)\u001b[0m\n\u001b[0;32m     85\u001b[0m         \u001b[0mself\u001b[0m\u001b[1;33m.\u001b[0m\u001b[0mstudy_name\u001b[0m \u001b[1;33m=\u001b[0m \u001b[0mstudy_name\u001b[0m\u001b[1;33m\u001b[0m\u001b[1;33m\u001b[0m\u001b[0m\n\u001b[0;32m     86\u001b[0m         \u001b[0mstorage\u001b[0m \u001b[1;33m=\u001b[0m \u001b[0mstorages\u001b[0m\u001b[1;33m.\u001b[0m\u001b[0mget_storage\u001b[0m\u001b[1;33m(\u001b[0m\u001b[0mstorage\u001b[0m\u001b[1;33m)\u001b[0m\u001b[1;33m\u001b[0m\u001b[1;33m\u001b[0m\u001b[0m\n\u001b[1;32m---> 87\u001b[1;33m         \u001b[0mstudy_id\u001b[0m \u001b[1;33m=\u001b[0m \u001b[0mstorage\u001b[0m\u001b[1;33m.\u001b[0m\u001b[0mget_study_id_from_name\u001b[0m\u001b[1;33m(\u001b[0m\u001b[0mstudy_name\u001b[0m\u001b[1;33m)\u001b[0m\u001b[1;33m\u001b[0m\u001b[1;33m\u001b[0m\u001b[0m\n\u001b[0m\u001b[0;32m     88\u001b[0m         \u001b[0mself\u001b[0m\u001b[1;33m.\u001b[0m\u001b[0m_study_id\u001b[0m \u001b[1;33m=\u001b[0m \u001b[0mstudy_id\u001b[0m\u001b[1;33m\u001b[0m\u001b[1;33m\u001b[0m\u001b[0m\n\u001b[0;32m     89\u001b[0m         \u001b[0mself\u001b[0m\u001b[1;33m.\u001b[0m\u001b[0m_storage\u001b[0m \u001b[1;33m=\u001b[0m \u001b[0mstorage\u001b[0m\u001b[1;33m\u001b[0m\u001b[1;33m\u001b[0m\u001b[0m\n",
      "\u001b[1;32m~\\Anaconda3\\lib\\site-packages\\optuna\\storages\\_cached_storage.py\u001b[0m in \u001b[0;36mget_study_id_from_name\u001b[1;34m(self, study_name)\u001b[0m\n\u001b[0;32m    105\u001b[0m \u001b[1;33m\u001b[0m\u001b[0m\n\u001b[0;32m    106\u001b[0m     \u001b[1;32mdef\u001b[0m \u001b[0mget_study_id_from_name\u001b[0m\u001b[1;33m(\u001b[0m\u001b[0mself\u001b[0m\u001b[1;33m,\u001b[0m \u001b[0mstudy_name\u001b[0m\u001b[1;33m:\u001b[0m \u001b[0mstr\u001b[0m\u001b[1;33m)\u001b[0m \u001b[1;33m->\u001b[0m \u001b[0mint\u001b[0m\u001b[1;33m:\u001b[0m\u001b[1;33m\u001b[0m\u001b[1;33m\u001b[0m\u001b[0m\n\u001b[1;32m--> 107\u001b[1;33m         \u001b[1;32mreturn\u001b[0m \u001b[0mself\u001b[0m\u001b[1;33m.\u001b[0m\u001b[0m_backend\u001b[0m\u001b[1;33m.\u001b[0m\u001b[0mget_study_id_from_name\u001b[0m\u001b[1;33m(\u001b[0m\u001b[0mstudy_name\u001b[0m\u001b[1;33m)\u001b[0m\u001b[1;33m\u001b[0m\u001b[1;33m\u001b[0m\u001b[0m\n\u001b[0m\u001b[0;32m    108\u001b[0m \u001b[1;33m\u001b[0m\u001b[0m\n\u001b[0;32m    109\u001b[0m     \u001b[1;32mdef\u001b[0m \u001b[0mget_study_name_from_id\u001b[0m\u001b[1;33m(\u001b[0m\u001b[0mself\u001b[0m\u001b[1;33m,\u001b[0m \u001b[0mstudy_id\u001b[0m\u001b[1;33m:\u001b[0m \u001b[0mint\u001b[0m\u001b[1;33m)\u001b[0m \u001b[1;33m->\u001b[0m \u001b[0mstr\u001b[0m\u001b[1;33m:\u001b[0m\u001b[1;33m\u001b[0m\u001b[1;33m\u001b[0m\u001b[0m\n",
      "\u001b[1;32m~\\Anaconda3\\lib\\site-packages\\optuna\\storages\\_rdb\\storage.py\u001b[0m in \u001b[0;36mget_study_id_from_name\u001b[1;34m(self, study_name)\u001b[0m\n\u001b[0;32m    330\u001b[0m     \u001b[1;32mdef\u001b[0m \u001b[0mget_study_id_from_name\u001b[0m\u001b[1;33m(\u001b[0m\u001b[0mself\u001b[0m\u001b[1;33m,\u001b[0m \u001b[0mstudy_name\u001b[0m\u001b[1;33m:\u001b[0m \u001b[0mstr\u001b[0m\u001b[1;33m)\u001b[0m \u001b[1;33m->\u001b[0m \u001b[0mint\u001b[0m\u001b[1;33m:\u001b[0m\u001b[1;33m\u001b[0m\u001b[1;33m\u001b[0m\u001b[0m\n\u001b[0;32m    331\u001b[0m         \u001b[1;32mwith\u001b[0m \u001b[0m_create_scoped_session\u001b[0m\u001b[1;33m(\u001b[0m\u001b[0mself\u001b[0m\u001b[1;33m.\u001b[0m\u001b[0mscoped_session\u001b[0m\u001b[1;33m)\u001b[0m \u001b[1;32mas\u001b[0m \u001b[0msession\u001b[0m\u001b[1;33m:\u001b[0m\u001b[1;33m\u001b[0m\u001b[1;33m\u001b[0m\u001b[0m\n\u001b[1;32m--> 332\u001b[1;33m             \u001b[0mstudy\u001b[0m \u001b[1;33m=\u001b[0m \u001b[0mmodels\u001b[0m\u001b[1;33m.\u001b[0m\u001b[0mStudyModel\u001b[0m\u001b[1;33m.\u001b[0m\u001b[0mfind_or_raise_by_name\u001b[0m\u001b[1;33m(\u001b[0m\u001b[0mstudy_name\u001b[0m\u001b[1;33m,\u001b[0m \u001b[0msession\u001b[0m\u001b[1;33m)\u001b[0m\u001b[1;33m\u001b[0m\u001b[1;33m\u001b[0m\u001b[0m\n\u001b[0m\u001b[0;32m    333\u001b[0m             \u001b[0mstudy_id\u001b[0m \u001b[1;33m=\u001b[0m \u001b[0mstudy\u001b[0m\u001b[1;33m.\u001b[0m\u001b[0mstudy_id\u001b[0m\u001b[1;33m\u001b[0m\u001b[1;33m\u001b[0m\u001b[0m\n\u001b[0;32m    334\u001b[0m \u001b[1;33m\u001b[0m\u001b[0m\n",
      "\u001b[1;32m~\\Anaconda3\\lib\\site-packages\\optuna\\storages\\_rdb\\models.py\u001b[0m in \u001b[0;36mfind_or_raise_by_name\u001b[1;34m(cls, study_name, session)\u001b[0m\n\u001b[0;32m     86\u001b[0m         \u001b[0mstudy\u001b[0m \u001b[1;33m=\u001b[0m \u001b[0mcls\u001b[0m\u001b[1;33m.\u001b[0m\u001b[0mfind_by_name\u001b[0m\u001b[1;33m(\u001b[0m\u001b[0mstudy_name\u001b[0m\u001b[1;33m,\u001b[0m \u001b[0msession\u001b[0m\u001b[1;33m)\u001b[0m\u001b[1;33m\u001b[0m\u001b[1;33m\u001b[0m\u001b[0m\n\u001b[0;32m     87\u001b[0m         \u001b[1;32mif\u001b[0m \u001b[0mstudy\u001b[0m \u001b[1;32mis\u001b[0m \u001b[1;32mNone\u001b[0m\u001b[1;33m:\u001b[0m\u001b[1;33m\u001b[0m\u001b[1;33m\u001b[0m\u001b[0m\n\u001b[1;32m---> 88\u001b[1;33m             \u001b[1;32mraise\u001b[0m \u001b[0mKeyError\u001b[0m\u001b[1;33m(\u001b[0m\u001b[0mNOT_FOUND_MSG\u001b[0m\u001b[1;33m)\u001b[0m\u001b[1;33m\u001b[0m\u001b[1;33m\u001b[0m\u001b[0m\n\u001b[0m\u001b[0;32m     89\u001b[0m \u001b[1;33m\u001b[0m\u001b[0m\n\u001b[0;32m     90\u001b[0m         \u001b[1;32mreturn\u001b[0m \u001b[0mstudy\u001b[0m\u001b[1;33m\u001b[0m\u001b[1;33m\u001b[0m\u001b[0m\n",
      "\u001b[1;31mKeyError\u001b[0m: 'Record does not exist.'"
     ]
    }
   ],
   "source": [
    "import optuna\n",
    "\n",
    "db_path = \"model_parameter_result/optuna_results.db\"  # Update with actual path\n",
    "study = optuna.load_study(study_name=\"gbdt_tuning\", storage=f\"sqlite:///{db_path}\")\n",
    "\n",
    "# Fetch trials in batches\n",
    "trials = study.get_trials(deepcopy=False)\n",
    "\n",
    "# Extract F1 scores from trials\n",
    "f1_scores = [trial.value for trial in trials]\n",
    "\n",
    "print(f\"Loaded {len(f1_scores)} trials successfully!\")\n"
   ]
  },
  {
   "cell_type": "code",
   "execution_count": 17,
   "metadata": {},
   "outputs": [
    {
     "name": "stdout",
     "output_type": "stream",
     "text": [
      "🔹 Best F1 Score: 0.6935866983372921\n",
      "🔹 Best Hyperparameters: {'boosting_type': 'dart', 'num_leaves': 10, 'learning_rate': 0.004889109596845264, 'n_estimators': 16943, 'max_bin': 232, 'subsample': 0.7823086040575833, 'subsample_freq': 13, 'colsample_bytree': 0.8106243879716812, 'min_child_samples': 5}\n"
     ]
    }
   ],
   "source": [
    "print(\"🔹 Best F1 Score:\", study.best_value)\n",
    "print(\"🔹 Best Hyperparameters:\", study.best_params)"
   ]
  },
  {
   "cell_type": "code",
   "execution_count": 18,
   "metadata": {},
   "outputs": [
    {
     "data": {
      "image/png": "[encoded data removed]",
      "text/plain": [
       "<Figure size 720x360 with 1 Axes>"
      ]
     },
     "metadata": {
      "needs_background": "light"
     },
     "output_type": "display_data"
    }
   ],
   "source": [
    "import matplotlib.pyplot as plt\n",
    "\n",
    "# Extract F1 scores from trials\n",
    "f1_scores = [trial.value for trial in study.trials]\n",
    "\n",
    "# Plot the F1 scores\n",
    "plt.figure(figsize=(10, 5))\n",
    "plt.plot(range(1, len(f1_scores) + 1), f1_scores, marker='o', linestyle='-', color='b')\n",
    "\n",
    "# Labels and title\n",
    "plt.xlabel(\"Trial Number\")\n",
    "plt.ylabel(\"F1 Score\")\n",
    "plt.title(\"F1 Score Across Optuna Trials (Stored Database)\")\n",
    "plt.grid(True)\n",
    "\n",
    "# Show plot\n",
    "plt.show()"
   ]
  },
  {
   "cell_type": "code",
   "execution_count": 20,
   "metadata": {},
   "outputs": [
    {
     "name": "stderr",
     "output_type": "stream",
     "text": [
      "C:\\Users\\Andy\\Anaconda3\\lib\\site-packages\\pandas\\compat\\_optional.py:138: UserWarning: Pandas requires version '2.7.0' or newer of 'numexpr' (version '2.6.9' currently installed).\n",
      "  warnings.warn(msg, UserWarning)\n"
     ]
    }
   ],
   "source": [
    "import os\n",
    "import pandas as pd\n",
    "import numpy as np\n",
    "import lightgbm as lgb\n",
    "from sklearn.model_selection import train_test_split\n",
    "from sklearn.metrics import accuracy_score\n",
    "from pypinyin import lazy_pinyin\n",
    "\n",
    "# Step 1: Change the working directory (update the path accordingly)\n",
    "new_dir = \"C:/Users/Andy/Documents/stock/\"\n",
    "os.chdir(new_dir)"
   ]
  },
  {
   "cell_type": "code",
   "execution_count": 21,
   "metadata": {},
   "outputs": [],
   "source": [
    "df = pd.read_csv(\"Trim_train/merged_cleaned_data.csv\")"
   ]
  },
  {
   "cell_type": "code",
   "execution_count": 22,
   "metadata": {},
   "outputs": [],
   "source": [
    "from pypinyin import lazy_pinyin\n",
    "df.columns = [lazy_pinyin(col)[0] for col in df.columns]"
   ]
  },
  {
   "cell_type": "code",
   "execution_count": 24,
   "metadata": {},
   "outputs": [],
   "source": [
    "target_column = \"biao\" "
   ]
  },
  {
   "cell_type": "code",
   "execution_count": 25,
   "metadata": {},
   "outputs": [],
   "source": [
    "X = df.drop(columns=[target_column, \"ID\"], errors=\"ignore\")\n",
    "y = df[target_column]"
   ]
  },
  {
   "cell_type": "code",
   "execution_count": 27,
   "metadata": {},
   "outputs": [],
   "source": [
    "# Step 3: Train-Test Split\n",
    "X_train, X_test, y_train, y_test = train_test_split(X, y, test_size=0.3, random_state=42, stratify=y)"
   ]
  },
  {
   "cell_type": "code",
   "execution_count": null,
   "metadata": {},
   "outputs": [],
   "source": [
    "arguments = {\n",
    "    \"objective\": \"regression\",\n",
    "    \"boosting_type\": \"gbdt\",\n",
    "    \"num_leaves\": 20,\n",
    "    \"learning_rate\": 0.01034,\n",
    "    \"n_estimators\": 30000,\n",
    "    \"max_bin\": 113,\n",
    "    \"subsample\": 0.7708753433144212,\n",
    "    \"subsample_freq\": 5,\n",
    "    \"colsample_bytree\": 0.6628,\n",
    "    \"feature_fraction_seed\": 42,\n",
    "    \"bagging_seed\": 42,\n",
    "    \"min_child_samples\": 25\n",
    "}"
   ]
  },
  {
   "cell_type": "code",
   "execution_count": 38,
   "metadata": {},
   "outputs": [],
   "source": [
    "# Split dataset before running Optuna (Ensuring same train-test split)\n",
    "X_train_opt, X_val, y_train_opt, y_val = train_test_split(X_train, y_train, test_size=0.2, random_state=42)\n",
    "\n",
    "# Define the Optuna objective function for hyperparameter tuning\n",
    "def objective(trial):\n",
    "    params = {\n",
    "        \"objective\": \"regression\",\n",
    "        \"boosting_type\": \"gbdt\",\n",
    "        \"num_leaves\": trial.suggest_int(\"num_leaves\", 10, 50),\n",
    "        \"learning_rate\": trial.suggest_loguniform(\"learning_rate\", 0.001, 0.1),\n",
    "        \"n_estimators\": trial.suggest_int(\"n_estimators\", 10000, 30000),\n",
    "        \"max_bin\": trial.suggest_int(\"max_bin\", 50, 200),\n",
    "        \"subsample\": trial.suggest_uniform(\"subsample\", 0.5, 1.0),\n",
    "        \"subsample_freq\": trial.suggest_int(\"subsample_freq\", 1, 10),\n",
    "        \"colsample_bytree\": trial.suggest_uniform(\"colsample_bytree\", 0.5, 1.0),\n",
    "        \"feature_fraction_seed\": 42,\n",
    "        \"bagging_seed\": 42,\n",
    "        \"min_child_samples\": trial.suggest_int(\"min_child_samples\", 5, 50)\n",
    "    }\n",
    "\n",
    "    X_train_opt, X_val, y_train_opt, y_val = train_test_split(X_train, y_train, test_size=0.2, random_state=42)\n",
    "\n",
    "    # Train model\n",
    "    model = lgb.LGBMClassifier(**params)\n",
    "    model.fit(X_train_opt, y_train_opt, eval_set=[(X_val, y_val)], early_stopping_rounds=50, verbose=False)\n",
    "\n",
    "    # Predict & Evaluate\n",
    "    y_pred_proba = model.predict_proba(X_val)[:, 1]\n",
    "    y_pred = (y_pred_proba >= 0.3).astype(int)  # Adjust threshold if needed\n",
    "    f1 = f1_score(y_val, y_pred)\n",
    "    \n",
    "    return f1"
   ]
  },
  {
   "cell_type": "code",
   "execution_count": 37,
   "metadata": {},
   "outputs": [
    {
     "name": "stderr",
     "output_type": "stream",
     "text": [
      "[I 2025-03-19 23:24:31,711] A new study created in RDB with name: gbdt_tuning0319\n"
     ]
    }
   ],
   "source": [
    "study = optuna.create_study(direction=\"maximize\", study_name=\"gbdt_tuning0319\",storage=storage_url)"
   ]
  },
  {
   "cell_type": "code",
   "execution_count": 32,
   "metadata": {},
   "outputs": [],
   "source": [
    "from sklearn.metrics import f1_score"
   ]
  },
  {
   "cell_type": "code",
   "execution_count": 39,
   "metadata": {},
   "outputs": [
    {
     "name": "stderr",
     "output_type": "stream",
     "text": [
      "C:\\Users\\Andy\\Anaconda3\\lib\\site-packages\\ipykernel_launcher.py:10: FutureWarning: suggest_loguniform has been deprecated in v3.0.0. This feature will be removed in v6.0.0. See https://github.com/optuna/optuna/releases/tag/v3.0.0. Use suggest_float(..., log=True) instead.\n",
      "  # Remove the CWD from sys.path while we load stuff.\n",
      "C:\\Users\\Andy\\Anaconda3\\lib\\site-packages\\ipykernel_launcher.py:13: FutureWarning: suggest_uniform has been deprecated in v3.0.0. This feature will be removed in v6.0.0. See https://github.com/optuna/optuna/releases/tag/v3.0.0. Use suggest_float instead.\n",
      "  del sys.path[0]\n",
      "C:\\Users\\Andy\\Anaconda3\\lib\\site-packages\\ipykernel_launcher.py:15: FutureWarning: suggest_uniform has been deprecated in v3.0.0. This feature will be removed in v6.0.0. See https://github.com/optuna/optuna/releases/tag/v3.0.0. Use suggest_float instead.\n",
      "  from ipykernel import kernelapp as app\n",
      "[I 2025-03-19 23:27:17,256] Trial 0 finished with value: 0.5465465465465467 and parameters: {'num_leaves': 49, 'learning_rate': 0.0023653242144078867, 'n_estimators': 20799, 'max_bin': 115, 'subsample': 0.5145453281408499, 'subsample_freq': 3, 'colsample_bytree': 0.9904384713502803, 'min_child_samples': 26}. Best is trial 0 with value: 0.5465465465465467.\n",
      "C:\\Users\\Andy\\Anaconda3\\lib\\site-packages\\ipykernel_launcher.py:10: FutureWarning: suggest_loguniform has been deprecated in v3.0.0. This feature will be removed in v6.0.0. See https://github.com/optuna/optuna/releases/tag/v3.0.0. Use suggest_float(..., log=True) instead.\n",
      "  # Remove the CWD from sys.path while we load stuff.\n",
      "C:\\Users\\Andy\\Anaconda3\\lib\\site-packages\\ipykernel_launcher.py:13: FutureWarning: suggest_uniform has been deprecated in v3.0.0. This feature will be removed in v6.0.0. See https://github.com/optuna/optuna/releases/tag/v3.0.0. Use suggest_float instead.\n",
      "  del sys.path[0]\n",
      "C:\\Users\\Andy\\Anaconda3\\lib\\site-packages\\ipykernel_launcher.py:15: FutureWarning: suggest_uniform has been deprecated in v3.0.0. This feature will be removed in v6.0.0. See https://github.com/optuna/optuna/releases/tag/v3.0.0. Use suggest_float instead.\n",
      "  from ipykernel import kernelapp as app\n",
      "[I 2025-03-19 23:28:23,764] Trial 1 finished with value: 0.6132596685082873 and parameters: {'num_leaves': 38, 'learning_rate': 0.017524295409796786, 'n_estimators': 11504, 'max_bin': 73, 'subsample': 0.7310944173776818, 'subsample_freq': 10, 'colsample_bytree': 0.9271324051055754, 'min_child_samples': 46}. Best is trial 1 with value: 0.6132596685082873.\n",
      "C:\\Users\\Andy\\Anaconda3\\lib\\site-packages\\ipykernel_launcher.py:10: FutureWarning: suggest_loguniform has been deprecated in v3.0.0. This feature will be removed in v6.0.0. See https://github.com/optuna/optuna/releases/tag/v3.0.0. Use suggest_float(..., log=True) instead.\n",
      "  # Remove the CWD from sys.path while we load stuff.\n",
      "C:\\Users\\Andy\\Anaconda3\\lib\\site-packages\\ipykernel_launcher.py:13: FutureWarning: suggest_uniform has been deprecated in v3.0.0. This feature will be removed in v6.0.0. See https://github.com/optuna/optuna/releases/tag/v3.0.0. Use suggest_float instead.\n",
      "  del sys.path[0]\n",
      "C:\\Users\\Andy\\Anaconda3\\lib\\site-packages\\ipykernel_launcher.py:15: FutureWarning: suggest_uniform has been deprecated in v3.0.0. This feature will be removed in v6.0.0. See https://github.com/optuna/optuna/releases/tag/v3.0.0. Use suggest_float instead.\n",
      "  from ipykernel import kernelapp as app\n",
      "[I 2025-03-19 23:28:43,113] Trial 2 finished with value: 0.6202898550724638 and parameters: {'num_leaves': 14, 'learning_rate': 0.026259038467743655, 'n_estimators': 20091, 'max_bin': 125, 'subsample': 0.6957646975063155, 'subsample_freq': 7, 'colsample_bytree': 0.5376087637854554, 'min_child_samples': 22}. Best is trial 2 with value: 0.6202898550724638.\n",
      "C:\\Users\\Andy\\Anaconda3\\lib\\site-packages\\ipykernel_launcher.py:10: FutureWarning: suggest_loguniform has been deprecated in v3.0.0. This feature will be removed in v6.0.0. See https://github.com/optuna/optuna/releases/tag/v3.0.0. Use suggest_float(..., log=True) instead.\n",
      "  # Remove the CWD from sys.path while we load stuff.\n",
      "C:\\Users\\Andy\\Anaconda3\\lib\\site-packages\\ipykernel_launcher.py:13: FutureWarning: suggest_uniform has been deprecated in v3.0.0. This feature will be removed in v6.0.0. See https://github.com/optuna/optuna/releases/tag/v3.0.0. Use suggest_float instead.\n",
      "  del sys.path[0]\n",
      "C:\\Users\\Andy\\Anaconda3\\lib\\site-packages\\ipykernel_launcher.py:15: FutureWarning: suggest_uniform has been deprecated in v3.0.0. This feature will be removed in v6.0.0. See https://github.com/optuna/optuna/releases/tag/v3.0.0. Use suggest_float instead.\n",
      "  from ipykernel import kernelapp as app\n",
      "[I 2025-03-19 23:29:38,097] Trial 3 finished with value: 0.6481994459833795 and parameters: {'num_leaves': 11, 'learning_rate': 0.03378802817912101, 'n_estimators': 20758, 'max_bin': 55, 'subsample': 0.9160729165699018, 'subsample_freq': 3, 'colsample_bytree': 0.6288517109243855, 'min_child_samples': 41}. Best is trial 3 with value: 0.6481994459833795.\n",
      "C:\\Users\\Andy\\Anaconda3\\lib\\site-packages\\ipykernel_launcher.py:10: FutureWarning: suggest_loguniform has been deprecated in v3.0.0. This feature will be removed in v6.0.0. See https://github.com/optuna/optuna/releases/tag/v3.0.0. Use suggest_float(..., log=True) instead.\n",
      "  # Remove the CWD from sys.path while we load stuff.\n",
      "C:\\Users\\Andy\\Anaconda3\\lib\\site-packages\\ipykernel_launcher.py:13: FutureWarning: suggest_uniform has been deprecated in v3.0.0. This feature will be removed in v6.0.0. See https://github.com/optuna/optuna/releases/tag/v3.0.0. Use suggest_float instead.\n",
      "  del sys.path[0]\n",
      "C:\\Users\\Andy\\Anaconda3\\lib\\site-packages\\ipykernel_launcher.py:15: FutureWarning: suggest_uniform has been deprecated in v3.0.0. This feature will be removed in v6.0.0. See https://github.com/optuna/optuna/releases/tag/v3.0.0. Use suggest_float instead.\n",
      "  from ipykernel import kernelapp as app\n",
      "[I 2025-03-19 23:32:09,092] Trial 4 finished with value: 0.5487804878048781 and parameters: {'num_leaves': 10, 'learning_rate': 0.0017062473229019855, 'n_estimators': 20704, 'max_bin': 198, 'subsample': 0.7766855897258662, 'subsample_freq': 4, 'colsample_bytree': 0.8482461705623692, 'min_child_samples': 35}. Best is trial 3 with value: 0.6481994459833795.\n",
      "C:\\Users\\Andy\\Anaconda3\\lib\\site-packages\\ipykernel_launcher.py:10: FutureWarning: suggest_loguniform has been deprecated in v3.0.0. This feature will be removed in v6.0.0. See https://github.com/optuna/optuna/releases/tag/v3.0.0. Use suggest_float(..., log=True) instead.\n",
      "  # Remove the CWD from sys.path while we load stuff.\n",
      "C:\\Users\\Andy\\Anaconda3\\lib\\site-packages\\ipykernel_launcher.py:13: FutureWarning: suggest_uniform has been deprecated in v3.0.0. This feature will be removed in v6.0.0. See https://github.com/optuna/optuna/releases/tag/v3.0.0. Use suggest_float instead.\n",
      "  del sys.path[0]\n",
      "C:\\Users\\Andy\\Anaconda3\\lib\\site-packages\\ipykernel_launcher.py:15: FutureWarning: suggest_uniform has been deprecated in v3.0.0. This feature will be removed in v6.0.0. See https://github.com/optuna/optuna/releases/tag/v3.0.0. Use suggest_float instead.\n",
      "  from ipykernel import kernelapp as app\n",
      "[I 2025-03-19 23:33:12,702] Trial 5 finished with value: 0.6028985507246377 and parameters: {'num_leaves': 30, 'learning_rate': 0.008398094099943146, 'n_estimators': 25015, 'max_bin': 108, 'subsample': 0.9597754237484564, 'subsample_freq': 7, 'colsample_bytree': 0.7660450707105506, 'min_child_samples': 17}. Best is trial 3 with value: 0.6481994459833795.\n",
      "C:\\Users\\Andy\\Anaconda3\\lib\\site-packages\\ipykernel_launcher.py:10: FutureWarning: suggest_loguniform has been deprecated in v3.0.0. This feature will be removed in v6.0.0. See https://github.com/optuna/optuna/releases/tag/v3.0.0. Use suggest_float(..., log=True) instead.\n",
      "  # Remove the CWD from sys.path while we load stuff.\n",
      "C:\\Users\\Andy\\Anaconda3\\lib\\site-packages\\ipykernel_launcher.py:13: FutureWarning: suggest_uniform has been deprecated in v3.0.0. This feature will be removed in v6.0.0. See https://github.com/optuna/optuna/releases/tag/v3.0.0. Use suggest_float instead.\n",
      "  del sys.path[0]\n",
      "C:\\Users\\Andy\\Anaconda3\\lib\\site-packages\\ipykernel_launcher.py:15: FutureWarning: suggest_uniform has been deprecated in v3.0.0. This feature will be removed in v6.0.0. See https://github.com/optuna/optuna/releases/tag/v3.0.0. Use suggest_float instead.\n",
      "  from ipykernel import kernelapp as app\n"
     ]
    },
    {
     "name": "stderr",
     "output_type": "stream",
     "text": [
      "[I 2025-03-19 23:34:43,440] Trial 6 finished with value: 0.5510835913312693 and parameters: {'num_leaves': 12, 'learning_rate': 0.0020459176153180265, 'n_estimators': 28234, 'max_bin': 165, 'subsample': 0.8560788321629288, 'subsample_freq': 9, 'colsample_bytree': 0.5068452716856221, 'min_child_samples': 28}. Best is trial 3 with value: 0.6481994459833795.\n",
      "C:\\Users\\Andy\\Anaconda3\\lib\\site-packages\\ipykernel_launcher.py:10: FutureWarning: suggest_loguniform has been deprecated in v3.0.0. This feature will be removed in v6.0.0. See https://github.com/optuna/optuna/releases/tag/v3.0.0. Use suggest_float(..., log=True) instead.\n",
      "  # Remove the CWD from sys.path while we load stuff.\n",
      "C:\\Users\\Andy\\Anaconda3\\lib\\site-packages\\ipykernel_launcher.py:13: FutureWarning: suggest_uniform has been deprecated in v3.0.0. This feature will be removed in v6.0.0. See https://github.com/optuna/optuna/releases/tag/v3.0.0. Use suggest_float instead.\n",
      "  del sys.path[0]\n",
      "C:\\Users\\Andy\\Anaconda3\\lib\\site-packages\\ipykernel_launcher.py:15: FutureWarning: suggest_uniform has been deprecated in v3.0.0. This feature will be removed in v6.0.0. See https://github.com/optuna/optuna/releases/tag/v3.0.0. Use suggest_float instead.\n",
      "  from ipykernel import kernelapp as app\n",
      "[I 2025-03-19 23:35:06,048] Trial 7 finished with value: 0.6162790697674418 and parameters: {'num_leaves': 15, 'learning_rate': 0.020839818251350117, 'n_estimators': 21518, 'max_bin': 93, 'subsample': 0.6225926544708316, 'subsample_freq': 4, 'colsample_bytree': 0.8323656026365729, 'min_child_samples': 7}. Best is trial 3 with value: 0.6481994459833795.\n",
      "C:\\Users\\Andy\\Anaconda3\\lib\\site-packages\\ipykernel_launcher.py:10: FutureWarning: suggest_loguniform has been deprecated in v3.0.0. This feature will be removed in v6.0.0. See https://github.com/optuna/optuna/releases/tag/v3.0.0. Use suggest_float(..., log=True) instead.\n",
      "  # Remove the CWD from sys.path while we load stuff.\n",
      "C:\\Users\\Andy\\Anaconda3\\lib\\site-packages\\ipykernel_launcher.py:13: FutureWarning: suggest_uniform has been deprecated in v3.0.0. This feature will be removed in v6.0.0. See https://github.com/optuna/optuna/releases/tag/v3.0.0. Use suggest_float instead.\n",
      "  del sys.path[0]\n",
      "C:\\Users\\Andy\\Anaconda3\\lib\\site-packages\\ipykernel_launcher.py:15: FutureWarning: suggest_uniform has been deprecated in v3.0.0. This feature will be removed in v6.0.0. See https://github.com/optuna/optuna/releases/tag/v3.0.0. Use suggest_float instead.\n",
      "  from ipykernel import kernelapp as app\n",
      "[I 2025-03-19 23:36:16,065] Trial 8 finished with value: 0.5821325648414986 and parameters: {'num_leaves': 29, 'learning_rate': 0.00730006848954166, 'n_estimators': 20571, 'max_bin': 147, 'subsample': 0.601446853490271, 'subsample_freq': 3, 'colsample_bytree': 0.9976455437888214, 'min_child_samples': 30}. Best is trial 3 with value: 0.6481994459833795.\n",
      "C:\\Users\\Andy\\Anaconda3\\lib\\site-packages\\ipykernel_launcher.py:10: FutureWarning: suggest_loguniform has been deprecated in v3.0.0. This feature will be removed in v6.0.0. See https://github.com/optuna/optuna/releases/tag/v3.0.0. Use suggest_float(..., log=True) instead.\n",
      "  # Remove the CWD from sys.path while we load stuff.\n",
      "C:\\Users\\Andy\\Anaconda3\\lib\\site-packages\\ipykernel_launcher.py:13: FutureWarning: suggest_uniform has been deprecated in v3.0.0. This feature will be removed in v6.0.0. See https://github.com/optuna/optuna/releases/tag/v3.0.0. Use suggest_float instead.\n",
      "  del sys.path[0]\n",
      "C:\\Users\\Andy\\Anaconda3\\lib\\site-packages\\ipykernel_launcher.py:15: FutureWarning: suggest_uniform has been deprecated in v3.0.0. This feature will be removed in v6.0.0. See https://github.com/optuna/optuna/releases/tag/v3.0.0. Use suggest_float instead.\n",
      "  from ipykernel import kernelapp as app\n",
      "[I 2025-03-19 23:36:31,588] Trial 9 finished with value: 0.5804597701149425 and parameters: {'num_leaves': 21, 'learning_rate': 0.05166745331901021, 'n_estimators': 12817, 'max_bin': 73, 'subsample': 0.5688700220991436, 'subsample_freq': 2, 'colsample_bytree': 0.8528441221924083, 'min_child_samples': 28}. Best is trial 3 with value: 0.6481994459833795.\n",
      "C:\\Users\\Andy\\Anaconda3\\lib\\site-packages\\ipykernel_launcher.py:10: FutureWarning: suggest_loguniform has been deprecated in v3.0.0. This feature will be removed in v6.0.0. See https://github.com/optuna/optuna/releases/tag/v3.0.0. Use suggest_float(..., log=True) instead.\n",
      "  # Remove the CWD from sys.path while we load stuff.\n",
      "C:\\Users\\Andy\\Anaconda3\\lib\\site-packages\\ipykernel_launcher.py:13: FutureWarning: suggest_uniform has been deprecated in v3.0.0. This feature will be removed in v6.0.0. See https://github.com/optuna/optuna/releases/tag/v3.0.0. Use suggest_float instead.\n",
      "  del sys.path[0]\n",
      "C:\\Users\\Andy\\Anaconda3\\lib\\site-packages\\ipykernel_launcher.py:15: FutureWarning: suggest_uniform has been deprecated in v3.0.0. This feature will be removed in v6.0.0. See https://github.com/optuna/optuna/releases/tag/v3.0.0. Use suggest_float instead.\n",
      "  from ipykernel import kernelapp as app\n",
      "[I 2025-03-19 23:37:08,985] Trial 10 finished with value: 0.6557377049180328 and parameters: {'num_leaves': 22, 'learning_rate': 0.08088949098067016, 'n_estimators': 15325, 'max_bin': 58, 'subsample': 0.9469482102012456, 'subsample_freq': 1, 'colsample_bytree': 0.6319623838632078, 'min_child_samples': 49}. Best is trial 10 with value: 0.6557377049180328.\n",
      "C:\\Users\\Andy\\Anaconda3\\lib\\site-packages\\ipykernel_launcher.py:10: FutureWarning: suggest_loguniform has been deprecated in v3.0.0. This feature will be removed in v6.0.0. See https://github.com/optuna/optuna/releases/tag/v3.0.0. Use suggest_float(..., log=True) instead.\n",
      "  # Remove the CWD from sys.path while we load stuff.\n",
      "C:\\Users\\Andy\\Anaconda3\\lib\\site-packages\\ipykernel_launcher.py:13: FutureWarning: suggest_uniform has been deprecated in v3.0.0. This feature will be removed in v6.0.0. See https://github.com/optuna/optuna/releases/tag/v3.0.0. Use suggest_float instead.\n",
      "  del sys.path[0]\n",
      "C:\\Users\\Andy\\Anaconda3\\lib\\site-packages\\ipykernel_launcher.py:15: FutureWarning: suggest_uniform has been deprecated in v3.0.0. This feature will be removed in v6.0.0. See https://github.com/optuna/optuna/releases/tag/v3.0.0. Use suggest_float instead.\n",
      "  from ipykernel import kernelapp as app\n",
      "[I 2025-03-19 23:37:45,981] Trial 11 finished with value: 0.659400544959128 and parameters: {'num_leaves': 22, 'learning_rate': 0.09807383719416861, 'n_estimators': 15188, 'max_bin': 59, 'subsample': 0.9982634695478579, 'subsample_freq': 1, 'colsample_bytree': 0.6461318342626913, 'min_child_samples': 50}. Best is trial 11 with value: 0.659400544959128.\n",
      "C:\\Users\\Andy\\Anaconda3\\lib\\site-packages\\ipykernel_launcher.py:10: FutureWarning: suggest_loguniform has been deprecated in v3.0.0. This feature will be removed in v6.0.0. See https://github.com/optuna/optuna/releases/tag/v3.0.0. Use suggest_float(..., log=True) instead.\n",
      "  # Remove the CWD from sys.path while we load stuff.\n",
      "C:\\Users\\Andy\\Anaconda3\\lib\\site-packages\\ipykernel_launcher.py:13: FutureWarning: suggest_uniform has been deprecated in v3.0.0. This feature will be removed in v6.0.0. See https://github.com/optuna/optuna/releases/tag/v3.0.0. Use suggest_float instead.\n",
      "  del sys.path[0]\n",
      "C:\\Users\\Andy\\Anaconda3\\lib\\site-packages\\ipykernel_launcher.py:15: FutureWarning: suggest_uniform has been deprecated in v3.0.0. This feature will be removed in v6.0.0. See https://github.com/optuna/optuna/releases/tag/v3.0.0. Use suggest_float instead.\n",
      "  from ipykernel import kernelapp as app\n",
      "[I 2025-03-19 23:38:24,463] Trial 12 finished with value: 0.6593406593406593 and parameters: {'num_leaves': 24, 'learning_rate': 0.0930886933591529, 'n_estimators': 15645, 'max_bin': 53, 'subsample': 0.9985852301088394, 'subsample_freq': 1, 'colsample_bytree': 0.656414032334024, 'min_child_samples': 50}. Best is trial 11 with value: 0.659400544959128.\n",
      "C:\\Users\\Andy\\Anaconda3\\lib\\site-packages\\ipykernel_launcher.py:10: FutureWarning: suggest_loguniform has been deprecated in v3.0.0. This feature will be removed in v6.0.0. See https://github.com/optuna/optuna/releases/tag/v3.0.0. Use suggest_float(..., log=True) instead.\n",
      "  # Remove the CWD from sys.path while we load stuff.\n",
      "C:\\Users\\Andy\\Anaconda3\\lib\\site-packages\\ipykernel_launcher.py:13: FutureWarning: suggest_uniform has been deprecated in v3.0.0. This feature will be removed in v6.0.0. See https://github.com/optuna/optuna/releases/tag/v3.0.0. Use suggest_float instead.\n",
      "  del sys.path[0]\n"
     ]
    },
    {
     "name": "stderr",
     "output_type": "stream",
     "text": [
      "C:\\Users\\Andy\\Anaconda3\\lib\\site-packages\\ipykernel_launcher.py:15: FutureWarning: suggest_uniform has been deprecated in v3.0.0. This feature will be removed in v6.0.0. See https://github.com/optuna/optuna/releases/tag/v3.0.0. Use suggest_float instead.\n",
      "  from ipykernel import kernelapp as app\n",
      "[I 2025-03-19 23:38:47,022] Trial 13 finished with value: 0.6460674157303371 and parameters: {'num_leaves': 22, 'learning_rate': 0.08721042251204623, 'n_estimators': 15654, 'max_bin': 86, 'subsample': 0.9915461162269353, 'subsample_freq': 1, 'colsample_bytree': 0.6634768737097518, 'min_child_samples': 41}. Best is trial 11 with value: 0.659400544959128.\n",
      "C:\\Users\\Andy\\Anaconda3\\lib\\site-packages\\ipykernel_launcher.py:10: FutureWarning: suggest_loguniform has been deprecated in v3.0.0. This feature will be removed in v6.0.0. See https://github.com/optuna/optuna/releases/tag/v3.0.0. Use suggest_float(..., log=True) instead.\n",
      "  # Remove the CWD from sys.path while we load stuff.\n",
      "C:\\Users\\Andy\\Anaconda3\\lib\\site-packages\\ipykernel_launcher.py:13: FutureWarning: suggest_uniform has been deprecated in v3.0.0. This feature will be removed in v6.0.0. See https://github.com/optuna/optuna/releases/tag/v3.0.0. Use suggest_float instead.\n",
      "  del sys.path[0]\n",
      "C:\\Users\\Andy\\Anaconda3\\lib\\site-packages\\ipykernel_launcher.py:15: FutureWarning: suggest_uniform has been deprecated in v3.0.0. This feature will be removed in v6.0.0. See https://github.com/optuna/optuna/releases/tag/v3.0.0. Use suggest_float instead.\n",
      "  from ipykernel import kernelapp as app\n",
      "[I 2025-03-19 23:40:27,534] Trial 14 finished with value: 0.6575342465753425 and parameters: {'num_leaves': 36, 'learning_rate': 0.053456125182192823, 'n_estimators': 15544, 'max_bin': 53, 'subsample': 0.8206076429242246, 'subsample_freq': 1, 'colsample_bytree': 0.7028500325051423, 'min_child_samples': 49}. Best is trial 11 with value: 0.659400544959128.\n",
      "C:\\Users\\Andy\\Anaconda3\\lib\\site-packages\\ipykernel_launcher.py:10: FutureWarning: suggest_loguniform has been deprecated in v3.0.0. This feature will be removed in v6.0.0. See https://github.com/optuna/optuna/releases/tag/v3.0.0. Use suggest_float(..., log=True) instead.\n",
      "  # Remove the CWD from sys.path while we load stuff.\n",
      "C:\\Users\\Andy\\Anaconda3\\lib\\site-packages\\ipykernel_launcher.py:13: FutureWarning: suggest_uniform has been deprecated in v3.0.0. This feature will be removed in v6.0.0. See https://github.com/optuna/optuna/releases/tag/v3.0.0. Use suggest_float instead.\n",
      "  del sys.path[0]\n",
      "C:\\Users\\Andy\\Anaconda3\\lib\\site-packages\\ipykernel_launcher.py:15: FutureWarning: suggest_uniform has been deprecated in v3.0.0. This feature will be removed in v6.0.0. See https://github.com/optuna/optuna/releases/tag/v3.0.0. Use suggest_float instead.\n",
      "  from ipykernel import kernelapp as app\n",
      "[I 2025-03-19 23:43:36,558] Trial 15 finished with value: 0.638888888888889 and parameters: {'num_leaves': 25, 'learning_rate': 0.00443867628846865, 'n_estimators': 17297, 'max_bin': 92, 'subsample': 0.8840125396281016, 'subsample_freq': 6, 'colsample_bytree': 0.5690673932470456, 'min_child_samples': 42}. Best is trial 11 with value: 0.659400544959128.\n",
      "C:\\Users\\Andy\\Anaconda3\\lib\\site-packages\\ipykernel_launcher.py:10: FutureWarning: suggest_loguniform has been deprecated in v3.0.0. This feature will be removed in v6.0.0. See https://github.com/optuna/optuna/releases/tag/v3.0.0. Use suggest_float(..., log=True) instead.\n",
      "  # Remove the CWD from sys.path while we load stuff.\n",
      "C:\\Users\\Andy\\Anaconda3\\lib\\site-packages\\ipykernel_launcher.py:13: FutureWarning: suggest_uniform has been deprecated in v3.0.0. This feature will be removed in v6.0.0. See https://github.com/optuna/optuna/releases/tag/v3.0.0. Use suggest_float instead.\n",
      "  del sys.path[0]\n",
      "C:\\Users\\Andy\\Anaconda3\\lib\\site-packages\\ipykernel_launcher.py:15: FutureWarning: suggest_uniform has been deprecated in v3.0.0. This feature will be removed in v6.0.0. See https://github.com/optuna/optuna/releases/tag/v3.0.0. Use suggest_float instead.\n",
      "  from ipykernel import kernelapp as app\n",
      "[I 2025-03-19 23:45:17,998] Trial 16 finished with value: 0.6576819407008085 and parameters: {'num_leaves': 38, 'learning_rate': 0.042694325926593155, 'n_estimators': 12932, 'max_bin': 72, 'subsample': 0.9940243361117823, 'subsample_freq': 5, 'colsample_bytree': 0.7345160352849985, 'min_child_samples': 37}. Best is trial 11 with value: 0.659400544959128.\n",
      "C:\\Users\\Andy\\Anaconda3\\lib\\site-packages\\ipykernel_launcher.py:10: FutureWarning: suggest_loguniform has been deprecated in v3.0.0. This feature will be removed in v6.0.0. See https://github.com/optuna/optuna/releases/tag/v3.0.0. Use suggest_float(..., log=True) instead.\n",
      "  # Remove the CWD from sys.path while we load stuff.\n",
      "C:\\Users\\Andy\\Anaconda3\\lib\\site-packages\\ipykernel_launcher.py:13: FutureWarning: suggest_uniform has been deprecated in v3.0.0. This feature will be removed in v6.0.0. See https://github.com/optuna/optuna/releases/tag/v3.0.0. Use suggest_float instead.\n",
      "  del sys.path[0]\n",
      "C:\\Users\\Andy\\Anaconda3\\lib\\site-packages\\ipykernel_launcher.py:15: FutureWarning: suggest_uniform has been deprecated in v3.0.0. This feature will be removed in v6.0.0. See https://github.com/optuna/optuna/releases/tag/v3.0.0. Use suggest_float instead.\n",
      "  from ipykernel import kernelapp as app\n",
      "[I 2025-03-19 23:45:42,631] Trial 17 finished with value: 0.6204986149584488 and parameters: {'num_leaves': 19, 'learning_rate': 0.09885386042154452, 'n_estimators': 17874, 'max_bin': 150, 'subsample': 0.8223361812771324, 'subsample_freq': 2, 'colsample_bytree': 0.5979053893257094, 'min_child_samples': 50}. Best is trial 11 with value: 0.659400544959128.\n",
      "C:\\Users\\Andy\\Anaconda3\\lib\\site-packages\\ipykernel_launcher.py:10: FutureWarning: suggest_loguniform has been deprecated in v3.0.0. This feature will be removed in v6.0.0. See https://github.com/optuna/optuna/releases/tag/v3.0.0. Use suggest_float(..., log=True) instead.\n",
      "  # Remove the CWD from sys.path while we load stuff.\n",
      "C:\\Users\\Andy\\Anaconda3\\lib\\site-packages\\ipykernel_launcher.py:13: FutureWarning: suggest_uniform has been deprecated in v3.0.0. This feature will be removed in v6.0.0. See https://github.com/optuna/optuna/releases/tag/v3.0.0. Use suggest_float instead.\n",
      "  del sys.path[0]\n",
      "C:\\Users\\Andy\\Anaconda3\\lib\\site-packages\\ipykernel_launcher.py:15: FutureWarning: suggest_uniform has been deprecated in v3.0.0. This feature will be removed in v6.0.0. See https://github.com/optuna/optuna/releases/tag/v3.0.0. Use suggest_float instead.\n",
      "  from ipykernel import kernelapp as app\n",
      "[I 2025-03-19 23:46:20,074] Trial 18 finished with value: 0.6448087431693988 and parameters: {'num_leaves': 29, 'learning_rate': 0.06092442689210591, 'n_estimators': 10648, 'max_bin': 69, 'subsample': 0.9127987076582207, 'subsample_freq': 2, 'colsample_bytree': 0.6950499376077885, 'min_child_samples': 35}. Best is trial 11 with value: 0.659400544959128.\n",
      "C:\\Users\\Andy\\Anaconda3\\lib\\site-packages\\ipykernel_launcher.py:10: FutureWarning: suggest_loguniform has been deprecated in v3.0.0. This feature will be removed in v6.0.0. See https://github.com/optuna/optuna/releases/tag/v3.0.0. Use suggest_float(..., log=True) instead.\n",
      "  # Remove the CWD from sys.path while we load stuff.\n",
      "C:\\Users\\Andy\\Anaconda3\\lib\\site-packages\\ipykernel_launcher.py:13: FutureWarning: suggest_uniform has been deprecated in v3.0.0. This feature will be removed in v6.0.0. See https://github.com/optuna/optuna/releases/tag/v3.0.0. Use suggest_float instead.\n",
      "  del sys.path[0]\n",
      "C:\\Users\\Andy\\Anaconda3\\lib\\site-packages\\ipykernel_launcher.py:15: FutureWarning: suggest_uniform has been deprecated in v3.0.0. This feature will be removed in v6.0.0. See https://github.com/optuna/optuna/releases/tag/v3.0.0. Use suggest_float instead.\n",
      "  from ipykernel import kernelapp as app\n",
      "[I 2025-03-19 23:47:36,008] Trial 19 finished with value: 0.6022727272727272 and parameters: {'num_leaves': 33, 'learning_rate': 0.01482699092247191, 'n_estimators': 23873, 'max_bin': 51, 'subsample': 0.6944102461000083, 'subsample_freq': 5, 'colsample_bytree': 0.7573923649506337, 'min_child_samples': 44}. Best is trial 11 with value: 0.659400544959128.\n",
      "C:\\Users\\Andy\\Anaconda3\\lib\\site-packages\\ipykernel_launcher.py:10: FutureWarning: suggest_loguniform has been deprecated in v3.0.0. This feature will be removed in v6.0.0. See https://github.com/optuna/optuna/releases/tag/v3.0.0. Use suggest_float(..., log=True) instead.\n",
      "  # Remove the CWD from sys.path while we load stuff.\n"
     ]
    },
    {
     "name": "stderr",
     "output_type": "stream",
     "text": [
      "C:\\Users\\Andy\\Anaconda3\\lib\\site-packages\\ipykernel_launcher.py:13: FutureWarning: suggest_uniform has been deprecated in v3.0.0. This feature will be removed in v6.0.0. See https://github.com/optuna/optuna/releases/tag/v3.0.0. Use suggest_float instead.\n",
      "  del sys.path[0]\n",
      "C:\\Users\\Andy\\Anaconda3\\lib\\site-packages\\ipykernel_launcher.py:15: FutureWarning: suggest_uniform has been deprecated in v3.0.0. This feature will be removed in v6.0.0. See https://github.com/optuna/optuna/releases/tag/v3.0.0. Use suggest_float instead.\n",
      "  from ipykernel import kernelapp as app\n",
      "[I 2025-03-19 23:50:04,143] Trial 20 finished with value: 0.6334310850439883 and parameters: {'num_leaves': 17, 'learning_rate': 0.004939485474766766, 'n_estimators': 17891, 'max_bin': 105, 'subsample': 0.8597130546939742, 'subsample_freq': 1, 'colsample_bytree': 0.5912869068352784, 'min_child_samples': 18}. Best is trial 11 with value: 0.659400544959128.\n",
      "C:\\Users\\Andy\\Anaconda3\\lib\\site-packages\\ipykernel_launcher.py:10: FutureWarning: suggest_loguniform has been deprecated in v3.0.0. This feature will be removed in v6.0.0. See https://github.com/optuna/optuna/releases/tag/v3.0.0. Use suggest_float(..., log=True) instead.\n",
      "  # Remove the CWD from sys.path while we load stuff.\n",
      "C:\\Users\\Andy\\Anaconda3\\lib\\site-packages\\ipykernel_launcher.py:13: FutureWarning: suggest_uniform has been deprecated in v3.0.0. This feature will be removed in v6.0.0. See https://github.com/optuna/optuna/releases/tag/v3.0.0. Use suggest_float instead.\n",
      "  del sys.path[0]\n",
      "C:\\Users\\Andy\\Anaconda3\\lib\\site-packages\\ipykernel_launcher.py:15: FutureWarning: suggest_uniform has been deprecated in v3.0.0. This feature will be removed in v6.0.0. See https://github.com/optuna/optuna/releases/tag/v3.0.0. Use suggest_float instead.\n",
      "  from ipykernel import kernelapp as app\n",
      "[I 2025-03-19 23:51:13,977] Trial 21 finished with value: 0.6666666666666667 and parameters: {'num_leaves': 43, 'learning_rate': 0.039161382087126675, 'n_estimators': 13007, 'max_bin': 80, 'subsample': 0.9995906199287707, 'subsample_freq': 8, 'colsample_bytree': 0.7020797918647632, 'min_child_samples': 36}. Best is trial 21 with value: 0.6666666666666667.\n",
      "C:\\Users\\Andy\\Anaconda3\\lib\\site-packages\\ipykernel_launcher.py:10: FutureWarning: suggest_loguniform has been deprecated in v3.0.0. This feature will be removed in v6.0.0. See https://github.com/optuna/optuna/releases/tag/v3.0.0. Use suggest_float(..., log=True) instead.\n",
      "  # Remove the CWD from sys.path while we load stuff.\n",
      "C:\\Users\\Andy\\Anaconda3\\lib\\site-packages\\ipykernel_launcher.py:13: FutureWarning: suggest_uniform has been deprecated in v3.0.0. This feature will be removed in v6.0.0. See https://github.com/optuna/optuna/releases/tag/v3.0.0. Use suggest_float instead.\n",
      "  del sys.path[0]\n",
      "C:\\Users\\Andy\\Anaconda3\\lib\\site-packages\\ipykernel_launcher.py:15: FutureWarning: suggest_uniform has been deprecated in v3.0.0. This feature will be removed in v6.0.0. See https://github.com/optuna/optuna/releases/tag/v3.0.0. Use suggest_float instead.\n",
      "  from ipykernel import kernelapp as app\n",
      "[I 2025-03-19 23:52:36,204] Trial 22 finished with value: 0.6460674157303371 and parameters: {'num_leaves': 44, 'learning_rate': 0.02999069337304495, 'n_estimators': 13939, 'max_bin': 87, 'subsample': 0.9501281876614077, 'subsample_freq': 8, 'colsample_bytree': 0.6909769517247526, 'min_child_samples': 45}. Best is trial 21 with value: 0.6666666666666667.\n",
      "C:\\Users\\Andy\\Anaconda3\\lib\\site-packages\\ipykernel_launcher.py:10: FutureWarning: suggest_loguniform has been deprecated in v3.0.0. This feature will be removed in v6.0.0. See https://github.com/optuna/optuna/releases/tag/v3.0.0. Use suggest_float(..., log=True) instead.\n",
      "  # Remove the CWD from sys.path while we load stuff.\n",
      "C:\\Users\\Andy\\Anaconda3\\lib\\site-packages\\ipykernel_launcher.py:13: FutureWarning: suggest_uniform has been deprecated in v3.0.0. This feature will be removed in v6.0.0. See https://github.com/optuna/optuna/releases/tag/v3.0.0. Use suggest_float instead.\n",
      "  del sys.path[0]\n",
      "C:\\Users\\Andy\\Anaconda3\\lib\\site-packages\\ipykernel_launcher.py:15: FutureWarning: suggest_uniform has been deprecated in v3.0.0. This feature will be removed in v6.0.0. See https://github.com/optuna/optuna/releases/tag/v3.0.0. Use suggest_float instead.\n",
      "  from ipykernel import kernelapp as app\n",
      "[I 2025-03-19 23:53:02,057] Trial 23 finished with value: 0.6222222222222223 and parameters: {'num_leaves': 25, 'learning_rate': 0.06712088375927888, 'n_estimators': 10311, 'max_bin': 62, 'subsample': 0.9857774641540903, 'subsample_freq': 9, 'colsample_bytree': 0.7812503817594033, 'min_child_samples': 34}. Best is trial 21 with value: 0.6666666666666667.\n",
      "C:\\Users\\Andy\\Anaconda3\\lib\\site-packages\\ipykernel_launcher.py:10: FutureWarning: suggest_loguniform has been deprecated in v3.0.0. This feature will be removed in v6.0.0. See https://github.com/optuna/optuna/releases/tag/v3.0.0. Use suggest_float(..., log=True) instead.\n",
      "  # Remove the CWD from sys.path while we load stuff.\n",
      "C:\\Users\\Andy\\Anaconda3\\lib\\site-packages\\ipykernel_launcher.py:13: FutureWarning: suggest_uniform has been deprecated in v3.0.0. This feature will be removed in v6.0.0. See https://github.com/optuna/optuna/releases/tag/v3.0.0. Use suggest_float instead.\n",
      "  del sys.path[0]\n",
      "C:\\Users\\Andy\\Anaconda3\\lib\\site-packages\\ipykernel_launcher.py:15: FutureWarning: suggest_uniform has been deprecated in v3.0.0. This feature will be removed in v6.0.0. See https://github.com/optuna/optuna/releases/tag/v3.0.0. Use suggest_float instead.\n",
      "  from ipykernel import kernelapp as app\n",
      "[I 2025-03-19 23:54:27,575] Trial 24 finished with value: 0.6685082872928176 and parameters: {'num_leaves': 43, 'learning_rate': 0.03992385721621942, 'n_estimators': 14144, 'max_bin': 82, 'subsample': 0.9181303473756289, 'subsample_freq': 7, 'colsample_bytree': 0.6538652124575284, 'min_child_samples': 40}. Best is trial 24 with value: 0.6685082872928176.\n"
     ]
    },
    {
     "name": "stdout",
     "output_type": "stream",
     "text": [
      "Best Hyperparameters: {'num_leaves': 43, 'learning_rate': 0.03992385721621942, 'n_estimators': 14144, 'max_bin': 82, 'subsample': 0.9181303473756289, 'subsample_freq': 7, 'colsample_bytree': 0.6538652124575284, 'min_child_samples': 40}\n"
     ]
    }
   ],
   "source": [
    "study.optimize(objective, n_trials=25)  # Run 30 trials\n",
    "\n",
    "# Show best parameters\n",
    "print(\"Best Hyperparameters:\", study.best_params)"
   ]
  },
  {
   "cell_type": "code",
   "execution_count": 44,
   "metadata": {},
   "outputs": [],
   "source": [
    "arguments = {\n",
    "    \"objective\": \"regression\",\n",
    "    \"boosting_type\": \"gbdt\",\n",
    "    \"num_leaves\": 20,\n",
    "    \"learning_rate\": 0.01034,\n",
    "    \"n_estimators\": 3000,\n",
    "    \"max_bin\": 113,\n",
    "    \"subsample\": 0.7708753433144212,\n",
    "    \"subsample_freq\": 5,\n",
    "    \"colsample_bytree\": 0.6628,\n",
    "    \"feature_fraction_seed\": 42,\n",
    "    \"bagging_seed\": 42,\n",
    "    \"min_child_samples\": 25\n",
    "}"
   ]
  },
  {
   "cell_type": "code",
   "execution_count": 45,
   "metadata": {},
   "outputs": [],
   "source": [
    "bigModel = lgb.LGBMClassifier(**arguments)\n",
    "bigModel.fit(X_train, y_train)\n",
    "\n",
    "# Step 6: Predict and Evaluate Accuracy\n",
    "y_pred_proba = bigModel.predict_proba(X_test)[:, 1]  # Get probability for class 1"
   ]
  },
  {
   "cell_type": "code",
   "execution_count": 46,
   "metadata": {},
   "outputs": [],
   "source": [
    "X_train.columns = X_train.columns.astype(str)\n",
    "X_test.columns =X_test.columns.astype(str)\n",
    "\n",
    "# Rename duplicate columns by adding a suffix (_1, _2, etc.)\n",
    "X_train.columns = pd.Series(X_train.columns).astype(str) + \"_\" + pd.Series(X_train.columns).groupby(X_train.columns).cumcount().astype(str)\n",
    "X_test.columns = pd.Series(X_test.columns).astype(str) + \"_\" + pd.Series(X_test.columns).groupby(X_test.columns).cumcount().astype(str)\n"
   ]
  },
  {
   "cell_type": "code",
   "execution_count": 48,
   "metadata": {},
   "outputs": [],
   "source": [
    "feature_importance = pd.DataFrame({\"feature\": X_train.columns, \"importance\": bigModel.feature_importances_})\n",
    "feature_importance = feature_importance.sort_values(by=\"importance\", ascending=False)\n",
    "\n",
    "# Keep only top 200 most important features\n",
    "top_features = feature_importance.head(30)[\"feature\"].tolist()"
   ]
  },
  {
   "cell_type": "code",
   "execution_count": 49,
   "metadata": {},
   "outputs": [],
   "source": [
    "X_train_trimmed = X_train[top_features]\n",
    "X_test_trimmed = X_test[top_features]"
   ]
  },
  {
   "cell_type": "code",
   "execution_count": 54,
   "metadata": {},
   "outputs": [],
   "source": [
    "X_train_trimmed = X_train_trimmed.fillna(X_train_trimmed.mean())\n",
    "X_test_trimmed = X_test_trimmed.fillna(X_test_trimmed.mean())"
   ]
  },
  {
   "cell_type": "code",
   "execution_count": 61,
   "metadata": {},
   "outputs": [
    {
     "name": "stderr",
     "output_type": "stream",
     "text": [
      "[I 2025-03-21 13:01:27,408] A new study created in RDB with name: gbdt_tuning0322_bestfeatures\n"
     ]
    }
   ],
   "source": [
    "study = optuna.create_study(direction=\"maximize\", study_name=\"gbdt_tuning0322_bestfeatures\",storage=storage_url)"
   ]
  },
  {
   "cell_type": "code",
   "execution_count": 66,
   "metadata": {},
   "outputs": [],
   "source": [
    "# Split dataset before running Optuna (Ensuring same train-test split)\n",
    "X_train_opt, X_val, y_train_opt, y_val = train_test_split(X_train_trimmed, y_train, test_size=0.2, random_state=42)\n",
    "\n",
    "# Define the Optuna objective function for hyperparameter tuning\n",
    "def objective(trial):\n",
    "    params = {\n",
    "        \"objective\": \"binary\",\n",
    "        \"boosting_type\": \"gbdt\",\n",
    "        \"num_leaves\": trial.suggest_int(\"num_leaves\", 10, 50),\n",
    "        \"learning_rate\": trial.suggest_loguniform(\"learning_rate\", 0.001, 0.01),\n",
    "        \"n_estimators\": trial.suggest_int(\"n_estimators\", 30000, 60000),\n",
    "        \"max_bin\": trial.suggest_int(\"max_bin\", 50, 200),\n",
    "        \"subsample\": trial.suggest_uniform(\"subsample\", 0.5, 1.0),\n",
    "        \"subsample_freq\": trial.suggest_int(\"subsample_freq\", 1, 10),\n",
    "        \"colsample_bytree\": trial.suggest_uniform(\"colsample_bytree\", 0.5, 1.0),\n",
    "        \"feature_fraction_seed\": 42,\n",
    "        \"bagging_seed\": 42,\n",
    "        \"min_child_samples\": trial.suggest_int(\"min_child_samples\", 5, 50)\n",
    "    }\n",
    "\n",
    "    X_train_opt, X_val, y_train_opt, y_val = train_test_split(X_train_trimmed, y_train, test_size=0.2, random_state=42)\n",
    "\n",
    "    # Train model\n",
    "    model = lgb.LGBMClassifier(**params)\n",
    "    model.fit(X_train_opt, y_train_opt, eval_set=[(X_val, y_val)], early_stopping_rounds=50, verbose=False)\n",
    "\n",
    "    # Predict & Evaluate\n",
    "    y_pred_proba = model.predict_proba(X_val)[:, 1]\n",
    "    y_pred = (y_pred_proba >= 0.3).astype(int)  # Adjust threshold if needed\n",
    "    f1 = f1_score(y_val, y_pred)\n",
    "    \n",
    "    return f1"
   ]
  },
  {
   "cell_type": "code",
   "execution_count": 67,
   "metadata": {
    "scrolled": true
   },
   "outputs": [
    {
     "name": "stderr",
     "output_type": "stream",
     "text": [
      "C:\\Users\\Andy\\Anaconda3\\lib\\site-packages\\ipykernel_launcher.py:10: FutureWarning: suggest_loguniform has been deprecated in v3.0.0. This feature will be removed in v6.0.0. See https://github.com/optuna/optuna/releases/tag/v3.0.0. Use suggest_float(..., log=True) instead.\n",
      "  # Remove the CWD from sys.path while we load stuff.\n",
      "C:\\Users\\Andy\\Anaconda3\\lib\\site-packages\\ipykernel_launcher.py:13: FutureWarning: suggest_uniform has been deprecated in v3.0.0. This feature will be removed in v6.0.0. See https://github.com/optuna/optuna/releases/tag/v3.0.0. Use suggest_float instead.\n",
      "  del sys.path[0]\n",
      "C:\\Users\\Andy\\Anaconda3\\lib\\site-packages\\ipykernel_launcher.py:15: FutureWarning: suggest_uniform has been deprecated in v3.0.0. This feature will be removed in v6.0.0. See https://github.com/optuna/optuna/releases/tag/v3.0.0. Use suggest_float instead.\n",
      "  from ipykernel import kernelapp as app\n",
      "[I 2025-03-21 15:08:38,056] Trial 18 finished with value: 0.6352941176470588 and parameters: {'num_leaves': 42, 'learning_rate': 0.0025641341898416377, 'n_estimators': 30502, 'max_bin': 111, 'subsample': 0.9203231776700962, 'subsample_freq': 6, 'colsample_bytree': 0.7921925452192708, 'min_child_samples': 38}. Best is trial 18 with value: 0.6352941176470588.\n",
      "C:\\Users\\Andy\\Anaconda3\\lib\\site-packages\\ipykernel_launcher.py:10: FutureWarning: suggest_loguniform has been deprecated in v3.0.0. This feature will be removed in v6.0.0. See https://github.com/optuna/optuna/releases/tag/v3.0.0. Use suggest_float(..., log=True) instead.\n",
      "  # Remove the CWD from sys.path while we load stuff.\n",
      "C:\\Users\\Andy\\Anaconda3\\lib\\site-packages\\ipykernel_launcher.py:13: FutureWarning: suggest_uniform has been deprecated in v3.0.0. This feature will be removed in v6.0.0. See https://github.com/optuna/optuna/releases/tag/v3.0.0. Use suggest_float instead.\n",
      "  del sys.path[0]\n",
      "C:\\Users\\Andy\\Anaconda3\\lib\\site-packages\\ipykernel_launcher.py:15: FutureWarning: suggest_uniform has been deprecated in v3.0.0. This feature will be removed in v6.0.0. See https://github.com/optuna/optuna/releases/tag/v3.0.0. Use suggest_float instead.\n",
      "  from ipykernel import kernelapp as app\n",
      "[I 2025-03-21 15:08:49,612] Trial 19 finished with value: 0.5957446808510638 and parameters: {'num_leaves': 49, 'learning_rate': 0.002383316194737824, 'n_estimators': 33094, 'max_bin': 108, 'subsample': 0.9291654635001272, 'subsample_freq': 9, 'colsample_bytree': 0.7112747587504036, 'min_child_samples': 39}. Best is trial 18 with value: 0.6352941176470588.\n",
      "C:\\Users\\Andy\\Anaconda3\\lib\\site-packages\\ipykernel_launcher.py:10: FutureWarning: suggest_loguniform has been deprecated in v3.0.0. This feature will be removed in v6.0.0. See https://github.com/optuna/optuna/releases/tag/v3.0.0. Use suggest_float(..., log=True) instead.\n",
      "  # Remove the CWD from sys.path while we load stuff.\n",
      "C:\\Users\\Andy\\Anaconda3\\lib\\site-packages\\ipykernel_launcher.py:13: FutureWarning: suggest_uniform has been deprecated in v3.0.0. This feature will be removed in v6.0.0. See https://github.com/optuna/optuna/releases/tag/v3.0.0. Use suggest_float instead.\n",
      "  del sys.path[0]\n",
      "C:\\Users\\Andy\\Anaconda3\\lib\\site-packages\\ipykernel_launcher.py:15: FutureWarning: suggest_uniform has been deprecated in v3.0.0. This feature will be removed in v6.0.0. See https://github.com/optuna/optuna/releases/tag/v3.0.0. Use suggest_float instead.\n",
      "  from ipykernel import kernelapp as app\n",
      "[I 2025-03-21 15:09:15,738] Trial 20 finished with value: 0.6350148367952523 and parameters: {'num_leaves': 38, 'learning_rate': 0.0014375113668638898, 'n_estimators': 38125, 'max_bin': 86, 'subsample': 0.9497586667989261, 'subsample_freq': 6, 'colsample_bytree': 0.7832402818674467, 'min_child_samples': 50}. Best is trial 18 with value: 0.6352941176470588.\n",
      "C:\\Users\\Andy\\Anaconda3\\lib\\site-packages\\ipykernel_launcher.py:10: FutureWarning: suggest_loguniform has been deprecated in v3.0.0. This feature will be removed in v6.0.0. See https://github.com/optuna/optuna/releases/tag/v3.0.0. Use suggest_float(..., log=True) instead.\n",
      "  # Remove the CWD from sys.path while we load stuff.\n",
      "C:\\Users\\Andy\\Anaconda3\\lib\\site-packages\\ipykernel_launcher.py:13: FutureWarning: suggest_uniform has been deprecated in v3.0.0. This feature will be removed in v6.0.0. See https://github.com/optuna/optuna/releases/tag/v3.0.0. Use suggest_float instead.\n",
      "  del sys.path[0]\n",
      "C:\\Users\\Andy\\Anaconda3\\lib\\site-packages\\ipykernel_launcher.py:15: FutureWarning: suggest_uniform has been deprecated in v3.0.0. This feature will be removed in v6.0.0. See https://github.com/optuna/optuna/releases/tag/v3.0.0. Use suggest_float instead.\n",
      "  from ipykernel import kernelapp as app\n",
      "[I 2025-03-21 15:09:49,673] Trial 21 finished with value: 0.629080118694362 and parameters: {'num_leaves': 37, 'learning_rate': 0.0014517145525841455, 'n_estimators': 35853, 'max_bin': 81, 'subsample': 0.9620939118802334, 'subsample_freq': 6, 'colsample_bytree': 0.6417839930094895, 'min_child_samples': 45}. Best is trial 18 with value: 0.6352941176470588.\n",
      "C:\\Users\\Andy\\Anaconda3\\lib\\site-packages\\ipykernel_launcher.py:10: FutureWarning: suggest_loguniform has been deprecated in v3.0.0. This feature will be removed in v6.0.0. See https://github.com/optuna/optuna/releases/tag/v3.0.0. Use suggest_float(..., log=True) instead.\n",
      "  # Remove the CWD from sys.path while we load stuff.\n",
      "C:\\Users\\Andy\\Anaconda3\\lib\\site-packages\\ipykernel_launcher.py:13: FutureWarning: suggest_uniform has been deprecated in v3.0.0. This feature will be removed in v6.0.0. See https://github.com/optuna/optuna/releases/tag/v3.0.0. Use suggest_float instead.\n",
      "  del sys.path[0]\n",
      "C:\\Users\\Andy\\Anaconda3\\lib\\site-packages\\ipykernel_launcher.py:15: FutureWarning: suggest_uniform has been deprecated in v3.0.0. This feature will be removed in v6.0.0. See https://github.com/optuna/optuna/releases/tag/v3.0.0. Use suggest_float instead.\n",
      "  from ipykernel import kernelapp as app\n",
      "[I 2025-03-21 15:10:14,828] Trial 22 finished with value: 0.6371681415929203 and parameters: {'num_leaves': 42, 'learning_rate': 0.0014827728977869338, 'n_estimators': 30123, 'max_bin': 89, 'subsample': 0.8878025088399284, 'subsample_freq': 6, 'colsample_bytree': 0.780255253276749, 'min_child_samples': 39}. Best is trial 22 with value: 0.6371681415929203.\n",
      "C:\\Users\\Andy\\Anaconda3\\lib\\site-packages\\ipykernel_launcher.py:10: FutureWarning: suggest_loguniform has been deprecated in v3.0.0. This feature will be removed in v6.0.0. See https://github.com/optuna/optuna/releases/tag/v3.0.0. Use suggest_float(..., log=True) instead.\n",
      "  # Remove the CWD from sys.path while we load stuff.\n",
      "C:\\Users\\Andy\\Anaconda3\\lib\\site-packages\\ipykernel_launcher.py:13: FutureWarning: suggest_uniform has been deprecated in v3.0.0. This feature will be removed in v6.0.0. See https://github.com/optuna/optuna/releases/tag/v3.0.0. Use suggest_float instead.\n",
      "  del sys.path[0]\n",
      "C:\\Users\\Andy\\Anaconda3\\lib\\site-packages\\ipykernel_launcher.py:15: FutureWarning: suggest_uniform has been deprecated in v3.0.0. This feature will be removed in v6.0.0. See https://github.com/optuna/optuna/releases/tag/v3.0.0. Use suggest_float instead.\n",
      "  from ipykernel import kernelapp as app\n",
      "[I 2025-03-21 15:10:39,407] Trial 23 finished with value: 0.6265060240963856 and parameters: {'num_leaves': 43, 'learning_rate': 0.0014843128428700992, 'n_estimators': 30804, 'max_bin': 85, 'subsample': 0.8757879086998135, 'subsample_freq': 6, 'colsample_bytree': 0.7620358379607035, 'min_child_samples': 38}. Best is trial 22 with value: 0.6371681415929203.\n",
      "C:\\Users\\Andy\\Anaconda3\\lib\\site-packages\\ipykernel_launcher.py:10: FutureWarning: suggest_loguniform has been deprecated in v3.0.0. This feature will be removed in v6.0.0. See https://github.com/optuna/optuna/releases/tag/v3.0.0. Use suggest_float(..., log=True) instead.\n",
      "  # Remove the CWD from sys.path while we load stuff.\n",
      "C:\\Users\\Andy\\Anaconda3\\lib\\site-packages\\ipykernel_launcher.py:13: FutureWarning: suggest_uniform has been deprecated in v3.0.0. This feature will be removed in v6.0.0. See https://github.com/optuna/optuna/releases/tag/v3.0.0. Use suggest_float instead.\n",
      "  del sys.path[0]\n",
      "C:\\Users\\Andy\\Anaconda3\\lib\\site-packages\\ipykernel_launcher.py:15: FutureWarning: suggest_uniform has been deprecated in v3.0.0. This feature will be removed in v6.0.0. See https://github.com/optuna/optuna/releases/tag/v3.0.0. Use suggest_float instead.\n",
      "  from ipykernel import kernelapp as app\n"
     ]
    },
    {
     "name": "stderr",
     "output_type": "stream",
     "text": [
      "[I 2025-03-21 15:11:02,223] Trial 24 finished with value: 0.6208955223880598 and parameters: {'num_leaves': 42, 'learning_rate': 0.001131726009715065, 'n_estimators': 30037, 'max_bin': 116, 'subsample': 0.8139541425535903, 'subsample_freq': 7, 'colsample_bytree': 0.9967655401785513, 'min_child_samples': 28}. Best is trial 22 with value: 0.6371681415929203.\n",
      "C:\\Users\\Andy\\Anaconda3\\lib\\site-packages\\ipykernel_launcher.py:10: FutureWarning: suggest_loguniform has been deprecated in v3.0.0. This feature will be removed in v6.0.0. See https://github.com/optuna/optuna/releases/tag/v3.0.0. Use suggest_float(..., log=True) instead.\n",
      "  # Remove the CWD from sys.path while we load stuff.\n",
      "C:\\Users\\Andy\\Anaconda3\\lib\\site-packages\\ipykernel_launcher.py:13: FutureWarning: suggest_uniform has been deprecated in v3.0.0. This feature will be removed in v6.0.0. See https://github.com/optuna/optuna/releases/tag/v3.0.0. Use suggest_float instead.\n",
      "  del sys.path[0]\n",
      "C:\\Users\\Andy\\Anaconda3\\lib\\site-packages\\ipykernel_launcher.py:15: FutureWarning: suggest_uniform has been deprecated in v3.0.0. This feature will be removed in v6.0.0. See https://github.com/optuna/optuna/releases/tag/v3.0.0. Use suggest_float instead.\n",
      "  from ipykernel import kernelapp as app\n",
      "[I 2025-03-21 15:11:20,152] Trial 25 finished with value: 0.6208955223880598 and parameters: {'num_leaves': 49, 'learning_rate': 0.0017746779561602767, 'n_estimators': 37186, 'max_bin': 54, 'subsample': 0.9464349205787654, 'subsample_freq': 6, 'colsample_bytree': 0.6897664407727596, 'min_child_samples': 38}. Best is trial 22 with value: 0.6371681415929203.\n",
      "C:\\Users\\Andy\\Anaconda3\\lib\\site-packages\\ipykernel_launcher.py:10: FutureWarning: suggest_loguniform has been deprecated in v3.0.0. This feature will be removed in v6.0.0. See https://github.com/optuna/optuna/releases/tag/v3.0.0. Use suggest_float(..., log=True) instead.\n",
      "  # Remove the CWD from sys.path while we load stuff.\n",
      "C:\\Users\\Andy\\Anaconda3\\lib\\site-packages\\ipykernel_launcher.py:13: FutureWarning: suggest_uniform has been deprecated in v3.0.0. This feature will be removed in v6.0.0. See https://github.com/optuna/optuna/releases/tag/v3.0.0. Use suggest_float instead.\n",
      "  del sys.path[0]\n",
      "C:\\Users\\Andy\\Anaconda3\\lib\\site-packages\\ipykernel_launcher.py:15: FutureWarning: suggest_uniform has been deprecated in v3.0.0. This feature will be removed in v6.0.0. See https://github.com/optuna/optuna/releases/tag/v3.0.0. Use suggest_float instead.\n",
      "  from ipykernel import kernelapp as app\n",
      "[I 2025-03-21 15:11:36,651] Trial 26 finished with value: 0.6432748538011696 and parameters: {'num_leaves': 38, 'learning_rate': 0.00248740115632934, 'n_estimators': 34005, 'max_bin': 70, 'subsample': 0.8760382373050404, 'subsample_freq': 5, 'colsample_bytree': 0.859379336321654, 'min_child_samples': 44}. Best is trial 26 with value: 0.6432748538011696.\n",
      "C:\\Users\\Andy\\Anaconda3\\lib\\site-packages\\ipykernel_launcher.py:10: FutureWarning: suggest_loguniform has been deprecated in v3.0.0. This feature will be removed in v6.0.0. See https://github.com/optuna/optuna/releases/tag/v3.0.0. Use suggest_float(..., log=True) instead.\n",
      "  # Remove the CWD from sys.path while we load stuff.\n",
      "C:\\Users\\Andy\\Anaconda3\\lib\\site-packages\\ipykernel_launcher.py:13: FutureWarning: suggest_uniform has been deprecated in v3.0.0. This feature will be removed in v6.0.0. See https://github.com/optuna/optuna/releases/tag/v3.0.0. Use suggest_float instead.\n",
      "  del sys.path[0]\n",
      "C:\\Users\\Andy\\Anaconda3\\lib\\site-packages\\ipykernel_launcher.py:15: FutureWarning: suggest_uniform has been deprecated in v3.0.0. This feature will be removed in v6.0.0. See https://github.com/optuna/optuna/releases/tag/v3.0.0. Use suggest_float instead.\n",
      "  from ipykernel import kernelapp as app\n",
      "[I 2025-03-21 15:11:51,026] Trial 27 finished with value: 0.6144578313253012 and parameters: {'num_leaves': 46, 'learning_rate': 0.0025265414961356597, 'n_estimators': 32941, 'max_bin': 70, 'subsample': 0.8797073760723311, 'subsample_freq': 4, 'colsample_bytree': 0.8590943082195253, 'min_child_samples': 43}. Best is trial 26 with value: 0.6432748538011696.\n"
     ]
    },
    {
     "name": "stdout",
     "output_type": "stream",
     "text": [
      "Best Hyperparameters: {'num_leaves': 38, 'learning_rate': 0.00248740115632934, 'n_estimators': 34005, 'max_bin': 70, 'subsample': 0.8760382373050404, 'subsample_freq': 5, 'colsample_bytree': 0.859379336321654, 'min_child_samples': 44}\n"
     ]
    }
   ],
   "source": [
    "study.optimize(objective, n_trials=10)  # Run 30 trials\n",
    "\n",
    "# Show best parameters\n",
    "print(\"Best Hyperparameters:\", study.best_params)"
   ]
  },
  {
   "cell_type": "code",
   "execution_count": null,
   "metadata": {},
   "outputs": [],
   "source": []
  }
 ],
 "metadata": {
  "kernelspec": {
   "display_name": "Python 3",
   "language": "python",
   "name": "python3"
  },
  "language_info": {
   "codemirror_mode": {
    "name": "ipython",
    "version": 3
   },
   "file_extension": ".py",
   "mimetype": "text/x-python",
   "name": "python",
   "nbconvert_exporter": "python",
   "pygments_lexer": "ipython3",
   "version": "3.7.3"
  }
 },
 "nbformat": 4,
 "nbformat_minor": 2
}

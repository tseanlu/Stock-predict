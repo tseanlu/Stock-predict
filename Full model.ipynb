{
 "cells": [
  {
   "cell_type": "code",
   "execution_count": 1,
   "metadata": {},
   "outputs": [],
   "source": [
    "from sklearn.metrics import accuracy_score\n",
    "from sklearn.metrics import precision_score, recall_score\n",
    "from sklearn.metrics import f1_score"
   ]
  },
  {
   "cell_type": "code",
   "execution_count": 2,
   "metadata": {},
   "outputs": [
    {
     "name": "stderr",
     "output_type": "stream",
     "text": [
      "C:\\Users\\Andy\\Anaconda3\\lib\\site-packages\\pandas\\compat\\_optional.py:138: UserWarning: Pandas requires version '2.7.0' or newer of 'numexpr' (version '2.6.9' currently installed).\n",
      "  warnings.warn(msg, UserWarning)\n"
     ]
    }
   ],
   "source": [
    "import os\n",
    "import pandas as pd\n",
    "import numpy as np\n",
    "import lightgbm as lgb\n",
    "from sklearn.model_selection import train_test_split\n",
    "from sklearn.metrics import accuracy_score\n",
    "from pypinyin import lazy_pinyin\n",
    "\n",
    "# Step 1: Change the working directory (update the path accordingly)\n",
    "new_dir = \"C:/Users/Andy/Documents/stock/\"\n",
    "os.chdir(new_dir)\n"
   ]
  },
  {
   "cell_type": "code",
   "execution_count": 3,
   "metadata": {
    "scrolled": true
   },
   "outputs": [],
   "source": [
    "df = pd.read_csv(\"Trim_train/merged_cleaned_data.csv\")"
   ]
  },
  {
   "cell_type": "code",
   "execution_count": 68,
   "metadata": {},
   "outputs": [
    {
     "data": {
      "text/plain": [
       "Index(['ID', 'wai', 'wai', 'wai', 'wai', 'wai', 'wai', 'wai', 'wai', 'wai',\n",
       "       ...\n",
       "       'shang', 'shang', 'shang', 'shang', 'shang', 'shang', 'shang', 'shang',\n",
       "       'shang', 'biao'],\n",
       "      dtype='object', length=673)"
      ]
     },
     "execution_count": 68,
     "metadata": {},
     "output_type": "execute_result"
    }
   ],
   "source": [
    "df.columns"
   ]
  },
  {
   "cell_type": "code",
   "execution_count": 4,
   "metadata": {},
   "outputs": [],
   "source": [
    "from pypinyin import lazy_pinyin\n",
    "df.columns = [lazy_pinyin(col)[0] for col in df.columns]"
   ]
  },
  {
   "cell_type": "code",
   "execution_count": 5,
   "metadata": {},
   "outputs": [],
   "source": [
    "target_column = \"biao\" "
   ]
  },
  {
   "cell_type": "code",
   "execution_count": 396,
   "metadata": {},
   "outputs": [],
   "source": [
    "X = df.drop(columns=[target_column, \"ID\"], errors=\"ignore\")\n",
    "y = df[target_column]"
   ]
  },
  {
   "cell_type": "code",
   "execution_count": 397,
   "metadata": {},
   "outputs": [],
   "source": [
    "X.columns = [f\"{col}_{i}\" if X.columns.duplicated()[i] else col for i, col in enumerate(X.columns)]"
   ]
  },
  {
   "cell_type": "code",
   "execution_count": 398,
   "metadata": {},
   "outputs": [],
   "source": [
    "X = X.fillna(X.mean())"
   ]
  },
  {
   "cell_type": "code",
   "execution_count": 399,
   "metadata": {},
   "outputs": [
    {
     "data": {
      "text/plain": [
       "Index(['wai', 'wai_1', 'wai_2', 'wai_3', 'wai_4', 'wai_5', 'wai_6', 'wai_7',\n",
       "       'wai_8', 'wai_9',\n",
       "       ...\n",
       "       'shang_661', 'shang_662', 'shang_663', 'shang_664', 'shang_665',\n",
       "       'shang_666', 'shang_667', 'shang_668', 'shang_669', 'shang_670'],\n",
       "      dtype='object', length=671)"
      ]
     },
     "execution_count": 399,
     "metadata": {},
     "output_type": "execute_result"
    }
   ],
   "source": [
    "X.columns"
   ]
  },
  {
   "cell_type": "code",
   "execution_count": 264,
   "metadata": {},
   "outputs": [],
   "source": [
    "# Calculate IQR for all numerical features\n",
    "Q1 = X.quantile(0.25)\n",
    "Q3 = X.quantile(0.75)\n",
    "IQR = Q3 - Q1\n",
    "\n",
    "# Define outliers: Any value outside 1.5 * IQR bounds\n",
    "outlier_mask = (X < (Q1 - 1.5 * IQR)) | (X > (Q3 + 1.5 * IQR))\n",
    "\n",
    "# Create an \"outlier count\" column (number of outlier features per row)\n",
    "X[\"outlier_count\"] = outlier_mask.sum(axis=1)\n",
    "\n",
    "# Optional: Convert to binary flag (1 if any outlier, 0 if none)\n",
    "X[\"is_outlier\"] = (X[\"outlier_count\"] > 0).astype(int)\n",
    "from sklearn.preprocessing import MinMaxScaler\n",
    "\n",
    "scaler = MinMaxScaler()\n",
    "X[\"outlier_count_scaled\"] = scaler.fit_transform(X[[\"outlier_count\"]])"
   ]
  },
  {
   "cell_type": "code",
   "execution_count": 267,
   "metadata": {},
   "outputs": [],
   "source": [
    "# Step 3: Train-Test Split\n",
    "X_train, X_test, y_train, y_test = train_test_split(X, y, test_size=0.2, random_state=42, stratify=y)"
   ]
  },
  {
   "cell_type": "code",
   "execution_count": 249,
   "metadata": {},
   "outputs": [],
   "source": [
    "arguments = {\n",
    "    \"objective\": \"regression\",\n",
    "    \"boosting_type\": \"gbdt\",\n",
    "    \"num_leaves\": 20,\n",
    "    \"learning_rate\": 0.01034,\n",
    "    \"n_estimators\": 30000,\n",
    "    \"max_bin\": 113,\n",
    "    \"subsample\": 0.7708753433144212,\n",
    "    \"subsample_freq\": 5,\n",
    "    \"colsample_bytree\": 0.6628,\n",
    "    \"feature_fraction_seed\": 42,\n",
    "    \"bagging_seed\": 42,\n",
    "    \"min_child_samples\": 25\n",
    "}"
   ]
  },
  {
   "cell_type": "code",
   "execution_count": 252,
   "metadata": {},
   "outputs": [],
   "source": [
    "BestHyperparameters = {'boosting_type': 'dart', \n",
    "                        'num_leaves': 10, \n",
    "                        'learning_rate': 0.004889109596845264, \n",
    "                        'n_estimators': 16943, 'max_bin': 232, \n",
    "                        'subsample': 0.7823086040575833, 'subsample_freq': 13, \n",
    "                        'colsample_bytree': 0.8106243879716812, \n",
    "                        'min_child_samples': 5}"
   ]
  },
  {
   "cell_type": "code",
   "execution_count": 270,
   "metadata": {},
   "outputs": [],
   "source": [
    "Best_Hyperparameters_2 = {'num_leaves': 30, \n",
    "                       \"boosting_type\": \"gbdt\",\n",
    "                        'learning_rate': 0.04775679749328264, \n",
    "                       'n_estimators': 14029, \n",
    "                       'max_bin': 111, \n",
    "                       'subsample': 0.9773059458207831, \n",
    "                       'subsample_freq': 1, \n",
    "                       'colsample_bytree': 0.9523986724033833, \n",
    "                       'min_child_samples': 30}"
   ]
  },
  {
   "cell_type": "code",
   "execution_count": 512,
   "metadata": {},
   "outputs": [],
   "source": [
    "Best_Hyperparameters_3 = {'num_leaves': 45, 'learning_rate': 0.010556170455516557, \n",
    "                          'n_estimators': 44226, 'max_bin': 162,\n",
    "                          'subsample': 0.8812363685123362, 'subsample_freq': 2,\n",
    "                          'colsample_bytree': 0.545954397887439, 'min_child_samples': 31}"
   ]
  },
  {
   "cell_type": "code",
   "execution_count": 390,
   "metadata": {},
   "outputs": [
    {
     "data": {
      "text/plain": [
       "(160691, 674)"
      ]
     },
     "execution_count": 390,
     "metadata": {},
     "output_type": "execute_result"
    }
   ],
   "source": [
    "X_train.shape"
   ]
  },
  {
   "cell_type": "code",
   "execution_count": 253,
   "metadata": {},
   "outputs": [
    {
     "name": "stdout",
     "output_type": "stream",
     "text": [
      "Series([], dtype: int64)\n"
     ]
    }
   ],
   "source": [
    "# Count missing values per column\n",
    "missing_values = X.isna().sum()\n",
    "\n",
    "# Print only columns with missing values\n",
    "missing_values = missing_values[missing_values > 0]\n",
    "print(missing_values)"
   ]
  },
  {
   "cell_type": "code",
   "execution_count": 179,
   "metadata": {},
   "outputs": [],
   "source": [
    "bigModel = lgb.LGBMClassifier(**arguments)\n",
    "bigModel.fit(X_train, y_train)\n",
    "\n",
    "# Step 6: Predict and Evaluate Accuracy\n",
    "y_pred_proba = bigModel.predict_proba(X_test)[:, 1]  # Get probability for class 1"
   ]
  },
  {
   "cell_type": "code",
   "execution_count": 438,
   "metadata": {},
   "outputs": [],
   "source": [
    "bigModel = lgb.LGBMClassifier(**BestHyperparameters)\n",
    "bigModel.fit(X_train, y_train)\n",
    "\n",
    "# Step 6: Predict and Evaluate Accuracy\n",
    "y_pred_proba = bigModel.predict_proba(X_test)[:, 1]  # Get probability for class 1"
   ]
  },
  {
   "cell_type": "code",
   "execution_count": 513,
   "metadata": {},
   "outputs": [],
   "source": [
    "bigModel = lgb.LGBMClassifier(**Best_Hyperparameters_3)\n",
    "bigModel.fit(X_train, y_train)\n",
    "\n",
    "# Step 6: Predict and Evaluate Accuracy\n",
    "y_pred_proba = bigModel.predict_proba(X_test)[:, 1]  # Get probability for class 1"
   ]
  },
  {
   "cell_type": "code",
   "execution_count": 473,
   "metadata": {},
   "outputs": [],
   "source": [
    "y_pred_proba = bigModel.predict_proba(X_test)[:, 1]  # Get probability for class 1"
   ]
  },
  {
   "cell_type": "code",
   "execution_count": 22,
   "metadata": {},
   "outputs": [],
   "source": [
    "bigModel_2 = lgb.LGBMClassifier(class_weight=\"balanced\",**arguments)\n",
    "bigModel_2.fit(X_train, y_train)\n"
   ]
  },
  {
   "cell_type": "code",
   "execution_count": 389,
   "metadata": {},
   "outputs": [
    {
     "data": {
      "text/plain": [
       "(160691, 674)"
      ]
     },
     "execution_count": 389,
     "metadata": {},
     "output_type": "execute_result"
    }
   ],
   "source": [
    "X_train.shape"
   ]
  },
  {
   "cell_type": "code",
   "execution_count": 14,
   "metadata": {},
   "outputs": [
    {
     "data": {
      "text/plain": [
       "(40173,)"
      ]
     },
     "execution_count": 14,
     "metadata": {},
     "output_type": "execute_result"
    }
   ],
   "source": [
    "y_pred.shape"
   ]
  },
  {
   "cell_type": "code",
   "execution_count": 342,
   "metadata": {},
   "outputs": [
    {
     "name": "stdout",
     "output_type": "stream",
     "text": [
      "Precision: 0.943662\n",
      "Recall: 0.683673\n",
      "F1 Score: 0.7929\n"
     ]
    }
   ],
   "source": [
    "y_pred = (y_pred_proba >= 0.003).astype(int) \n",
    "precision = precision_score(y_test, y_pred)\n",
    "recall = recall_score(y_test, y_pred)\n",
    "f1 = f1_score(y_test, y_pred)\n",
    "\n",
    "print(f\"Precision: {precision:.6f}\")\n",
    "print(f\"Recall: {recall:.6f}\")\n",
    "print(f\"F1 Score: {f1:.4f}\")"
   ]
  },
  {
   "cell_type": "code",
   "execution_count": 446,
   "metadata": {},
   "outputs": [
    {
     "name": "stdout",
     "output_type": "stream",
     "text": [
      "Precision: 0.943299\n",
      "Recall: 0.622449\n",
      "F1 Score: 0.7500\n"
     ]
    }
   ],
   "source": [
    "y_pred = (y_pred_proba >= 0.25).astype(int) \n",
    "precision = precision_score(y_test, y_pred)\n",
    "recall = recall_score(y_test, y_pred)\n",
    "f1 = f1_score(y_test, y_pred)\n",
    "\n",
    "print(f\"Precision: {precision:.6f}\")\n",
    "print(f\"Recall: {recall:.6f}\")\n",
    "print(f\"F1 Score: {f1:.4f}\")"
   ]
  },
  {
   "cell_type": "code",
   "execution_count": 514,
   "metadata": {},
   "outputs": [
    {
     "name": "stdout",
     "output_type": "stream",
     "text": [
      "Precision: 0.722397\n",
      "Recall: 0.778912\n",
      "F1 Score: 0.7496\n"
     ]
    }
   ],
   "source": [
    "# including outlier index\n",
    "y_pred = (y_pred_proba >= 0.0001).astype(int) \n",
    "precision = precision_score(y_test, y_pred)\n",
    "recall = recall_score(y_test, y_pred)\n",
    "f1 = f1_score(y_test, y_pred)\n",
    "\n",
    "print(f\"Precision: {precision:.6f}\")\n",
    "print(f\"Recall: {recall:.6f}\")\n",
    "print(f\"F1 Score: {f1:.4f}\")"
   ]
  },
  {
   "cell_type": "markdown",
   "metadata": {},
   "source": [
    "## Feature importance"
   ]
  },
  {
   "cell_type": "code",
   "execution_count": 49,
   "metadata": {},
   "outputs": [],
   "source": [
    "X_train.columns = X_train.columns.astype(str)\n",
    "X_test.columns =X_test.columns.astype(str)\n",
    "\n",
    "# Rename duplicate columns by adding a suffix (_1, _2, etc.)\n",
    "X_train.columns = pd.Series(X_train.columns).astype(str) + \"_\" + pd.Series(X_train.columns).groupby(X_train.columns).cumcount().astype(str)\n",
    "X_test.columns = pd.Series(X_test.columns).astype(str) + \"_\" + pd.Series(X_test.columns).groupby(X_test.columns).cumcount().astype(str)\n"
   ]
  },
  {
   "cell_type": "code",
   "execution_count": 343,
   "metadata": {},
   "outputs": [],
   "source": [
    "feature_importance = pd.DataFrame({\"feature\": X_train.columns, \"importance\": bigModel.feature_importances_})\n",
    "feature_importance = feature_importance.sort_values(by=\"importance\", ascending=False)\n",
    "\n",
    "# Keep only top 200 most important features\n",
    "top_features = feature_importance.head(80)[\"feature\"].tolist()"
   ]
  },
  {
   "cell_type": "code",
   "execution_count": 324,
   "metadata": {
    "scrolled": true
   },
   "outputs": [
    {
     "data": {
      "text/plain": [
       "['ji_384',\n",
       " 'shang_664',\n",
       " 'ji_408',\n",
       " 'shang_649',\n",
       " 'shang_660',\n",
       " 'shang_669',\n",
       " 'shang_646',\n",
       " 'ji_375',\n",
       " 'ji_396',\n",
       " 'ji_371',\n",
       " 'shang_624',\n",
       " 'ji',\n",
       " 'shang_639',\n",
       " 'shang_643',\n",
       " 'shang_670',\n",
       " 'ji_360',\n",
       " 'shang_668',\n",
       " 'shang_637',\n",
       " 'shang_650',\n",
       " 'ji_351',\n",
       " 'shang_662',\n",
       " 'shang_659',\n",
       " 'shang_652',\n",
       " 'shang_647',\n",
       " 'ge_590',\n",
       " 'shang_644',\n",
       " 'shang_625',\n",
       " 'shang_640',\n",
       " 'shang_667',\n",
       " 'ji_391',\n",
       " 'shang_642',\n",
       " 'shang_634',\n",
       " 'ge_591',\n",
       " 'shang_653',\n",
       " 'shang_663',\n",
       " 'shang_651',\n",
       " 'ge_589',\n",
       " 'shang_666',\n",
       " 'shang_655',\n",
       " 'shang_641',\n",
       " 'shang_631',\n",
       " 'ji_389',\n",
       " 'ji_380',\n",
       " 'shang_630',\n",
       " 'ji_395',\n",
       " 'ji_392',\n",
       " 'shang_665',\n",
       " 'shang_648',\n",
       " 'shang_654',\n",
       " 'ji_377',\n",
       " 'shang_617',\n",
       " 'ji_369',\n",
       " 'shang_656',\n",
       " 'ji_368',\n",
       " 'shang',\n",
       " 'ji_358',\n",
       " 'ji_372',\n",
       " 'shang_657',\n",
       " 'shang_658',\n",
       " 'ji_374',\n",
       " 'outlier_count',\n",
       " 'ji_376',\n",
       " 'shang_638',\n",
       " 'shang_620',\n",
       " 'guan_177',\n",
       " 'shang_618',\n",
       " 'shang_635',\n",
       " 'ji_398',\n",
       " 'ji_388',\n",
       " 'shang_627',\n",
       " 'ji_385',\n",
       " 'shang_645',\n",
       " 'ji_383',\n",
       " 'shang_621',\n",
       " 'shang_661',\n",
       " 'ji_409',\n",
       " 'shang_623',\n",
       " 'ji_428',\n",
       " 'zhu_125',\n",
       " 'ji_353']"
      ]
     },
     "execution_count": 324,
     "metadata": {},
     "output_type": "execute_result"
    }
   ],
   "source": [
    "top_features"
   ]
  },
  {
   "cell_type": "code",
   "execution_count": 327,
   "metadata": {},
   "outputs": [
    {
     "data": {
      "text/html": [
       "<div>\n",
       "<style scoped>\n",
       "    .dataframe tbody tr th:only-of-type {\n",
       "        vertical-align: middle;\n",
       "    }\n",
       "\n",
       "    .dataframe tbody tr th {\n",
       "        vertical-align: top;\n",
       "    }\n",
       "\n",
       "    .dataframe thead th {\n",
       "        text-align: right;\n",
       "    }\n",
       "</style>\n",
       "<table border=\"1\" class=\"dataframe\">\n",
       "  <thead>\n",
       "    <tr style=\"text-align: right;\">\n",
       "      <th></th>\n",
       "      <th>feature</th>\n",
       "      <th>importance</th>\n",
       "    </tr>\n",
       "  </thead>\n",
       "  <tbody>\n",
       "    <tr>\n",
       "      <th>671</th>\n",
       "      <td>outlier_count</td>\n",
       "      <td>537</td>\n",
       "    </tr>\n",
       "  </tbody>\n",
       "</table>\n",
       "</div>"
      ],
      "text/plain": [
       "           feature  importance\n",
       "671  outlier_count         537"
      ]
     },
     "execution_count": 327,
     "metadata": {},
     "output_type": "execute_result"
    }
   ],
   "source": [
    "feature_importance[feature_importance['feature']==\"outlier_count\"]"
   ]
  },
  {
   "cell_type": "code",
   "execution_count": 344,
   "metadata": {},
   "outputs": [],
   "source": [
    "X_train_trimmed = X_train[top_features]\n",
    "X_test_trimmed = X_test[top_features]"
   ]
  },
  {
   "cell_type": "code",
   "execution_count": 329,
   "metadata": {},
   "outputs": [
    {
     "data": {
      "text/plain": [
       "Index(['wai', 'wai_1', 'wai_2', 'wai_3', 'wai_4', 'wai_5', 'wai_6', 'wai_7',\n",
       "       'wai_8', 'wai_9',\n",
       "       ...\n",
       "       'shang_664', 'shang_665', 'shang_666', 'shang_667', 'shang_668',\n",
       "       'shang_669', 'shang_670', 'outlier_count', 'is_outlier',\n",
       "       'outlier_count_scaled'],\n",
       "      dtype='object', length=674)"
      ]
     },
     "execution_count": 329,
     "metadata": {},
     "output_type": "execute_result"
    }
   ],
   "source": [
    "X_train.columns"
   ]
  },
  {
   "cell_type": "code",
   "execution_count": 330,
   "metadata": {},
   "outputs": [
    {
     "data": {
      "text/plain": [
       "(160691, 80)"
      ]
     },
     "execution_count": 330,
     "metadata": {},
     "output_type": "execute_result"
    }
   ],
   "source": [
    "X_train_trimmed.shape"
   ]
  },
  {
   "cell_type": "markdown",
   "metadata": {},
   "source": [
    "### Rerun again"
   ]
  },
  {
   "cell_type": "code",
   "execution_count": 345,
   "metadata": {},
   "outputs": [
    {
     "data": {
      "text/plain": [
       "LGBMClassifier(colsample_bytree=0.9523986724033833,\n",
       "               learning_rate=0.04775679749328264, max_bin=111,\n",
       "               min_child_samples=30, n_estimators=14029, num_leaves=30,\n",
       "               subsample=0.9773059458207831, subsample_freq=1)"
      ]
     },
     "execution_count": 345,
     "metadata": {},
     "output_type": "execute_result"
    }
   ],
   "source": [
    "bigModel_trimmed = lgb.LGBMClassifier(**Best_Hyperparameters_2)\n",
    "bigModel_trimmed.fit(X_train_trimmed, y_train)"
   ]
  },
  {
   "cell_type": "code",
   "execution_count": 346,
   "metadata": {},
   "outputs": [],
   "source": [
    "y_pred_proba = bigModel_trimmed.predict_proba(X_test_trimmed)[:, 1]  # Get probability for class 1"
   ]
  },
  {
   "cell_type": "code",
   "execution_count": 436,
   "metadata": {},
   "outputs": [],
   "source": [
    "# Step 6: Predict and Evaluate Accuracy\n",
    "\n",
    "y_pred2 = (y_pred_proba >= 0.001).astype(int)  # Convert probabilities to 0/1"
   ]
  },
  {
   "cell_type": "code",
   "execution_count": 437,
   "metadata": {},
   "outputs": [
    {
     "name": "stdout",
     "output_type": "stream",
     "text": [
      "Precision: 0.884462\n",
      "Recall: 0.755102\n",
      "F1 Score: 0.8147\n"
     ]
    }
   ],
   "source": [
    "precision = precision_score(y_test, y_pred2)\n",
    "recall = recall_score(y_test, y_pred2)\n",
    "f1 = f1_score(y_test, y_pred2)\n",
    "\n",
    "print(f\"Precision: {precision:.6f}\")\n",
    "print(f\"Recall: {recall:.6f}\")\n",
    "print(f\"F1 Score: {f1:.4f}\")"
   ]
  },
  {
   "cell_type": "code",
   "execution_count": 119,
   "metadata": {},
   "outputs": [
    {
     "name": "stdout",
     "output_type": "stream",
     "text": [
      "Precision: 0.944954\n",
      "Recall: 0.700680\n",
      "F1 Score: 0.8047\n"
     ]
    }
   ],
   "source": [
    "precision = precision_score(y_test, y_pred2)\n",
    "recall = recall_score(y_test, y_pred2)\n",
    "f1 = f1_score(y_test, y_pred2)\n",
    "\n",
    "print(f\"Precision: {precision:.6f}\")\n",
    "print(f\"Recall: {recall:.6f}\")\n",
    "print(f\"F1 Score: {f1:.4f}\")"
   ]
  },
  {
   "cell_type": "code",
   "execution_count": 169,
   "metadata": {},
   "outputs": [
    {
     "data": {
      "text/plain": [
       "array([0, 0, 0, ..., 0, 0, 0])"
      ]
     },
     "execution_count": 169,
     "metadata": {},
     "output_type": "execute_result"
    }
   ],
   "source": [
    "y_pred2"
   ]
  },
  {
   "cell_type": "code",
   "execution_count": 376,
   "metadata": {},
   "outputs": [
    {
     "name": "stderr",
     "output_type": "stream",
     "text": [
      "C:\\Users\\Andy\\Anaconda3\\lib\\site-packages\\sklearn\\metrics\\_classification.py:1318: UndefinedMetricWarning: Precision is ill-defined and being set to 0.0 due to no predicted samples. Use `zero_division` parameter to control this behavior.\n",
      "  _warn_prf(average, modifier, msg_start, len(result))\n"
     ]
    },
    {
     "data": {
      "image/png": "[encoded data removed]",
      "text/plain": [
       "<Figure size 576x432 with 1 Axes>"
      ]
     },
     "metadata": {
      "needs_background": "light"
     },
     "output_type": "display_data"
    },
    {
     "name": "stdout",
     "output_type": "stream",
     "text": [
      "Best Threshold (X) for max F1: 0.001, F1 Score: 0.8147\n"
     ]
    }
   ],
   "source": [
    "import numpy as np\n",
    "import matplotlib.pyplot as plt\n",
    "from sklearn.metrics import precision_score, recall_score, f1_score\n",
    "\n",
    "# Define the range of threshold values\n",
    "thresholds = np.linspace(0, 1, 1000)  # 100 values between 0 and 1\n",
    "\n",
    "# Store precision, recall, and F1 scores for each threshold\n",
    "precision_scores = []\n",
    "recall_scores = []\n",
    "f1_scores = []\n",
    "\n",
    "# Compute metrics for each threshold\n",
    "for X in thresholds:\n",
    "    y_pred2 = (y_pred_proba >= X).astype(int)\n",
    "    precision = precision_score(y_test, y_pred2)\n",
    "    recall = recall_score(y_test, y_pred2)\n",
    "    f1 = f1_score(y_test, y_pred2)\n",
    "    \n",
    "    precision_scores.append(precision)\n",
    "    recall_scores.append(recall)\n",
    "    f1_scores.append(f1)\n",
    "\n",
    "# Plot results\n",
    "plt.figure(figsize=(8, 6))\n",
    "plt.plot(thresholds, precision_scores, label=\"Precision\", linestyle=\"--\")\n",
    "plt.plot(thresholds, recall_scores, label=\"Recall\", linestyle=\"-.\")\n",
    "plt.plot(thresholds, f1_scores, label=\"F1 Score\", linewidth=2)\n",
    "plt.xlabel(\"Threshold (X)\")\n",
    "plt.ylabel(\"Score\")\n",
    "plt.title(\"Threshold vs. Precision, Recall, and F1 Score\")\n",
    "plt.legend()\n",
    "plt.grid()\n",
    "\n",
    "# Find the threshold that gives the maximum F1 score\n",
    "best_threshold = thresholds[np.argmax(f1_scores)]\n",
    "best_f1 = max(f1_scores)\n",
    "\n",
    "plt.axvline(best_threshold, color=\"red\", linestyle=\":\", label=f\"Best X={best_threshold:.3f}\")\n",
    "plt.legend()\n",
    "\n",
    "# Show the plot\n",
    "plt.show()\n",
    "\n",
    "# Print the best threshold and corresponding F1 score\n",
    "print(f\"Best Threshold (X) for max F1: {best_threshold:.3f}, F1 Score: {best_f1:.4f}\")\n"
   ]
  },
  {
   "cell_type": "code",
   "execution_count": null,
   "metadata": {},
   "outputs": [],
   "source": []
  },
  {
   "cell_type": "markdown",
   "metadata": {},
   "source": [
    "## NN models"
   ]
  },
  {
   "cell_type": "code",
   "execution_count": 459,
   "metadata": {},
   "outputs": [
    {
     "data": {
      "text/plain": [
       "(160691, 674)"
      ]
     },
     "execution_count": 459,
     "metadata": {},
     "output_type": "execute_result"
    }
   ],
   "source": [
    "X_train.shape"
   ]
  },
  {
   "cell_type": "code",
   "execution_count": null,
   "metadata": {},
   "outputs": [],
   "source": []
  },
  {
   "cell_type": "code",
   "execution_count": 460,
   "metadata": {},
   "outputs": [],
   "source": [
    "# Define time steps (how many sequential columns make one sequence)\n",
    "time_steps = 4  # Adjust this based on how much sequence dependency you want to capture\n",
    "\n",
    "# Reshape X_train\n",
    "num_samples = X_train_trimmed.shape[0]\n",
    "num_features = X_train_trimmed.shape[1] // time_steps  # Assuming all features form a sequence\n",
    "\n",
    "# Ensure data reshapes correctly\n",
    "if X_train_trimmed.shape[1] % time_steps != 0:\n",
    "    print(\"⚠️ Warning: Features do not perfectly divide into time steps!\")\n",
    "\n",
    "X_train_rnn = X_train_trimmed.values.reshape(num_samples, time_steps, num_features)\n",
    "X_test_rnn = X_test_trimmed.values.reshape(X_test.shape[0], time_steps, num_features)"
   ]
  },
  {
   "cell_type": "code",
   "execution_count": 515,
   "metadata": {},
   "outputs": [],
   "source": [
    "import tensorflow as tf\n",
    "from tensorflow import keras\n",
    "from tensorflow.keras.models import Sequential\n",
    "from tensorflow.keras.layers import LSTM, Dense, Dropout\n",
    "\n",
    "# Build RNN Model\n",
    "rnn_model = Sequential([\n",
    "    LSTM(64, return_sequences=True, input_shape=(time_steps, num_features)),  # First LSTM layer\n",
    "    Dropout(0.2),\n",
    "    LSTM(32, return_sequences=False),  # Second LSTM layer\n",
    "    Dropout(0.2),\n",
    "    Dense(64, activation='relu'),\n",
    "    Dropout(0.2),\n",
    "    Dense(16, activation='relu'),\n",
    "    Dense(1, activation='sigmoid')  # Binary classification output (0 or 1)\n",
    "])\n",
    "\n",
    "# Compile the model\n",
    "rnn_model.compile(optimizer='adam', loss='binary_crossentropy', metrics=['accuracy'])\n"
   ]
  },
  {
   "cell_type": "code",
   "execution_count": 516,
   "metadata": {},
   "outputs": [],
   "source": [
    "X_train_rnn = np.nan_to_num(X_train_rnn)  \n",
    "X_test_rnn = np.nan_to_num(X_test_rnn)# Replace NaNs with 0\n",
    "y_train = np.nan_to_num(y_train) "
   ]
  },
  {
   "cell_type": "code",
   "execution_count": 517,
   "metadata": {},
   "outputs": [],
   "source": [
    "from tensorflow.keras.optimizers import Adam\n",
    "optimizer = Adam(learning_rate=0.001, clipvalue=1.0)  # or clipnorm=1.0\n",
    "rnn_model.compile(optimizer=optimizer, loss='binary_crossentropy', metrics=['accuracy'])"
   ]
  },
  {
   "cell_type": "code",
   "execution_count": 518,
   "metadata": {},
   "outputs": [
    {
     "name": "stdout",
     "output_type": "stream",
     "text": [
      "Epoch 1/50\n",
      "5022/5022 [==============================] - 24s 4ms/step - loss: 0.0316 - accuracy: 0.9927 - val_loss: 0.0252 - val_accuracy: 0.9927\n",
      "Epoch 2/50\n",
      "5022/5022 [==============================] - 22s 4ms/step - loss: 0.0265 - accuracy: 0.9927 - val_loss: 0.0248 - val_accuracy: 0.9927\n",
      "Epoch 3/50\n",
      "5022/5022 [==============================] - 22s 4ms/step - loss: 0.0254 - accuracy: 0.9927 - val_loss: 0.0238 - val_accuracy: 0.9927\n",
      "Epoch 4/50\n",
      "5022/5022 [==============================] - 22s 4ms/step - loss: 0.0242 - accuracy: 0.9927 - val_loss: 0.0230 - val_accuracy: 0.9928\n",
      "Epoch 5/50\n",
      "5022/5022 [==============================] - 21s 4ms/step - loss: 0.0234 - accuracy: 0.9928 - val_loss: 0.0225 - val_accuracy: 0.9926\n",
      "Epoch 6/50\n",
      "5022/5022 [==============================] - 22s 4ms/step - loss: 0.0223 - accuracy: 0.9929 - val_loss: 0.0228 - val_accuracy: 0.9931\n",
      "Epoch 7/50\n",
      "5022/5022 [==============================] - 22s 4ms/step - loss: 0.0210 - accuracy: 0.9932 - val_loss: 0.0246 - val_accuracy: 0.9920\n",
      "Epoch 8/50\n",
      "5022/5022 [==============================] - 21s 4ms/step - loss: 0.0197 - accuracy: 0.9936 - val_loss: 0.0201 - val_accuracy: 0.9937\n",
      "Epoch 9/50\n",
      "5022/5022 [==============================] - 22s 4ms/step - loss: 0.0187 - accuracy: 0.9940 - val_loss: 0.0196 - val_accuracy: 0.9938\n",
      "Epoch 10/50\n",
      "5022/5022 [==============================] - 22s 4ms/step - loss: 0.0178 - accuracy: 0.9943 - val_loss: 0.0196 - val_accuracy: 0.9938\n",
      "Epoch 11/50\n",
      "5022/5022 [==============================] - 24s 5ms/step - loss: 0.0167 - accuracy: 0.9949 - val_loss: 0.0188 - val_accuracy: 0.9944\n",
      "Epoch 12/50\n",
      "5022/5022 [==============================] - 22s 4ms/step - loss: 0.0160 - accuracy: 0.9950 - val_loss: 0.0200 - val_accuracy: 0.9935\n",
      "Epoch 13/50\n",
      "5022/5022 [==============================] - 22s 4ms/step - loss: 0.0151 - accuracy: 0.9954 - val_loss: 0.0189 - val_accuracy: 0.9943\n",
      "Epoch 14/50\n",
      "5022/5022 [==============================] - 22s 4ms/step - loss: 0.0146 - accuracy: 0.9954 - val_loss: 0.0178 - val_accuracy: 0.9948\n",
      "Epoch 15/50\n",
      "5022/5022 [==============================] - 22s 4ms/step - loss: 0.0136 - accuracy: 0.9959 - val_loss: 0.0173 - val_accuracy: 0.9950\n",
      "Epoch 16/50\n",
      "5022/5022 [==============================] - 22s 4ms/step - loss: 0.0131 - accuracy: 0.9961 - val_loss: 0.0178 - val_accuracy: 0.9949\n",
      "Epoch 17/50\n",
      "5022/5022 [==============================] - 23s 5ms/step - loss: 0.0124 - accuracy: 0.9961 - val_loss: 0.0216 - val_accuracy: 0.9950\n",
      "Epoch 18/50\n",
      "5022/5022 [==============================] - 23s 5ms/step - loss: 0.0121 - accuracy: 0.9962 - val_loss: 0.0176 - val_accuracy: 0.9953\n",
      "Epoch 19/50\n",
      "5022/5022 [==============================] - 23s 5ms/step - loss: 0.0114 - accuracy: 0.9965 - val_loss: 0.0207 - val_accuracy: 0.9954\n",
      "Epoch 20/50\n",
      "5022/5022 [==============================] - 23s 5ms/step - loss: 0.0106 - accuracy: 0.9967 - val_loss: 0.0204 - val_accuracy: 0.9939\n",
      "Epoch 21/50\n",
      "5022/5022 [==============================] - 23s 5ms/step - loss: 0.0104 - accuracy: 0.9969 - val_loss: 0.0195 - val_accuracy: 0.9952\n",
      "Epoch 22/50\n",
      "5022/5022 [==============================] - 24s 5ms/step - loss: 0.0103 - accuracy: 0.9967 - val_loss: 0.0167 - val_accuracy: 0.9957\n",
      "Epoch 23/50\n",
      "5022/5022 [==============================] - 25s 5ms/step - loss: 0.0093 - accuracy: 0.9970 - val_loss: 0.0204 - val_accuracy: 0.9960\n",
      "Epoch 24/50\n",
      "5022/5022 [==============================] - 23s 5ms/step - loss: 0.0093 - accuracy: 0.9971 - val_loss: 0.0191 - val_accuracy: 0.9957\n",
      "Epoch 25/50\n",
      "5022/5022 [==============================] - 24s 5ms/step - loss: 0.0090 - accuracy: 0.9971 - val_loss: 0.0167 - val_accuracy: 0.9956\n",
      "Epoch 26/50\n",
      "5022/5022 [==============================] - 24s 5ms/step - loss: 0.0086 - accuracy: 0.9972 - val_loss: 0.0180 - val_accuracy: 0.9958\n",
      "Epoch 27/50\n",
      "5022/5022 [==============================] - 25s 5ms/step - loss: 0.0084 - accuracy: 0.9973 - val_loss: 0.0180 - val_accuracy: 0.9955\n",
      "Epoch 28/50\n",
      "5022/5022 [==============================] - 24s 5ms/step - loss: 0.0081 - accuracy: 0.9973 - val_loss: 0.0207 - val_accuracy: 0.9954\n",
      "Epoch 29/50\n",
      "5022/5022 [==============================] - 24s 5ms/step - loss: 0.0078 - accuracy: 0.9975 - val_loss: 0.0194 - val_accuracy: 0.9959\n",
      "Epoch 30/50\n",
      "5022/5022 [==============================] - 24s 5ms/step - loss: 0.0074 - accuracy: 0.9976 - val_loss: 0.0206 - val_accuracy: 0.9957\n",
      "Epoch 31/50\n",
      "5022/5022 [==============================] - 24s 5ms/step - loss: 0.0070 - accuracy: 0.9976 - val_loss: 0.0219 - val_accuracy: 0.9956\n",
      "Epoch 32/50\n",
      "5022/5022 [==============================] - 24s 5ms/step - loss: 0.0068 - accuracy: 0.9977 - val_loss: 0.0178 - val_accuracy: 0.9961\n",
      "Epoch 33/50\n",
      "5022/5022 [==============================] - 25s 5ms/step - loss: 0.0070 - accuracy: 0.9976 - val_loss: 0.0203 - val_accuracy: 0.9960\n",
      "Epoch 34/50\n",
      "5022/5022 [==============================] - 26s 5ms/step - loss: 0.0064 - accuracy: 0.9979 - val_loss: 0.0194 - val_accuracy: 0.9955\n",
      "Epoch 35/50\n",
      "5022/5022 [==============================] - 24s 5ms/step - loss: 0.0064 - accuracy: 0.9978 - val_loss: 0.0185 - val_accuracy: 0.9950\n",
      "Epoch 36/50\n",
      "5022/5022 [==============================] - 24s 5ms/step - loss: 0.0058 - accuracy: 0.9979 - val_loss: 0.0252 - val_accuracy: 0.9958\n",
      "Epoch 37/50\n",
      "5022/5022 [==============================] - 25s 5ms/step - loss: 0.0061 - accuracy: 0.9979 - val_loss: 0.0203 - val_accuracy: 0.9960\n",
      "Epoch 38/50\n",
      "5022/5022 [==============================] - 25s 5ms/step - loss: 0.0060 - accuracy: 0.9979 - val_loss: 0.0240 - val_accuracy: 0.9962\n",
      "Epoch 39/50\n",
      "5022/5022 [==============================] - 24s 5ms/step - loss: 0.0055 - accuracy: 0.9980 - val_loss: 0.0202 - val_accuracy: 0.9957\n",
      "Epoch 40/50\n",
      "5022/5022 [==============================] - 25s 5ms/step - loss: 0.0054 - accuracy: 0.9982 - val_loss: 0.0194 - val_accuracy: 0.9959\n",
      "Epoch 41/50\n",
      "5022/5022 [==============================] - 24s 5ms/step - loss: 0.0052 - accuracy: 0.9982 - val_loss: 0.0202 - val_accuracy: 0.9960\n",
      "Epoch 42/50\n",
      "5022/5022 [==============================] - 24s 5ms/step - loss: 0.0051 - accuracy: 0.9981 - val_loss: 0.0247 - val_accuracy: 0.9957\n",
      "Epoch 43/50\n",
      "5022/5022 [==============================] - 25s 5ms/step - loss: 0.0050 - accuracy: 0.9981 - val_loss: 0.0236 - val_accuracy: 0.9962\n",
      "Epoch 44/50\n",
      "5022/5022 [==============================] - 24s 5ms/step - loss: 0.0048 - accuracy: 0.9984 - val_loss: 0.0263 - val_accuracy: 0.9961\n",
      "Epoch 45/50\n",
      "5022/5022 [==============================] - 25s 5ms/step - loss: 0.0046 - accuracy: 0.9984 - val_loss: 0.0250 - val_accuracy: 0.9962\n",
      "Epoch 46/50\n",
      "5022/5022 [==============================] - 25s 5ms/step - loss: 0.0043 - accuracy: 0.9984 - val_loss: 0.0227 - val_accuracy: 0.9957\n",
      "Epoch 47/50\n",
      "5022/5022 [==============================] - 24s 5ms/step - loss: 0.0049 - accuracy: 0.9983 - val_loss: 0.0210 - val_accuracy: 0.9961\n",
      "Epoch 48/50\n",
      "5022/5022 [==============================] - 24s 5ms/step - loss: 0.0045 - accuracy: 0.9986 - val_loss: 0.0230 - val_accuracy: 0.9958\n",
      "Epoch 49/50\n",
      "5022/5022 [==============================] - 24s 5ms/step - loss: 0.0047 - accuracy: 0.9984 - val_loss: 0.0242 - val_accuracy: 0.9960\n",
      "Epoch 50/50\n",
      "5022/5022 [==============================] - 24s 5ms/step - loss: 0.0043 - accuracy: 0.9985 - val_loss: 0.0239 - val_accuracy: 0.9946\n"
     ]
    },
    {
     "data": {
      "text/plain": [
       "<keras.callbacks.History at 0x1970d801a20>"
      ]
     },
     "execution_count": 518,
     "metadata": {},
     "output_type": "execute_result"
    }
   ],
   "source": [
    "# Train the RNN model\n",
    "rnn_model.fit(X_train_rnn, y_train, epochs=50, batch_size=32, validation_data=(X_test_rnn, y_test))\n"
   ]
  },
  {
   "cell_type": "code",
   "execution_count": 519,
   "metadata": {},
   "outputs": [],
   "source": [
    "# Predict probabilities\n",
    "y_pred_proba_rnn = rnn_model.predict(X_test_rnn)"
   ]
  },
  {
   "cell_type": "code",
   "execution_count": 482,
   "metadata": {},
   "outputs": [],
   "source": [
    "y_pred_proba_rnn = np.ravel(y_pred_proba_rnn)\n",
    "y_pred_proba = np.ravel(y_pred_proba)"
   ]
  },
  {
   "cell_type": "code",
   "execution_count": 520,
   "metadata": {},
   "outputs": [],
   "source": [
    "# Convert probabilities to binary values (adjust threshold if needed)\n",
    "y_pred = (y_pred_proba_rnn >= 0.3).astype(int)"
   ]
  },
  {
   "cell_type": "code",
   "execution_count": 521,
   "metadata": {},
   "outputs": [
    {
     "name": "stdout",
     "output_type": "stream",
     "text": [
      "Precision: 0.5784\n",
      "Recall: 0.6020\n",
      "F1 Score: 0.5900\n"
     ]
    }
   ],
   "source": [
    "\n",
    "# Evaluate Performance\n",
    "f1 = f1_score(y_test, y_pred)\n",
    "precision = precision_score(y_test, y_pred)\n",
    "recall = recall_score(y_test, y_pred)\n",
    "\n",
    "\n",
    "print(f\"Precision: {precision:.4f}\")\n",
    "print(f\"Recall: {recall:.4f}\")\n",
    "print(f\"F1 Score: {f1:.4f}\")"
   ]
  },
  {
   "cell_type": "code",
   "execution_count": null,
   "metadata": {},
   "outputs": [],
   "source": []
  },
  {
   "cell_type": "markdown",
   "metadata": {},
   "source": [
    "## need to make precision and recall same to get high f1"
   ]
  },
  {
   "cell_type": "code",
   "execution_count": 66,
   "metadata": {},
   "outputs": [],
   "source": [
    "y_pred_adj = (y_pred_proba >= 0.29).astype(int)"
   ]
  },
  {
   "cell_type": "code",
   "execution_count": 67,
   "metadata": {},
   "outputs": [
    {
     "name": "stdout",
     "output_type": "stream",
     "text": [
      "Precision: 0.809524\n",
      "Recall: 0.636054\n",
      "F1 Score: 0.7124\n"
     ]
    }
   ],
   "source": [
    "precision = precision_score(y_test, y_pred_adj)\n",
    "recall = recall_score(y_test, y_pred_adj)\n",
    "f1 = f1_score(y_test, y_pred_adj)\n",
    "\n",
    "print(f\"Precision: {precision:.6f}\")\n",
    "print(f\"Recall: {recall:.6f}\")\n",
    "print(f\"F1 Score: {f1:.4f}\")"
   ]
  },
  {
   "cell_type": "code",
   "execution_count": 13,
   "metadata": {},
   "outputs": [
    {
     "name": "stdout",
     "output_type": "stream",
     "text": [
      "Precision: 0.760163\n",
      "Recall: 0.636054\n",
      "F1 Score: 0.6926\n"
     ]
    }
   ],
   "source": [
    "precision = precision_score(y_test, y_pred_adj)\n",
    "recall = recall_score(y_test, y_pred_adj)\n",
    "f1 = f1_score(y_test, y_pred_adj)\n",
    "\n",
    "print(f\"Precision: {precision:.6f}\")\n",
    "print(f\"Recall: {recall:.6f}\")\n",
    "print(f\"F1 Score: {f1:.4f}\")"
   ]
  },
  {
   "cell_type": "code",
   "execution_count": 59,
   "metadata": {},
   "outputs": [
    {
     "name": "stdout",
     "output_type": "stream",
     "text": [
      "\n",
      "🔹 Prediction Counts:\n",
      "{0: 39914, 1: 259}\n"
     ]
    }
   ],
   "source": [
    "# Count occurrences of 0s and 1s\n",
    "unique, counts = np.unique(y_pred_adj, return_counts=True)\n",
    "print(\"\\n🔹 Prediction Counts:\")\n",
    "print(dict(zip(unique, counts)))"
   ]
  },
  {
   "cell_type": "code",
   "execution_count": 60,
   "metadata": {},
   "outputs": [
    {
     "data": {
      "text/plain": [
       "154.1081081081081"
      ]
     },
     "execution_count": 60,
     "metadata": {},
     "output_type": "execute_result"
    }
   ],
   "source": [
    "39914/259"
   ]
  },
  {
   "cell_type": "markdown",
   "metadata": {},
   "source": [
    "## Run on testing dataset"
   ]
  },
  {
   "cell_type": "code",
   "execution_count": 417,
   "metadata": {},
   "outputs": [],
   "source": [
    "test_df = pd.read_csv(\"Testing/merged_cleaned_test.csv\")"
   ]
  },
  {
   "cell_type": "code",
   "execution_count": 418,
   "metadata": {},
   "outputs": [],
   "source": [
    "test_df_ID = test_df[\"ID\"]"
   ]
  },
  {
   "cell_type": "code",
   "execution_count": 419,
   "metadata": {},
   "outputs": [
    {
     "data": {
      "text/plain": [
       "(25108, 672)"
      ]
     },
     "execution_count": 419,
     "metadata": {},
     "output_type": "execute_result"
    }
   ],
   "source": [
    "test_df.shape"
   ]
  },
  {
   "cell_type": "code",
   "execution_count": 420,
   "metadata": {},
   "outputs": [],
   "source": [
    "test_df = test_df.drop(columns=[\"ID\"], errors=\"ignore\")"
   ]
  },
  {
   "cell_type": "code",
   "execution_count": 421,
   "metadata": {},
   "outputs": [],
   "source": [
    "test_df.columns = [lazy_pinyin(col)[0] for col in test_df.columns]"
   ]
  },
  {
   "cell_type": "code",
   "execution_count": 416,
   "metadata": {},
   "outputs": [
    {
     "data": {
      "text/plain": [
       "Index(['wai_0', 'wai_1', 'wai_2', 'wai_3', 'wai_4', 'wai_5', 'wai_6', 'wai_7',\n",
       "       'wai_8', 'wai_9',\n",
       "       ...\n",
       "       'shang_45', 'shang_46', 'shang_47', 'shang_48', 'shang_49', 'shang_50',\n",
       "       'shang_51', 'shang_52', 'shang_53', 'shang_54'],\n",
       "      dtype='object', length=671)"
      ]
     },
     "execution_count": 416,
     "metadata": {},
     "output_type": "execute_result"
    }
   ],
   "source": [
    "test_df.columns[]"
   ]
  },
  {
   "cell_type": "code",
   "execution_count": 422,
   "metadata": {},
   "outputs": [],
   "source": [
    "test_df.columns = [f\"{col}_{i}\" if test_df.columns.duplicated()[i] else col for i, col in enumerate(test_df.columns)]"
   ]
  },
  {
   "cell_type": "code",
   "execution_count": 415,
   "metadata": {},
   "outputs": [],
   "source": [
    "#test_df.columns = test_df.columns.astype(str)\n",
    "# Rename duplicate columns by adding a suffix (_1, _2, etc.)\n",
    "#test_df.columns = pd.Series(test_df.columns).astype(str) + \"_\" + pd.Series(test_df.columns).groupby(test_df.columns).cumcount().astype(str)\n"
   ]
  },
  {
   "cell_type": "code",
   "execution_count": 423,
   "metadata": {},
   "outputs": [],
   "source": [
    "test_df = test_df.fillna(test_df.mean())"
   ]
  },
  {
   "cell_type": "code",
   "execution_count": 424,
   "metadata": {},
   "outputs": [],
   "source": [
    "# Calculate IQR for all numerical features\n",
    "Q1 = test_df.quantile(0.25)\n",
    "Q3 = test_df.quantile(0.75)\n",
    "IQR = Q3 - Q1\n",
    "\n",
    "# Define outliers: Any value outside 1.5 * IQR bounds\n",
    "outlier_mask = (test_df < (Q1 - 1.5 * IQR)) | (test_df > (Q3 + 1.5 * IQR))\n",
    "\n",
    "# Create an \"outlier count\" column (number of outlier features per row)\n",
    "test_df[\"outlier_count\"] = outlier_mask.sum(axis=1)\n",
    "\n",
    "# Optional: Convert to binary flag (1 if any outlier, 0 if none)\n",
    "test_df[\"is_outlier\"] = (test_df[\"outlier_count\"] > 0).astype(int)\n",
    "from sklearn.preprocessing import MinMaxScaler\n",
    "\n",
    "scaler = MinMaxScaler()\n",
    "test_df[\"outlier_count_scaled\"] = scaler.fit_transform(test_df[[\"outlier_count\"]])"
   ]
  },
  {
   "cell_type": "code",
   "execution_count": 425,
   "metadata": {},
   "outputs": [
    {
     "data": {
      "text/plain": [
       "(25108, 674)"
      ]
     },
     "execution_count": 425,
     "metadata": {},
     "output_type": "execute_result"
    }
   ],
   "source": [
    "test_df.shape"
   ]
  },
  {
   "cell_type": "code",
   "execution_count": 426,
   "metadata": {},
   "outputs": [
    {
     "data": {
      "text/plain": [
       "(40173, 80)"
      ]
     },
     "execution_count": 426,
     "metadata": {},
     "output_type": "execute_result"
    }
   ],
   "source": [
    "X_test_trimmed.shape"
   ]
  },
  {
   "cell_type": "code",
   "execution_count": null,
   "metadata": {},
   "outputs": [],
   "source": [
    "test_pred_proba = bigModel.predict_proba(test_df)[:, 1]"
   ]
  },
  {
   "cell_type": "markdown",
   "metadata": {},
   "source": [
    "### Trimmed result"
   ]
  },
  {
   "cell_type": "code",
   "execution_count": 427,
   "metadata": {},
   "outputs": [],
   "source": [
    "test_df_trimmed = test_df[top_features]"
   ]
  },
  {
   "cell_type": "code",
   "execution_count": 428,
   "metadata": {},
   "outputs": [
    {
     "data": {
      "text/plain": [
       "(25108, 80)"
      ]
     },
     "execution_count": 428,
     "metadata": {},
     "output_type": "execute_result"
    }
   ],
   "source": [
    "test_df_trimmed.shape"
   ]
  },
  {
   "cell_type": "code",
   "execution_count": 429,
   "metadata": {
    "scrolled": true
   },
   "outputs": [],
   "source": [
    "# Predict probabilities for class 1\n",
    "test_pred_proba_trimmed = bigModel_trimmed.predict_proba(test_df_trimmed)[:, 1]"
   ]
  },
  {
   "cell_type": "code",
   "execution_count": 430,
   "metadata": {},
   "outputs": [],
   "source": [
    "# Convert to binary predictions (0/1) using threshold 0.5\n",
    "test_pred_trimmed = (test_pred_proba_trimmed >= 0.001).astype(int)"
   ]
  },
  {
   "cell_type": "code",
   "execution_count": null,
   "metadata": {},
   "outputs": [],
   "source": []
  },
  {
   "cell_type": "markdown",
   "metadata": {},
   "source": [
    "### RNN"
   ]
  },
  {
   "cell_type": "code",
   "execution_count": 489,
   "metadata": {},
   "outputs": [],
   "source": [
    "test_df_trimmed_rnn = test_df_trimmed.values.reshape(test_df_trimmed.shape[0], time_steps, num_features)"
   ]
  },
  {
   "cell_type": "code",
   "execution_count": 490,
   "metadata": {},
   "outputs": [],
   "source": [
    "test_pred_proba_rnn = rnn_model.predict(test_df_trimmed_rnn)"
   ]
  },
  {
   "cell_type": "code",
   "execution_count": 496,
   "metadata": {},
   "outputs": [],
   "source": [
    "test_pred_proba_rnn = np.ravel(test_pred_proba_rnn)\n",
    "test_pred_proba = np.ravel(test_pred_proba_trimmed*1000)\n",
    "test_pred_proba_blend = (test_pred_proba_rnn + test_pred_proba) / 2"
   ]
  },
  {
   "cell_type": "code",
   "execution_count": 499,
   "metadata": {},
   "outputs": [],
   "source": [
    "test_pred_blend = (test_pred_proba_blend >= 0.3).astype(int)"
   ]
  },
  {
   "cell_type": "code",
   "execution_count": 146,
   "metadata": {
    "scrolled": true
   },
   "outputs": [],
   "source": [
    "submission_df = pd.DataFrame({\"ID\": test_df_ID, \"Predicted\": test_pred})\n"
   ]
  },
  {
   "cell_type": "code",
   "execution_count": 431,
   "metadata": {},
   "outputs": [],
   "source": [
    "submission_df_2 = pd.DataFrame({\"ID\": test_df_ID, \"Predicted\": test_pred_trimmed})\n"
   ]
  },
  {
   "cell_type": "code",
   "execution_count": 503,
   "metadata": {},
   "outputs": [],
   "source": [
    "submission_df_3 = pd.DataFrame({\"ID\": test_df_ID, \"Predicted\": test_pred_blend})\n"
   ]
  },
  {
   "cell_type": "code",
   "execution_count": 504,
   "metadata": {
    "scrolled": true
   },
   "outputs": [
    {
     "name": "stdout",
     "output_type": "stream",
     "text": [
      "             ID  Predicted_old  Predicted_new\n",
      "1644    PU-3394              0              1\n",
      "3163     PU-395              0              1\n",
      "3275    PU-4774              0              1\n",
      "3919    PU-5418              0              1\n",
      "4005    PU-5504              0              1\n",
      "4756    PU-6255              0              1\n",
      "7042    PU-8290              0              1\n",
      "7250    PU-8498              0              1\n",
      "8003    PU-9251              0              1\n",
      "9042   PU-10039              0              1\n",
      "9451   PU-10448              0              1\n",
      "10411  PU-11408              0              1\n",
      "10628  PU-11625              0              1\n",
      "10726  PU-11723              0              1\n",
      "11002  PU-11999              0              1\n",
      "12443  PU-13189              0              1\n",
      "12904  PU-13650              0              1\n",
      "13374  PU-14120              0              1\n",
      "14480  PU-14975              0              1\n",
      "15181  PU-15676              0              1\n",
      "16785  PU-17280              0              1\n",
      "16826   PU-1508              0              1\n",
      "17761  PU-18005              0              1\n",
      "17860  PU-18104              0              1\n",
      "18560  PU-18804              0              1\n",
      "19921  PU-19914              0              1\n",
      "20618  PU-20611              0              1\n",
      "21113  PU-21106              0              1\n",
      "22024  PU-22017              0              1\n",
      "22683  PU-22425              0              1\n",
      "23683  PU-23425              0              1\n",
      "24234  PU-23976              0              1\n",
      "24904  PU-24646              0              1\n"
     ]
    }
   ],
   "source": [
    "merged_df = submission_df_2.merge(submission_df_3, on='ID', suffixes=('_old', '_new'))\n",
    "\n",
    "# Find rows where Predicted changed\n",
    "changed = merged_df[merged_df['Predicted_old'] != merged_df['Predicted_new']]\n",
    "\n",
    "print(changed)"
   ]
  },
  {
   "cell_type": "code",
   "execution_count": 501,
   "metadata": {},
   "outputs": [
    {
     "name": "stdout",
     "output_type": "stream",
     "text": [
      "\n",
      "🔹 Prediction Counts:\n",
      "{0: 24931, 1: 177}\n"
     ]
    }
   ],
   "source": [
    "# Count occurrences of 0s and 1s\n",
    "unique, counts = np.unique(test_pred_blend, return_counts=True)\n",
    "print(\"\\n🔹 Prediction Counts:\")\n",
    "print(dict(zip(unique, counts)))"
   ]
  },
  {
   "cell_type": "code",
   "execution_count": 502,
   "metadata": {},
   "outputs": [
    {
     "data": {
      "text/plain": [
       "140.85310734463278"
      ]
     },
     "execution_count": 502,
     "metadata": {},
     "output_type": "execute_result"
    }
   ],
   "source": [
    "24931/177"
   ]
  },
  {
   "cell_type": "code",
   "execution_count": 129,
   "metadata": {},
   "outputs": [
    {
     "data": {
      "text/plain": [
       "0    199394\n",
       "1      1470\n",
       "Name: biao, dtype: int64"
      ]
     },
     "execution_count": 129,
     "metadata": {},
     "output_type": "execute_result"
    }
   ],
   "source": [
    "df['biao'].value_counts()"
   ]
  },
  {
   "cell_type": "code",
   "execution_count": 130,
   "metadata": {},
   "outputs": [
    {
     "data": {
      "text/plain": [
       "135.6421768707483"
      ]
     },
     "execution_count": 130,
     "metadata": {},
     "output_type": "execute_result"
    }
   ],
   "source": [
    "199394/1470"
   ]
  },
  {
   "cell_type": "code",
   "execution_count": 80,
   "metadata": {},
   "outputs": [
    {
     "data": {
      "text/html": [
       "<div>\n",
       "<style scoped>\n",
       "    .dataframe tbody tr th:only-of-type {\n",
       "        vertical-align: middle;\n",
       "    }\n",
       "\n",
       "    .dataframe tbody tr th {\n",
       "        vertical-align: top;\n",
       "    }\n",
       "\n",
       "    .dataframe thead th {\n",
       "        text-align: right;\n",
       "    }\n",
       "</style>\n",
       "<table border=\"1\" class=\"dataframe\">\n",
       "  <thead>\n",
       "    <tr style=\"text-align: right;\">\n",
       "      <th></th>\n",
       "      <th>ID</th>\n",
       "      <th>Predicted</th>\n",
       "    </tr>\n",
       "  </thead>\n",
       "  <tbody>\n",
       "    <tr>\n",
       "      <th>760</th>\n",
       "      <td>PU-25108</td>\n",
       "      <td>0</td>\n",
       "    </tr>\n",
       "  </tbody>\n",
       "</table>\n",
       "</div>"
      ],
      "text/plain": [
       "           ID  Predicted\n",
       "760  PU-25108          0"
      ]
     },
     "execution_count": 80,
     "metadata": {},
     "output_type": "execute_result"
    }
   ],
   "source": [
    "# Count occurrences of 0s and 1s\n",
    "unique, counts = np.unique(test_pred, return_counts=True)\n",
    "print(\"\\n🔹 Prediction Counts:\")\n",
    "print(dict(zip(unique, counts)))"
   ]
  },
  {
   "cell_type": "code",
   "execution_count": 505,
   "metadata": {},
   "outputs": [],
   "source": [
    "submission_df_3.to_csv(\"Submission//submission_0320_3.csv\",index=False)"
   ]
  },
  {
   "cell_type": "code",
   "execution_count": null,
   "metadata": {},
   "outputs": [],
   "source": []
  }
 ],
 "metadata": {
  "kernelspec": {
   "display_name": "Python 3",
   "language": "python",
   "name": "python3"
  },
  "language_info": {
   "codemirror_mode": {
    "name": "ipython",
    "version": 3
   },
   "file_extension": ".py",
   "mimetype": "text/x-python",
   "name": "python",
   "nbconvert_exporter": "python",
   "pygments_lexer": "ipython3",
   "version": "3.7.3"
  }
 },
 "nbformat": 4,
 "nbformat_minor": 2
}

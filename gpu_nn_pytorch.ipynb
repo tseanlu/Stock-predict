{
 "cells": [
  {
   "cell_type": "code",
   "execution_count": 1,
   "id": "dbe582ba-71cd-4d8f-b66e-28c2d14f20dd",
   "metadata": {},
   "outputs": [],
   "source": [
    "import torch\n",
    "import torch.nn as nn\n",
    "import torch.optim as optim\n",
    "import pandas as pd\n",
    "from torch.utils.data import Dataset, DataLoader\n",
    "from sklearn.model_selection import train_test_split\n",
    "from sklearn.metrics import precision_score, recall_score\n",
    "from sklearn.metrics import f1_score\n",
    "pd.set_option('display.max_columns', None)"
   ]
  },
  {
   "cell_type": "code",
   "execution_count": 4,
   "id": "527c9e9c-cf50-41b8-8aff-bc1731ef206d",
   "metadata": {},
   "outputs": [],
   "source": [
    "class SimpleNN(nn.Module):\n",
    "    def __init__(self, firstLayerCount):\n",
    "        super(SimpleNN, self).__init__()\n",
    "        self.fc1 = nn.Linear(firstLayerCount, 512)\n",
    "        self.relu1 = nn.ReLU()\n",
    "        self.fc2 = nn.Linear(512, 256)\n",
    "        self.relu2 = nn.ReLU()\n",
    "        self.fc3 = nn.Linear(256, 64)\n",
    "        self.relu3 = nn.ReLU()\n",
    "        self.fc4 = nn.Linear(64, 2)  # Assuming you have 2 output classes\n",
    "    \n",
    "    def forward(self, x):\n",
    "        x = self.fc1(x)\n",
    "        x = self.relu1(x)\n",
    "        x = self.fc2(x)\n",
    "        x = self.relu2(x)\n",
    "        x = self.fc3(x)\n",
    "        x = self.relu3(x)\n",
    "        x = self.fc4(x)\n",
    "        return x\n",
    "class MyDataset(Dataset):\n",
    "    def __init__(self, pd_dataFrame):\n",
    "        self.data = pd_dataFrame\n",
    "        self.X = self.data.iloc[:, :-1].values  # all columns except last\n",
    "        self.y = self.data.iloc[:, -1].values   # last column as label\n",
    "\n",
    "    def __len__(self):\n",
    "        return len(self.data)\n",
    "\n",
    "    def __getitem__(self, idx):\n",
    "        X = torch.tensor(self.X[idx], dtype=torch.float32)\n",
    "        y = torch.tensor(self.y[idx], dtype=torch.long)\n",
    "        return X, y"
   ]
  },
  {
   "cell_type": "code",
   "execution_count": 7,
   "id": "40d7740b-ee30-42cc-92b0-e39492b7424f",
   "metadata": {},
   "outputs": [
    {
     "name": "stdout",
     "output_type": "stream",
     "text": [
      "Using device: cuda\n"
     ]
    }
   ],
   "source": [
    "# Initialize model and move to device\n",
    "device = torch.device(\"cuda\" if torch.cuda.is_available() else \"cpu\")\n",
    "print(f\"Using device: {device}\")"
   ]
  },
  {
   "cell_type": "code",
   "execution_count": 8,
   "id": "8ff0e5c6-2947-4e01-90b1-0cf028c1b7a1",
   "metadata": {},
   "outputs": [],
   "source": [
    "df = pd.read_csv(\"Trim_train/split_part_1.csv\")\n",
    "# threshold = 0.95  # Keep only columns with ≥ 5% data\n",
    "# df = df.dropna(axis=1, thresh=int(threshold * len(df)))\n",
    "df = df.drop(\"ID\", axis=1)\n",
    "df = df.fillna(df.mean())"
   ]
  },
  {
   "cell_type": "code",
   "execution_count": 9,
   "id": "d83b6ddf-3b01-4c8c-8a3c-f5b3765e827d",
   "metadata": {},
   "outputs": [],
   "source": [
    "train_df, test_df = train_test_split(df, test_size=0.2, random_state=42)\n",
    "train_dataset = MyDataset(train_df)\n",
    "test_dataset = MyDataset(test_df)\n",
    "# DataLoader for batching\n",
    "train_loader = DataLoader(train_dataset, batch_size=64, shuffle=False)\n",
    "test_loader = DataLoader(test_dataset, batch_size=64, shuffle=False)"
   ]
  },
  {
   "cell_type": "code",
   "execution_count": 12,
   "id": "d37508a6-00bc-415b-8838-e5850c757e8d",
   "metadata": {},
   "outputs": [
    {
     "name": "stdout",
     "output_type": "stream",
     "text": [
      "Epoch [1/10], Loss: nan\n",
      "Epoch [2/10], Loss: nan\n",
      "Epoch [3/10], Loss: nan\n",
      "Epoch [4/10], Loss: nan\n",
      "Epoch [5/10], Loss: nan\n",
      "Epoch [6/10], Loss: nan\n",
      "Epoch [7/10], Loss: nan\n",
      "Epoch [8/10], Loss: nan\n",
      "Epoch [9/10], Loss: nan\n",
      "Epoch [10/10], Loss: nan\n"
     ]
    }
   ],
   "source": [
    "# Assuming your SimpleNN model and device setup from earlier\n",
    "model = SimpleNN(len(train_df.columns)-1).to(device)\n",
    "criterion = nn.CrossEntropyLoss()\n",
    "optimizer = optim.Adam(model.parameters(), lr=0.001)\n",
    "num_epochs = 10  # You can adjust this\n",
    "\n",
    "for epoch in range(num_epochs):\n",
    "    model.train()  # set model to training mode\n",
    "    running_loss = 0.0\n",
    "    \n",
    "    for X_batch, y_batch in train_loader:\n",
    "        X_batch, y_batch = X_batch.to(device), y_batch.to(device)\n",
    "\n",
    "        # Forward pass\n",
    "        outputs = model(X_batch)\n",
    "        loss = criterion(outputs, y_batch)\n",
    "        \n",
    "        # Backpropagation\n",
    "        optimizer.zero_grad()\n",
    "        loss.backward()\n",
    "        optimizer.step()\n",
    "        \n",
    "        running_loss += loss.item()\n",
    "    \n",
    "    avg_loss = running_loss / len(train_loader)\n",
    "    print(f\"Epoch [{epoch+1}/{num_epochs}], Loss: {avg_loss:.4f}\")"
   ]
  },
  {
   "cell_type": "code",
   "execution_count": 13,
   "id": "726a41ea-9e21-4036-b305-2b41ce763f21",
   "metadata": {},
   "outputs": [
    {
     "name": "stdout",
     "output_type": "stream",
     "text": [
      "X_batch shape: torch.Size([64, 10212])\n",
      "y_batch shape: torch.Size([64])\n"
     ]
    }
   ],
   "source": [
    "for X_batch, y_batch in train_loader:\n",
    "    print(\"X_batch shape:\", X_batch.shape)\n",
    "    print(\"y_batch shape:\", y_batch.shape)\n",
    "    break"
   ]
  },
  {
   "cell_type": "code",
   "execution_count": 13,
   "id": "7524966f-07c6-4466-84b3-a147fabc3ebf",
   "metadata": {},
   "outputs": [
    {
     "name": "stdout",
     "output_type": "stream",
     "text": [
      "Precision: 0.000000\n",
      "Recall: 0.000000\n",
      "F1 Score: 0.0000\n"
     ]
    },
    {
     "name": "stderr",
     "output_type": "stream",
     "text": [
      "C:\\Users\\Lu\\AppData\\Local\\Packages\\PythonSoftwareFoundation.Python.3.9_qbz5n2kfra8p0\\LocalCache\\local-packages\\Python39\\site-packages\\sklearn\\metrics\\_classification.py:1469: UndefinedMetricWarning: Precision is ill-defined and being set to 0.0 due to no predicted samples. Use `zero_division` parameter to control this behavior.\n",
      "  _warn_prf(average, modifier, msg_start, len(result))\n"
     ]
    }
   ],
   "source": [
    "# check test score\n",
    "\n",
    "model.eval()  # Set model to evaluation mode\n",
    "\n",
    "y_true = []  # Store actual labels\n",
    "y_pred = []  # Store predicted labels\n",
    "\n",
    "with torch.no_grad():  # No gradient computation for inference\n",
    "    for X_test, y_test in test_loader:\n",
    "        X_test, y_test = X_test.to(device), y_test.to(device)\n",
    "\n",
    "        # Forward pass\n",
    "        outputs = model(X_test)\n",
    "\n",
    "        # Get predicted class (index of max probability)\n",
    "        _, predicted = torch.max(outputs, 1)\n",
    "\n",
    "        # Store values\n",
    "        y_true.extend(y_test.cpu().numpy())  # Move to CPU and convert to NumPy\n",
    "        y_pred.extend(predicted.cpu().numpy())\n",
    "\n",
    "\n",
    "precision = precision_score(y_true, y_pred)\n",
    "recall = recall_score(y_true, y_pred)\n",
    "f1 = f1_score(y_true, y_pred)\n",
    "\n",
    "print(f\"Precision: {precision:.6f}\")\n",
    "print(f\"Recall: {recall:.6f}\")\n",
    "print(f\"F1 Score: {f1:.4f}\")"
   ]
  },
  {
   "cell_type": "code",
   "execution_count": null,
   "id": "3f304b3b-0e2f-48c2-868e-5379885dfb6b",
   "metadata": {},
   "outputs": [],
   "source": []
  }
 ],
 "metadata": {
  "kernelspec": {
   "display_name": "Python 3 (ipykernel)",
   "language": "python",
   "name": "python3"
  },
  "language_info": {
   "codemirror_mode": {
    "name": "ipython",
    "version": 3
   },
   "file_extension": ".py",
   "mimetype": "text/x-python",
   "name": "python",
   "nbconvert_exporter": "python",
   "pygments_lexer": "ipython3",
   "version": "3.9.13"
  }
 },
 "nbformat": 4,
 "nbformat_minor": 5
}

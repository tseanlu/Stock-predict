{
 "cells": [
  {
   "cell_type": "code",
   "execution_count": 16,
   "id": "dbe582ba-71cd-4d8f-b66e-28c2d14f20dd",
   "metadata": {},
   "outputs": [],
   "source": [
    "import torch\n",
    "import torch.nn as nn\n",
    "import torch.optim as optim\n",
    "import pandas as pd\n",
    "from torch.utils.data import Dataset, DataLoader\n",
    "pd.set_option('display.max_columns', None)"
   ]
  },
  {
   "cell_type": "code",
   "execution_count": 2,
   "id": "40d7740b-ee30-42cc-92b0-e39492b7424f",
   "metadata": {},
   "outputs": [
    {
     "name": "stdout",
     "output_type": "stream",
     "text": [
      "Using device: cuda\n"
     ]
    }
   ],
   "source": [
    "# Initialize model and move to device\n",
    "device = torch.device(\"cuda\" if torch.cuda.is_available() else \"cpu\")\n",
    "print(f\"Using device: {device}\")\n",
    "model = SimpleNN().to(device)"
   ]
  },
  {
   "cell_type": "code",
   "execution_count": 32,
   "id": "527c9e9c-cf50-41b8-8aff-bc1731ef206d",
   "metadata": {},
   "outputs": [],
   "source": [
    "class SimpleNN(nn.Module):\n",
    "    def __init__(self):\n",
    "        super(SimpleNN, self).__init__()\n",
    "        self.fc1 = nn.Linear(10212, 512)\n",
    "        self.relu1 = nn.ReLU()\n",
    "        self.fc2 = nn.Linear(512, 256)\n",
    "        self.relu2 = nn.ReLU()\n",
    "        self.fc3 = nn.Linear(256, 64)\n",
    "        self.relu3 = nn.ReLU()\n",
    "        self.fc4 = nn.Linear(64, 2)  # Assuming you have 10 output classes\n",
    "    \n",
    "    def forward(self, x):\n",
    "        x = self.fc1(x)\n",
    "        x = self.relu1(x)\n",
    "        x = self.fc2(x)\n",
    "        x = self.relu2(x)\n",
    "        x = self.fc3(x)\n",
    "        x = self.relu3(x)\n",
    "        x = self.fc4(x)\n",
    "        return x"
   ]
  },
  {
   "cell_type": "code",
   "execution_count": 25,
   "id": "4ed7105d-564d-4da5-8cff-e9deefd56363",
   "metadata": {},
   "outputs": [],
   "source": [
    "class MyDataset(Dataset):\n",
    "    def __init__(self, pd_dataFrame):\n",
    "        self.data = pd_dataFrame\n",
    "        self.X = self.data.iloc[:, :-1].values  # all columns except last\n",
    "        self.y = self.data.iloc[:, -1].values   # last column as label\n",
    "\n",
    "    def __len__(self):\n",
    "        return len(self.data)\n",
    "\n",
    "    def __getitem__(self, idx):\n",
    "        X = torch.tensor(self.X[idx], dtype=torch.float32)\n",
    "        y = torch.tensor(self.y[idx], dtype=torch.long)\n",
    "        return X, y"
   ]
  },
  {
   "cell_type": "code",
   "execution_count": 26,
   "id": "d83b6ddf-3b01-4c8c-8a3c-f5b3765e827d",
   "metadata": {},
   "outputs": [],
   "source": [
    "df = pd.read_csv('Trim_train/split_part_1.csv')\n",
    "df = df.drop(\"ID\", axis=1)\n",
    "df = df.fillna(0)\n",
    "train_dataset = MyDataset(df)\n",
    "#test_dataset = MyDataset('test.csv')\n",
    "# DataLoader for batching\n",
    "train_loader = DataLoader(train_dataset, batch_size=64, shuffle=True)\n",
    "# test_loader = DataLoader(test_dataset, batch_size=64, shuffle=False)"
   ]
  },
  {
   "cell_type": "code",
   "execution_count": 33,
   "id": "31e37921-a0bb-4898-8f8c-8106b0063c69",
   "metadata": {},
   "outputs": [],
   "source": [
    "# Assuming your SimpleNN model and device setup from earlier\n",
    "model = SimpleNN().to(device)\n",
    "criterion = nn.CrossEntropyLoss()\n",
    "optimizer = optim.Adam(model.parameters(), lr=0.001)"
   ]
  },
  {
   "cell_type": "code",
   "execution_count": 34,
   "id": "d37508a6-00bc-415b-8838-e5850c757e8d",
   "metadata": {},
   "outputs": [
    {
     "name": "stdout",
     "output_type": "stream",
     "text": [
      "Epoch [1/10], Loss: 0.1169\n",
      "Epoch [2/10], Loss: 0.0561\n",
      "Epoch [3/10], Loss: 0.0497\n",
      "Epoch [4/10], Loss: 0.0407\n",
      "Epoch [5/10], Loss: 0.0354\n",
      "Epoch [6/10], Loss: 0.0271\n",
      "Epoch [7/10], Loss: 0.0259\n",
      "Epoch [8/10], Loss: 0.0258\n",
      "Epoch [9/10], Loss: 0.0195\n",
      "Epoch [10/10], Loss: 0.0086\n"
     ]
    }
   ],
   "source": [
    "num_epochs = 10  # You can adjust this\n",
    "\n",
    "for epoch in range(num_epochs):\n",
    "    model.train()  # set model to training mode\n",
    "    running_loss = 0.0\n",
    "    \n",
    "    for X_batch, y_batch in train_loader:\n",
    "        X_batch, y_batch = X_batch.to(device), y_batch.to(device)\n",
    "\n",
    "        # Forward pass\n",
    "        outputs = model(X_batch)\n",
    "        loss = criterion(outputs, y_batch)\n",
    "        \n",
    "        # Backpropagation\n",
    "        optimizer.zero_grad()\n",
    "        loss.backward()\n",
    "        optimizer.step()\n",
    "        \n",
    "        running_loss += loss.item()\n",
    "    \n",
    "    avg_loss = running_loss / len(train_loader)\n",
    "    print(f\"Epoch [{epoch+1}/{num_epochs}], Loss: {avg_loss:.4f}\")"
   ]
  }
 ],
 "metadata": {
  "kernelspec": {
   "display_name": "Python 3 (ipykernel)",
   "language": "python",
   "name": "python3"
  },
  "language_info": {
   "codemirror_mode": {
    "name": "ipython",
    "version": 3
   },
   "file_extension": ".py",
   "mimetype": "text/x-python",
   "name": "python",
   "nbconvert_exporter": "python",
   "pygments_lexer": "ipython3",
   "version": "3.9.13"
  }
 },
 "nbformat": 4,
 "nbformat_minor": 5
}
